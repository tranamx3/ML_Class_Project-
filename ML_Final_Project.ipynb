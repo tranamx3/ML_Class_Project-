{
  "cells": [
    {
      "cell_type": "markdown",
      "id": "7aaf9100",
      "metadata": {
        "id": "7aaf9100"
      },
      "source": [
        "# ML Final project\n",
        "### BAX 452-001\n",
        "\n",
        "**03/10/2024**\n",
        "\n",
        "**Group 1: Nithyashre, Yuxin Li, Chi Nam Tran, Zhouling Shen**"
      ]
    },
    {
      "cell_type": "markdown",
      "source": [
        "### Introduction\n",
        "\n",
        "To embark on the exploration and analysis of a dataset featuring blockchain financial transactions within the Open Metaverse (https://www.kaggle.com/datasets/faizaniftikharjanjua/metaverse-financial-transactions-dataset) , we will undertake a structured approach to unravel the complexities and insights embedded in the data. Our objective is to enhance the understanding of anomaly detection, fraud analysis, and predictive analytics within this burgeoning virtual space.\n",
        "\n",
        "The dataset at hand presents an amalgamation of transaction types, user behaviors, and varied risk profiles from across the globe, offering a realistic and applicable landscape for in-depth analysis. We aim to employ a sequence of analytical steps, beginning with the encoding of categorical variables to facilitate their inclusion in machine learning models. An exploratory data analysis (EDA) will follow, providing a visual and statistical investigation into the nature and characteristics of the dataset.\n",
        "\n",
        "Subsequently, we will navigate through an array of machine learning models, assessing their suitability and performance in capturing the patterns and predictive signals inherent in the data. The final phase of our analysis will concentrate on extracting significant variables from the highest-performing model based on chosen metrics, thereby pinpointing the key drivers of the risk score within the Open Metaverse. This methodical progression from data preprocessing to model evaluation and feature importance will serve to illuminate the factors that influence virtual financial transactions, thereby contributing valuable insights to the domain of metaverse analytics.\n"
      ],
      "metadata": {
        "id": "QGNZtUPV50Ud"
      },
      "id": "QGNZtUPV50Ud"
    },
    {
      "cell_type": "code",
      "execution_count": null,
      "id": "d0f4a1e0",
      "metadata": {
        "id": "d0f4a1e0"
      },
      "outputs": [],
      "source": [
        "## import all needed sources\n",
        "import time\n",
        "import numpy as np\n",
        "import pandas as pd\n",
        "import seaborn as sns\n",
        "from sklearn import tree\n",
        "import plotly.express as px\n",
        "import statsmodels.api as sm\n",
        "import matplotlib.pyplot as plt\n",
        "from scipy.stats import norm, skew\n",
        "from sklearn.cluster import KMeans\n",
        "import statsmodels.formula.api as smf\n",
        "from sklearn.compose import ColumnTransformer\n",
        "from sklearn.preprocessing import LabelEncoder\n",
        "from sklearn.preprocessing import MinMaxScaler\n",
        "from sklearn.linear_model import LinearRegression\n",
        "from sklearn.metrics import roc_auc_score, log_loss\n",
        "from sklearn.linear_model import Lasso, Ridge\n",
        "from sklearn.preprocessing import StandardScaler, OneHotEncoder\n",
        "from sklearn.model_selection import train_test_split, cross_val_score\n",
        "from sklearn.metrics import classification_report, confusion_matrix,classification_report\n",
        "from sklearn.metrics import accuracy_score, mean_squared_error, r2_score, precision_score,recall_score\n",
        "import plotly.graph_objects as go"
      ]
    },
    {
      "cell_type": "code",
      "execution_count": null,
      "id": "b0360149",
      "metadata": {
        "id": "b0360149"
      },
      "outputs": [],
      "source": [
        "metaverse = pd.read_csv(\"metaverse_transactions_dataset.csv\")"
      ]
    },
    {
      "cell_type": "code",
      "execution_count": null,
      "id": "a1966268",
      "metadata": {
        "scrolled": true,
        "id": "a1966268",
        "outputId": "527f10e7-ae20-49a9-a2fb-b9534c0a0a35",
        "colab": {
          "base_uri": "https://localhost:8080/",
          "height": 400
        }
      },
      "outputs": [
        {
          "output_type": "execute_result",
          "data": {
            "text/plain": [
              "             timestamp  hour_of_day  \\\n",
              "0  2022-04-11 12:47:27           12   \n",
              "1  2022-06-14 19:12:46           19   \n",
              "2  2022-01-18 16:26:59           16   \n",
              "3  2022-06-15 09:20:04            9   \n",
              "4  2022-02-18 14:35:30           14   \n",
              "\n",
              "                              sending_address  \\\n",
              "0  0x9d32d0bf2c00f41ce7ca01b66e174cc4dcb0c1da   \n",
              "1  0xd6e251c23cbf52dbd472f079147873e655d8096f   \n",
              "2  0x2e0925b922fed01f6a85d213ae2718f54b8ca305   \n",
              "3  0x93efefc25fcaf31d7695f28018d7a11ece55457f   \n",
              "4  0xad3b8de45d63f5cce28aef9a82cf30c397c6ceb9   \n",
              "\n",
              "                            receiving_address      amount transaction_type  \\\n",
              "0  0x39f82e1c09bc6d7baccc1e79e5621ff812f50572  796.949206         transfer   \n",
              "1  0x51e8fbe24f124e0e30a614e14401b9bbfed5384c    0.010000         purchase   \n",
              "2  0x52c7911879f783d590af45bda0c0ef2b8536706f  778.197390         purchase   \n",
              "3  0x8ac3b7bd531b3a833032f07d4e47c7af6ea7bace  300.838358         transfer   \n",
              "4  0x6fdc047c2391615b3facd79b4588c7e9106e49f2  775.569344             sale   \n",
              "\n",
              "  location_region  ip_prefix  login_frequency  session_duration  \\\n",
              "0          Europe    192.000                3                48   \n",
              "1   South America    172.000                5                61   \n",
              "2            Asia    192.168                3                74   \n",
              "3   South America    172.000                8               111   \n",
              "4          Africa    172.160                6               100   \n",
              "\n",
              "  purchase_pattern    age_group  risk_score        anomaly  \n",
              "0          focused  established       18.75       low_risk  \n",
              "1          focused  established       25.00       low_risk  \n",
              "2          focused  established       31.25       low_risk  \n",
              "3       high_value      veteran       36.75       low_risk  \n",
              "4       high_value      veteran       62.50  moderate_risk  "
            ],
            "text/html": [
              "\n",
              "  <div id=\"df-6bcfe971-559c-47ee-9fda-213bca31bec8\" class=\"colab-df-container\">\n",
              "    <div>\n",
              "<style scoped>\n",
              "    .dataframe tbody tr th:only-of-type {\n",
              "        vertical-align: middle;\n",
              "    }\n",
              "\n",
              "    .dataframe tbody tr th {\n",
              "        vertical-align: top;\n",
              "    }\n",
              "\n",
              "    .dataframe thead th {\n",
              "        text-align: right;\n",
              "    }\n",
              "</style>\n",
              "<table border=\"1\" class=\"dataframe\">\n",
              "  <thead>\n",
              "    <tr style=\"text-align: right;\">\n",
              "      <th></th>\n",
              "      <th>timestamp</th>\n",
              "      <th>hour_of_day</th>\n",
              "      <th>sending_address</th>\n",
              "      <th>receiving_address</th>\n",
              "      <th>amount</th>\n",
              "      <th>transaction_type</th>\n",
              "      <th>location_region</th>\n",
              "      <th>ip_prefix</th>\n",
              "      <th>login_frequency</th>\n",
              "      <th>session_duration</th>\n",
              "      <th>purchase_pattern</th>\n",
              "      <th>age_group</th>\n",
              "      <th>risk_score</th>\n",
              "      <th>anomaly</th>\n",
              "    </tr>\n",
              "  </thead>\n",
              "  <tbody>\n",
              "    <tr>\n",
              "      <th>0</th>\n",
              "      <td>2022-04-11 12:47:27</td>\n",
              "      <td>12</td>\n",
              "      <td>0x9d32d0bf2c00f41ce7ca01b66e174cc4dcb0c1da</td>\n",
              "      <td>0x39f82e1c09bc6d7baccc1e79e5621ff812f50572</td>\n",
              "      <td>796.949206</td>\n",
              "      <td>transfer</td>\n",
              "      <td>Europe</td>\n",
              "      <td>192.000</td>\n",
              "      <td>3</td>\n",
              "      <td>48</td>\n",
              "      <td>focused</td>\n",
              "      <td>established</td>\n",
              "      <td>18.75</td>\n",
              "      <td>low_risk</td>\n",
              "    </tr>\n",
              "    <tr>\n",
              "      <th>1</th>\n",
              "      <td>2022-06-14 19:12:46</td>\n",
              "      <td>19</td>\n",
              "      <td>0xd6e251c23cbf52dbd472f079147873e655d8096f</td>\n",
              "      <td>0x51e8fbe24f124e0e30a614e14401b9bbfed5384c</td>\n",
              "      <td>0.010000</td>\n",
              "      <td>purchase</td>\n",
              "      <td>South America</td>\n",
              "      <td>172.000</td>\n",
              "      <td>5</td>\n",
              "      <td>61</td>\n",
              "      <td>focused</td>\n",
              "      <td>established</td>\n",
              "      <td>25.00</td>\n",
              "      <td>low_risk</td>\n",
              "    </tr>\n",
              "    <tr>\n",
              "      <th>2</th>\n",
              "      <td>2022-01-18 16:26:59</td>\n",
              "      <td>16</td>\n",
              "      <td>0x2e0925b922fed01f6a85d213ae2718f54b8ca305</td>\n",
              "      <td>0x52c7911879f783d590af45bda0c0ef2b8536706f</td>\n",
              "      <td>778.197390</td>\n",
              "      <td>purchase</td>\n",
              "      <td>Asia</td>\n",
              "      <td>192.168</td>\n",
              "      <td>3</td>\n",
              "      <td>74</td>\n",
              "      <td>focused</td>\n",
              "      <td>established</td>\n",
              "      <td>31.25</td>\n",
              "      <td>low_risk</td>\n",
              "    </tr>\n",
              "    <tr>\n",
              "      <th>3</th>\n",
              "      <td>2022-06-15 09:20:04</td>\n",
              "      <td>9</td>\n",
              "      <td>0x93efefc25fcaf31d7695f28018d7a11ece55457f</td>\n",
              "      <td>0x8ac3b7bd531b3a833032f07d4e47c7af6ea7bace</td>\n",
              "      <td>300.838358</td>\n",
              "      <td>transfer</td>\n",
              "      <td>South America</td>\n",
              "      <td>172.000</td>\n",
              "      <td>8</td>\n",
              "      <td>111</td>\n",
              "      <td>high_value</td>\n",
              "      <td>veteran</td>\n",
              "      <td>36.75</td>\n",
              "      <td>low_risk</td>\n",
              "    </tr>\n",
              "    <tr>\n",
              "      <th>4</th>\n",
              "      <td>2022-02-18 14:35:30</td>\n",
              "      <td>14</td>\n",
              "      <td>0xad3b8de45d63f5cce28aef9a82cf30c397c6ceb9</td>\n",
              "      <td>0x6fdc047c2391615b3facd79b4588c7e9106e49f2</td>\n",
              "      <td>775.569344</td>\n",
              "      <td>sale</td>\n",
              "      <td>Africa</td>\n",
              "      <td>172.160</td>\n",
              "      <td>6</td>\n",
              "      <td>100</td>\n",
              "      <td>high_value</td>\n",
              "      <td>veteran</td>\n",
              "      <td>62.50</td>\n",
              "      <td>moderate_risk</td>\n",
              "    </tr>\n",
              "  </tbody>\n",
              "</table>\n",
              "</div>\n",
              "    <div class=\"colab-df-buttons\">\n",
              "\n",
              "  <div class=\"colab-df-container\">\n",
              "    <button class=\"colab-df-convert\" onclick=\"convertToInteractive('df-6bcfe971-559c-47ee-9fda-213bca31bec8')\"\n",
              "            title=\"Convert this dataframe to an interactive table.\"\n",
              "            style=\"display:none;\">\n",
              "\n",
              "  <svg xmlns=\"http://www.w3.org/2000/svg\" height=\"24px\" viewBox=\"0 -960 960 960\">\n",
              "    <path d=\"M120-120v-720h720v720H120Zm60-500h600v-160H180v160Zm220 220h160v-160H400v160Zm0 220h160v-160H400v160ZM180-400h160v-160H180v160Zm440 0h160v-160H620v160ZM180-180h160v-160H180v160Zm440 0h160v-160H620v160Z\"/>\n",
              "  </svg>\n",
              "    </button>\n",
              "\n",
              "  <style>\n",
              "    .colab-df-container {\n",
              "      display:flex;\n",
              "      gap: 12px;\n",
              "    }\n",
              "\n",
              "    .colab-df-convert {\n",
              "      background-color: #E8F0FE;\n",
              "      border: none;\n",
              "      border-radius: 50%;\n",
              "      cursor: pointer;\n",
              "      display: none;\n",
              "      fill: #1967D2;\n",
              "      height: 32px;\n",
              "      padding: 0 0 0 0;\n",
              "      width: 32px;\n",
              "    }\n",
              "\n",
              "    .colab-df-convert:hover {\n",
              "      background-color: #E2EBFA;\n",
              "      box-shadow: 0px 1px 2px rgba(60, 64, 67, 0.3), 0px 1px 3px 1px rgba(60, 64, 67, 0.15);\n",
              "      fill: #174EA6;\n",
              "    }\n",
              "\n",
              "    .colab-df-buttons div {\n",
              "      margin-bottom: 4px;\n",
              "    }\n",
              "\n",
              "    [theme=dark] .colab-df-convert {\n",
              "      background-color: #3B4455;\n",
              "      fill: #D2E3FC;\n",
              "    }\n",
              "\n",
              "    [theme=dark] .colab-df-convert:hover {\n",
              "      background-color: #434B5C;\n",
              "      box-shadow: 0px 1px 3px 1px rgba(0, 0, 0, 0.15);\n",
              "      filter: drop-shadow(0px 1px 2px rgba(0, 0, 0, 0.3));\n",
              "      fill: #FFFFFF;\n",
              "    }\n",
              "  </style>\n",
              "\n",
              "    <script>\n",
              "      const buttonEl =\n",
              "        document.querySelector('#df-6bcfe971-559c-47ee-9fda-213bca31bec8 button.colab-df-convert');\n",
              "      buttonEl.style.display =\n",
              "        google.colab.kernel.accessAllowed ? 'block' : 'none';\n",
              "\n",
              "      async function convertToInteractive(key) {\n",
              "        const element = document.querySelector('#df-6bcfe971-559c-47ee-9fda-213bca31bec8');\n",
              "        const dataTable =\n",
              "          await google.colab.kernel.invokeFunction('convertToInteractive',\n",
              "                                                    [key], {});\n",
              "        if (!dataTable) return;\n",
              "\n",
              "        const docLinkHtml = 'Like what you see? Visit the ' +\n",
              "          '<a target=\"_blank\" href=https://colab.research.google.com/notebooks/data_table.ipynb>data table notebook</a>'\n",
              "          + ' to learn more about interactive tables.';\n",
              "        element.innerHTML = '';\n",
              "        dataTable['output_type'] = 'display_data';\n",
              "        await google.colab.output.renderOutput(dataTable, element);\n",
              "        const docLink = document.createElement('div');\n",
              "        docLink.innerHTML = docLinkHtml;\n",
              "        element.appendChild(docLink);\n",
              "      }\n",
              "    </script>\n",
              "  </div>\n",
              "\n",
              "\n",
              "<div id=\"df-1c2fe4be-f66e-4f79-bb8f-6c1cda9a4546\">\n",
              "  <button class=\"colab-df-quickchart\" onclick=\"quickchart('df-1c2fe4be-f66e-4f79-bb8f-6c1cda9a4546')\"\n",
              "            title=\"Suggest charts\"\n",
              "            style=\"display:none;\">\n",
              "\n",
              "<svg xmlns=\"http://www.w3.org/2000/svg\" height=\"24px\"viewBox=\"0 0 24 24\"\n",
              "     width=\"24px\">\n",
              "    <g>\n",
              "        <path d=\"M19 3H5c-1.1 0-2 .9-2 2v14c0 1.1.9 2 2 2h14c1.1 0 2-.9 2-2V5c0-1.1-.9-2-2-2zM9 17H7v-7h2v7zm4 0h-2V7h2v10zm4 0h-2v-4h2v4z\"/>\n",
              "    </g>\n",
              "</svg>\n",
              "  </button>\n",
              "\n",
              "<style>\n",
              "  .colab-df-quickchart {\n",
              "      --bg-color: #E8F0FE;\n",
              "      --fill-color: #1967D2;\n",
              "      --hover-bg-color: #E2EBFA;\n",
              "      --hover-fill-color: #174EA6;\n",
              "      --disabled-fill-color: #AAA;\n",
              "      --disabled-bg-color: #DDD;\n",
              "  }\n",
              "\n",
              "  [theme=dark] .colab-df-quickchart {\n",
              "      --bg-color: #3B4455;\n",
              "      --fill-color: #D2E3FC;\n",
              "      --hover-bg-color: #434B5C;\n",
              "      --hover-fill-color: #FFFFFF;\n",
              "      --disabled-bg-color: #3B4455;\n",
              "      --disabled-fill-color: #666;\n",
              "  }\n",
              "\n",
              "  .colab-df-quickchart {\n",
              "    background-color: var(--bg-color);\n",
              "    border: none;\n",
              "    border-radius: 50%;\n",
              "    cursor: pointer;\n",
              "    display: none;\n",
              "    fill: var(--fill-color);\n",
              "    height: 32px;\n",
              "    padding: 0;\n",
              "    width: 32px;\n",
              "  }\n",
              "\n",
              "  .colab-df-quickchart:hover {\n",
              "    background-color: var(--hover-bg-color);\n",
              "    box-shadow: 0 1px 2px rgba(60, 64, 67, 0.3), 0 1px 3px 1px rgba(60, 64, 67, 0.15);\n",
              "    fill: var(--button-hover-fill-color);\n",
              "  }\n",
              "\n",
              "  .colab-df-quickchart-complete:disabled,\n",
              "  .colab-df-quickchart-complete:disabled:hover {\n",
              "    background-color: var(--disabled-bg-color);\n",
              "    fill: var(--disabled-fill-color);\n",
              "    box-shadow: none;\n",
              "  }\n",
              "\n",
              "  .colab-df-spinner {\n",
              "    border: 2px solid var(--fill-color);\n",
              "    border-color: transparent;\n",
              "    border-bottom-color: var(--fill-color);\n",
              "    animation:\n",
              "      spin 1s steps(1) infinite;\n",
              "  }\n",
              "\n",
              "  @keyframes spin {\n",
              "    0% {\n",
              "      border-color: transparent;\n",
              "      border-bottom-color: var(--fill-color);\n",
              "      border-left-color: var(--fill-color);\n",
              "    }\n",
              "    20% {\n",
              "      border-color: transparent;\n",
              "      border-left-color: var(--fill-color);\n",
              "      border-top-color: var(--fill-color);\n",
              "    }\n",
              "    30% {\n",
              "      border-color: transparent;\n",
              "      border-left-color: var(--fill-color);\n",
              "      border-top-color: var(--fill-color);\n",
              "      border-right-color: var(--fill-color);\n",
              "    }\n",
              "    40% {\n",
              "      border-color: transparent;\n",
              "      border-right-color: var(--fill-color);\n",
              "      border-top-color: var(--fill-color);\n",
              "    }\n",
              "    60% {\n",
              "      border-color: transparent;\n",
              "      border-right-color: var(--fill-color);\n",
              "    }\n",
              "    80% {\n",
              "      border-color: transparent;\n",
              "      border-right-color: var(--fill-color);\n",
              "      border-bottom-color: var(--fill-color);\n",
              "    }\n",
              "    90% {\n",
              "      border-color: transparent;\n",
              "      border-bottom-color: var(--fill-color);\n",
              "    }\n",
              "  }\n",
              "</style>\n",
              "\n",
              "  <script>\n",
              "    async function quickchart(key) {\n",
              "      const quickchartButtonEl =\n",
              "        document.querySelector('#' + key + ' button');\n",
              "      quickchartButtonEl.disabled = true;  // To prevent multiple clicks.\n",
              "      quickchartButtonEl.classList.add('colab-df-spinner');\n",
              "      try {\n",
              "        const charts = await google.colab.kernel.invokeFunction(\n",
              "            'suggestCharts', [key], {});\n",
              "      } catch (error) {\n",
              "        console.error('Error during call to suggestCharts:', error);\n",
              "      }\n",
              "      quickchartButtonEl.classList.remove('colab-df-spinner');\n",
              "      quickchartButtonEl.classList.add('colab-df-quickchart-complete');\n",
              "    }\n",
              "    (() => {\n",
              "      let quickchartButtonEl =\n",
              "        document.querySelector('#df-1c2fe4be-f66e-4f79-bb8f-6c1cda9a4546 button');\n",
              "      quickchartButtonEl.style.display =\n",
              "        google.colab.kernel.accessAllowed ? 'block' : 'none';\n",
              "    })();\n",
              "  </script>\n",
              "</div>\n",
              "    </div>\n",
              "  </div>\n"
            ],
            "application/vnd.google.colaboratory.intrinsic+json": {
              "type": "dataframe",
              "variable_name": "metaverse",
              "summary": "{\n  \"name\": \"metaverse\",\n  \"rows\": 78600,\n  \"fields\": [\n    {\n      \"column\": \"timestamp\",\n      \"properties\": {\n        \"dtype\": \"object\",\n        \"num_unique_values\": 78513,\n        \"samples\": [\n          \"2022-01-30 05:37:20\",\n          \"2022-11-15 16:12:17\",\n          \"2022-02-04 16:42:08\"\n        ],\n        \"semantic_type\": \"\",\n        \"description\": \"\"\n      }\n    },\n    {\n      \"column\": \"hour_of_day\",\n      \"properties\": {\n        \"dtype\": \"number\",\n        \"std\": 6,\n        \"min\": 0,\n        \"max\": 23,\n        \"num_unique_values\": 24,\n        \"samples\": [\n          20,\n          2,\n          12\n        ],\n        \"semantic_type\": \"\",\n        \"description\": \"\"\n      }\n    },\n    {\n      \"column\": \"sending_address\",\n      \"properties\": {\n        \"dtype\": \"category\",\n        \"num_unique_values\": 1161,\n        \"samples\": [\n          \"0x3bf693e243818239910d10ddea5d88ff88e2d5af\",\n          \"0x7830060160fc83efc46f5373627fbaba41d58b11\",\n          \"0xc6ed1f1e2a785b1991a0c2a877d19c750a7018b3\"\n        ],\n        \"semantic_type\": \"\",\n        \"description\": \"\"\n      }\n    },\n    {\n      \"column\": \"receiving_address\",\n      \"properties\": {\n        \"dtype\": \"category\",\n        \"num_unique_values\": 1166,\n        \"samples\": [\n          \"0x5228fdaad4a4db8eef769aa65059383a2d915068\",\n          \"0x691649f8bff990271b207da5b09c7e6e3c9a20b4\",\n          \"0xa182118703eca1c8a55b242298bda53985f1fb07\"\n        ],\n        \"semantic_type\": \"\",\n        \"description\": \"\"\n      }\n    },\n    {\n      \"column\": \"amount\",\n      \"properties\": {\n        \"dtype\": \"number\",\n        \"std\": 245.8981459128203,\n        \"min\": 0.01,\n        \"max\": 1557.150905156049,\n        \"num_unique_values\": 76771,\n        \"samples\": [\n          274.9589947673373,\n          180.2410484343668,\n          621.2108476394092\n        ],\n        \"semantic_type\": \"\",\n        \"description\": \"\"\n      }\n    },\n    {\n      \"column\": \"transaction_type\",\n      \"properties\": {\n        \"dtype\": \"category\",\n        \"num_unique_values\": 5,\n        \"samples\": [\n          \"purchase\",\n          \"scam\",\n          \"sale\"\n        ],\n        \"semantic_type\": \"\",\n        \"description\": \"\"\n      }\n    },\n    {\n      \"column\": \"location_region\",\n      \"properties\": {\n        \"dtype\": \"category\",\n        \"num_unique_values\": 5,\n        \"samples\": [\n          \"South America\",\n          \"North America\",\n          \"Asia\"\n        ],\n        \"semantic_type\": \"\",\n        \"description\": \"\"\n      }\n    },\n    {\n      \"column\": \"ip_prefix\",\n      \"properties\": {\n        \"dtype\": \"number\",\n        \"std\": 69.38814284990534,\n        \"min\": 10.0,\n        \"max\": 192.168,\n        \"num_unique_values\": 5,\n        \"samples\": [\n          172.0,\n          10.0,\n          192.168\n        ],\n        \"semantic_type\": \"\",\n        \"description\": \"\"\n      }\n    },\n    {\n      \"column\": \"login_frequency\",\n      \"properties\": {\n        \"dtype\": \"number\",\n        \"std\": 2,\n        \"min\": 1,\n        \"max\": 8,\n        \"num_unique_values\": 8,\n        \"samples\": [\n          5,\n          1,\n          3\n        ],\n        \"semantic_type\": \"\",\n        \"description\": \"\"\n      }\n    },\n    {\n      \"column\": \"session_duration\",\n      \"properties\": {\n        \"dtype\": \"number\",\n        \"std\": 40,\n        \"min\": 20,\n        \"max\": 159,\n        \"num_unique_values\": 140,\n        \"samples\": [\n          153,\n          124,\n          82\n        ],\n        \"semantic_type\": \"\",\n        \"description\": \"\"\n      }\n    },\n    {\n      \"column\": \"purchase_pattern\",\n      \"properties\": {\n        \"dtype\": \"category\",\n        \"num_unique_values\": 3,\n        \"samples\": [\n          \"focused\",\n          \"high_value\",\n          \"random\"\n        ],\n        \"semantic_type\": \"\",\n        \"description\": \"\"\n      }\n    },\n    {\n      \"column\": \"age_group\",\n      \"properties\": {\n        \"dtype\": \"category\",\n        \"num_unique_values\": 3,\n        \"samples\": [\n          \"established\",\n          \"veteran\",\n          \"new\"\n        ],\n        \"semantic_type\": \"\",\n        \"description\": \"\"\n      }\n    },\n    {\n      \"column\": \"risk_score\",\n      \"properties\": {\n        \"dtype\": \"number\",\n        \"std\": 21.775365232173453,\n        \"min\": 15.0,\n        \"max\": 100.0,\n        \"num_unique_values\": 31,\n        \"samples\": [\n          56.7,\n          67.5,\n          90.0\n        ],\n        \"semantic_type\": \"\",\n        \"description\": \"\"\n      }\n    },\n    {\n      \"column\": \"anomaly\",\n      \"properties\": {\n        \"dtype\": \"category\",\n        \"num_unique_values\": 3,\n        \"samples\": [\n          \"low_risk\",\n          \"moderate_risk\",\n          \"high_risk\"\n        ],\n        \"semantic_type\": \"\",\n        \"description\": \"\"\n      }\n    }\n  ]\n}"
            }
          },
          "metadata": {},
          "execution_count": 4
        }
      ],
      "source": [
        "metaverse.head()"
      ]
    },
    {
      "cell_type": "markdown",
      "id": "9814111a",
      "metadata": {
        "id": "9814111a"
      },
      "source": [
        "## 1. Understanding the dataset"
      ]
    },
    {
      "cell_type": "code",
      "execution_count": null,
      "id": "5b2cc46a",
      "metadata": {
        "id": "5b2cc46a",
        "outputId": "a041ac0e-1421-460e-9fa0-a053f06c5cb4",
        "colab": {
          "base_uri": "https://localhost:8080/"
        }
      },
      "outputs": [
        {
          "output_type": "stream",
          "name": "stdout",
          "text": [
            "<class 'pandas.core.frame.DataFrame'>\n",
            "RangeIndex: 78600 entries, 0 to 78599\n",
            "Data columns (total 14 columns):\n",
            " #   Column             Non-Null Count  Dtype  \n",
            "---  ------             --------------  -----  \n",
            " 0   timestamp          78600 non-null  object \n",
            " 1   hour_of_day        78600 non-null  int64  \n",
            " 2   sending_address    78600 non-null  object \n",
            " 3   receiving_address  78600 non-null  object \n",
            " 4   amount             78600 non-null  float64\n",
            " 5   transaction_type   78600 non-null  object \n",
            " 6   location_region    78600 non-null  object \n",
            " 7   ip_prefix          78600 non-null  float64\n",
            " 8   login_frequency    78600 non-null  int64  \n",
            " 9   session_duration   78600 non-null  int64  \n",
            " 10  purchase_pattern   78600 non-null  object \n",
            " 11  age_group          78600 non-null  object \n",
            " 12  risk_score         78600 non-null  float64\n",
            " 13  anomaly            78600 non-null  object \n",
            "dtypes: float64(3), int64(3), object(8)\n",
            "memory usage: 8.4+ MB\n"
          ]
        }
      ],
      "source": [
        "metaverse.info() # 78600 entires, 14 columns"
      ]
    },
    {
      "cell_type": "code",
      "execution_count": null,
      "id": "eb93e01a",
      "metadata": {
        "scrolled": false,
        "id": "eb93e01a",
        "outputId": "f5e3ca6d-0d2e-409d-ab25-b2e041f13803",
        "colab": {
          "base_uri": "https://localhost:8080/"
        }
      },
      "outputs": [
        {
          "output_type": "execute_result",
          "data": {
            "text/plain": [
              "timestamp            0\n",
              "hour_of_day          0\n",
              "sending_address      0\n",
              "receiving_address    0\n",
              "amount               0\n",
              "transaction_type     0\n",
              "location_region      0\n",
              "ip_prefix            0\n",
              "login_frequency      0\n",
              "session_duration     0\n",
              "purchase_pattern     0\n",
              "age_group            0\n",
              "risk_score           0\n",
              "anomaly              0\n",
              "dtype: int64"
            ]
          },
          "metadata": {},
          "execution_count": 6
        }
      ],
      "source": [
        "missing_values = metaverse.isnull().sum()\n",
        "missing_values"
      ]
    },
    {
      "cell_type": "markdown",
      "id": "ae12b439",
      "metadata": {
        "id": "ae12b439"
      },
      "source": [
        "## 2. EDA (Exploring Data Analysis)"
      ]
    },
    {
      "cell_type": "code",
      "execution_count": null,
      "id": "2473cd42",
      "metadata": {
        "id": "2473cd42",
        "outputId": "7ae7ec37-56c3-47a6-d8fc-e0990a2e9147",
        "colab": {
          "base_uri": "https://localhost:8080/",
          "height": 542
        }
      },
      "outputs": [
        {
          "output_type": "display_data",
          "data": {
            "text/html": [
              "<html>\n",
              "<head><meta charset=\"utf-8\" /></head>\n",
              "<body>\n",
              "    <div>            <script src=\"https://cdnjs.cloudflare.com/ajax/libs/mathjax/2.7.5/MathJax.js?config=TeX-AMS-MML_SVG\"></script><script type=\"text/javascript\">if (window.MathJax && window.MathJax.Hub && window.MathJax.Hub.Config) {window.MathJax.Hub.Config({SVG: {font: \"STIX-Web\"}});}</script>                <script type=\"text/javascript\">window.PlotlyConfig = {MathJaxConfig: 'local'};</script>\n",
              "        <script charset=\"utf-8\" src=\"https://cdn.plot.ly/plotly-2.24.1.min.js\"></script>                <div id=\"2f0c0013-abde-476f-88ec-9655e1610ced\" class=\"plotly-graph-div\" style=\"height:525px; width:100%;\"></div>            <script type=\"text/javascript\">                                    window.PLOTLYENV=window.PLOTLYENV || {};                                    if (document.getElementById(\"2f0c0013-abde-476f-88ec-9655e1610ced\")) {                    Plotly.newPlot(                        \"2f0c0013-abde-476f-88ec-9655e1610ced\",                        [{\"alignmentgroup\":\"True\",\"hovertemplate\":\"Transaction Type=phishing\\u003cbr\\u003eLocation Region=%{x}\\u003cbr\\u003eCount=%{y}\\u003cextra\\u003e\\u003c\\u002fextra\\u003e\",\"legendgroup\":\"phishing\",\"marker\":{\"color\":\"#636efa\",\"pattern\":{\"shape\":\"\"}},\"name\":\"phishing\",\"offsetgroup\":\"phishing\",\"orientation\":\"v\",\"showlegend\":true,\"textposition\":\"auto\",\"x\":[\"Africa\",\"Asia\",\"Europe\",\"North America\",\"South America\"],\"xaxis\":\"x\",\"y\":[493,527,482,514,530],\"yaxis\":\"y\",\"type\":\"bar\"},{\"alignmentgroup\":\"True\",\"hovertemplate\":\"Transaction Type=purchase\\u003cbr\\u003eLocation Region=%{x}\\u003cbr\\u003eCount=%{y}\\u003cextra\\u003e\\u003c\\u002fextra\\u003e\",\"legendgroup\":\"purchase\",\"marker\":{\"color\":\"#EF553B\",\"pattern\":{\"shape\":\"\"}},\"name\":\"purchase\",\"offsetgroup\":\"purchase\",\"orientation\":\"v\",\"showlegend\":true,\"textposition\":\"auto\",\"x\":[\"Africa\",\"Asia\",\"Europe\",\"North America\",\"South America\"],\"xaxis\":\"x\",\"y\":[4965,4888,5099,5072,4916],\"yaxis\":\"y\",\"type\":\"bar\"},{\"alignmentgroup\":\"True\",\"hovertemplate\":\"Transaction Type=sale\\u003cbr\\u003eLocation Region=%{x}\\u003cbr\\u003eCount=%{y}\\u003cextra\\u003e\\u003c\\u002fextra\\u003e\",\"legendgroup\":\"sale\",\"marker\":{\"color\":\"#00cc96\",\"pattern\":{\"shape\":\"\"}},\"name\":\"sale\",\"offsetgroup\":\"sale\",\"orientation\":\"v\",\"showlegend\":true,\"textposition\":\"auto\",\"x\":[\"Africa\",\"Asia\",\"Europe\",\"North America\",\"South America\"],\"xaxis\":\"x\",\"y\":[4885,5077,5009,5006,5063],\"yaxis\":\"y\",\"type\":\"bar\"},{\"alignmentgroup\":\"True\",\"hovertemplate\":\"Transaction Type=scam\\u003cbr\\u003eLocation Region=%{x}\\u003cbr\\u003eCount=%{y}\\u003cextra\\u003e\\u003c\\u002fextra\\u003e\",\"legendgroup\":\"scam\",\"marker\":{\"color\":\"#ab63fa\",\"pattern\":{\"shape\":\"\"}},\"name\":\"scam\",\"offsetgroup\":\"scam\",\"orientation\":\"v\",\"showlegend\":true,\"textposition\":\"auto\",\"x\":[\"Africa\",\"Asia\",\"Europe\",\"North America\",\"South America\"],\"xaxis\":\"x\",\"y\":[810,785,751,840,763],\"yaxis\":\"y\",\"type\":\"bar\"},{\"alignmentgroup\":\"True\",\"hovertemplate\":\"Transaction Type=transfer\\u003cbr\\u003eLocation Region=%{x}\\u003cbr\\u003eCount=%{y}\\u003cextra\\u003e\\u003c\\u002fextra\\u003e\",\"legendgroup\":\"transfer\",\"marker\":{\"color\":\"#FFA15A\",\"pattern\":{\"shape\":\"\"}},\"name\":\"transfer\",\"offsetgroup\":\"transfer\",\"orientation\":\"v\",\"showlegend\":true,\"textposition\":\"auto\",\"x\":[\"Africa\",\"Asia\",\"Europe\",\"North America\",\"South America\"],\"xaxis\":\"x\",\"y\":[4400,4454,4466,4408,4397],\"yaxis\":\"y\",\"type\":\"bar\"}],                        {\"template\":{\"data\":{\"histogram2dcontour\":[{\"type\":\"histogram2dcontour\",\"colorbar\":{\"outlinewidth\":0,\"ticks\":\"\"},\"colorscale\":[[0.0,\"#0d0887\"],[0.1111111111111111,\"#46039f\"],[0.2222222222222222,\"#7201a8\"],[0.3333333333333333,\"#9c179e\"],[0.4444444444444444,\"#bd3786\"],[0.5555555555555556,\"#d8576b\"],[0.6666666666666666,\"#ed7953\"],[0.7777777777777778,\"#fb9f3a\"],[0.8888888888888888,\"#fdca26\"],[1.0,\"#f0f921\"]]}],\"choropleth\":[{\"type\":\"choropleth\",\"colorbar\":{\"outlinewidth\":0,\"ticks\":\"\"}}],\"histogram2d\":[{\"type\":\"histogram2d\",\"colorbar\":{\"outlinewidth\":0,\"ticks\":\"\"},\"colorscale\":[[0.0,\"#0d0887\"],[0.1111111111111111,\"#46039f\"],[0.2222222222222222,\"#7201a8\"],[0.3333333333333333,\"#9c179e\"],[0.4444444444444444,\"#bd3786\"],[0.5555555555555556,\"#d8576b\"],[0.6666666666666666,\"#ed7953\"],[0.7777777777777778,\"#fb9f3a\"],[0.8888888888888888,\"#fdca26\"],[1.0,\"#f0f921\"]]}],\"heatmap\":[{\"type\":\"heatmap\",\"colorbar\":{\"outlinewidth\":0,\"ticks\":\"\"},\"colorscale\":[[0.0,\"#0d0887\"],[0.1111111111111111,\"#46039f\"],[0.2222222222222222,\"#7201a8\"],[0.3333333333333333,\"#9c179e\"],[0.4444444444444444,\"#bd3786\"],[0.5555555555555556,\"#d8576b\"],[0.6666666666666666,\"#ed7953\"],[0.7777777777777778,\"#fb9f3a\"],[0.8888888888888888,\"#fdca26\"],[1.0,\"#f0f921\"]]}],\"heatmapgl\":[{\"type\":\"heatmapgl\",\"colorbar\":{\"outlinewidth\":0,\"ticks\":\"\"},\"colorscale\":[[0.0,\"#0d0887\"],[0.1111111111111111,\"#46039f\"],[0.2222222222222222,\"#7201a8\"],[0.3333333333333333,\"#9c179e\"],[0.4444444444444444,\"#bd3786\"],[0.5555555555555556,\"#d8576b\"],[0.6666666666666666,\"#ed7953\"],[0.7777777777777778,\"#fb9f3a\"],[0.8888888888888888,\"#fdca26\"],[1.0,\"#f0f921\"]]}],\"contourcarpet\":[{\"type\":\"contourcarpet\",\"colorbar\":{\"outlinewidth\":0,\"ticks\":\"\"}}],\"contour\":[{\"type\":\"contour\",\"colorbar\":{\"outlinewidth\":0,\"ticks\":\"\"},\"colorscale\":[[0.0,\"#0d0887\"],[0.1111111111111111,\"#46039f\"],[0.2222222222222222,\"#7201a8\"],[0.3333333333333333,\"#9c179e\"],[0.4444444444444444,\"#bd3786\"],[0.5555555555555556,\"#d8576b\"],[0.6666666666666666,\"#ed7953\"],[0.7777777777777778,\"#fb9f3a\"],[0.8888888888888888,\"#fdca26\"],[1.0,\"#f0f921\"]]}],\"surface\":[{\"type\":\"surface\",\"colorbar\":{\"outlinewidth\":0,\"ticks\":\"\"},\"colorscale\":[[0.0,\"#0d0887\"],[0.1111111111111111,\"#46039f\"],[0.2222222222222222,\"#7201a8\"],[0.3333333333333333,\"#9c179e\"],[0.4444444444444444,\"#bd3786\"],[0.5555555555555556,\"#d8576b\"],[0.6666666666666666,\"#ed7953\"],[0.7777777777777778,\"#fb9f3a\"],[0.8888888888888888,\"#fdca26\"],[1.0,\"#f0f921\"]]}],\"mesh3d\":[{\"type\":\"mesh3d\",\"colorbar\":{\"outlinewidth\":0,\"ticks\":\"\"}}],\"scatter\":[{\"fillpattern\":{\"fillmode\":\"overlay\",\"size\":10,\"solidity\":0.2},\"type\":\"scatter\"}],\"parcoords\":[{\"type\":\"parcoords\",\"line\":{\"colorbar\":{\"outlinewidth\":0,\"ticks\":\"\"}}}],\"scatterpolargl\":[{\"type\":\"scatterpolargl\",\"marker\":{\"colorbar\":{\"outlinewidth\":0,\"ticks\":\"\"}}}],\"bar\":[{\"error_x\":{\"color\":\"#2a3f5f\"},\"error_y\":{\"color\":\"#2a3f5f\"},\"marker\":{\"line\":{\"color\":\"#E5ECF6\",\"width\":0.5},\"pattern\":{\"fillmode\":\"overlay\",\"size\":10,\"solidity\":0.2}},\"type\":\"bar\"}],\"scattergeo\":[{\"type\":\"scattergeo\",\"marker\":{\"colorbar\":{\"outlinewidth\":0,\"ticks\":\"\"}}}],\"scatterpolar\":[{\"type\":\"scatterpolar\",\"marker\":{\"colorbar\":{\"outlinewidth\":0,\"ticks\":\"\"}}}],\"histogram\":[{\"marker\":{\"pattern\":{\"fillmode\":\"overlay\",\"size\":10,\"solidity\":0.2}},\"type\":\"histogram\"}],\"scattergl\":[{\"type\":\"scattergl\",\"marker\":{\"colorbar\":{\"outlinewidth\":0,\"ticks\":\"\"}}}],\"scatter3d\":[{\"type\":\"scatter3d\",\"line\":{\"colorbar\":{\"outlinewidth\":0,\"ticks\":\"\"}},\"marker\":{\"colorbar\":{\"outlinewidth\":0,\"ticks\":\"\"}}}],\"scattermapbox\":[{\"type\":\"scattermapbox\",\"marker\":{\"colorbar\":{\"outlinewidth\":0,\"ticks\":\"\"}}}],\"scatterternary\":[{\"type\":\"scatterternary\",\"marker\":{\"colorbar\":{\"outlinewidth\":0,\"ticks\":\"\"}}}],\"scattercarpet\":[{\"type\":\"scattercarpet\",\"marker\":{\"colorbar\":{\"outlinewidth\":0,\"ticks\":\"\"}}}],\"carpet\":[{\"aaxis\":{\"endlinecolor\":\"#2a3f5f\",\"gridcolor\":\"white\",\"linecolor\":\"white\",\"minorgridcolor\":\"white\",\"startlinecolor\":\"#2a3f5f\"},\"baxis\":{\"endlinecolor\":\"#2a3f5f\",\"gridcolor\":\"white\",\"linecolor\":\"white\",\"minorgridcolor\":\"white\",\"startlinecolor\":\"#2a3f5f\"},\"type\":\"carpet\"}],\"table\":[{\"cells\":{\"fill\":{\"color\":\"#EBF0F8\"},\"line\":{\"color\":\"white\"}},\"header\":{\"fill\":{\"color\":\"#C8D4E3\"},\"line\":{\"color\":\"white\"}},\"type\":\"table\"}],\"barpolar\":[{\"marker\":{\"line\":{\"color\":\"#E5ECF6\",\"width\":0.5},\"pattern\":{\"fillmode\":\"overlay\",\"size\":10,\"solidity\":0.2}},\"type\":\"barpolar\"}],\"pie\":[{\"automargin\":true,\"type\":\"pie\"}]},\"layout\":{\"autotypenumbers\":\"strict\",\"colorway\":[\"#636efa\",\"#EF553B\",\"#00cc96\",\"#ab63fa\",\"#FFA15A\",\"#19d3f3\",\"#FF6692\",\"#B6E880\",\"#FF97FF\",\"#FECB52\"],\"font\":{\"color\":\"#2a3f5f\"},\"hovermode\":\"closest\",\"hoverlabel\":{\"align\":\"left\"},\"paper_bgcolor\":\"white\",\"plot_bgcolor\":\"#E5ECF6\",\"polar\":{\"bgcolor\":\"#E5ECF6\",\"angularaxis\":{\"gridcolor\":\"white\",\"linecolor\":\"white\",\"ticks\":\"\"},\"radialaxis\":{\"gridcolor\":\"white\",\"linecolor\":\"white\",\"ticks\":\"\"}},\"ternary\":{\"bgcolor\":\"#E5ECF6\",\"aaxis\":{\"gridcolor\":\"white\",\"linecolor\":\"white\",\"ticks\":\"\"},\"baxis\":{\"gridcolor\":\"white\",\"linecolor\":\"white\",\"ticks\":\"\"},\"caxis\":{\"gridcolor\":\"white\",\"linecolor\":\"white\",\"ticks\":\"\"}},\"coloraxis\":{\"colorbar\":{\"outlinewidth\":0,\"ticks\":\"\"}},\"colorscale\":{\"sequential\":[[0.0,\"#0d0887\"],[0.1111111111111111,\"#46039f\"],[0.2222222222222222,\"#7201a8\"],[0.3333333333333333,\"#9c179e\"],[0.4444444444444444,\"#bd3786\"],[0.5555555555555556,\"#d8576b\"],[0.6666666666666666,\"#ed7953\"],[0.7777777777777778,\"#fb9f3a\"],[0.8888888888888888,\"#fdca26\"],[1.0,\"#f0f921\"]],\"sequentialminus\":[[0.0,\"#0d0887\"],[0.1111111111111111,\"#46039f\"],[0.2222222222222222,\"#7201a8\"],[0.3333333333333333,\"#9c179e\"],[0.4444444444444444,\"#bd3786\"],[0.5555555555555556,\"#d8576b\"],[0.6666666666666666,\"#ed7953\"],[0.7777777777777778,\"#fb9f3a\"],[0.8888888888888888,\"#fdca26\"],[1.0,\"#f0f921\"]],\"diverging\":[[0,\"#8e0152\"],[0.1,\"#c51b7d\"],[0.2,\"#de77ae\"],[0.3,\"#f1b6da\"],[0.4,\"#fde0ef\"],[0.5,\"#f7f7f7\"],[0.6,\"#e6f5d0\"],[0.7,\"#b8e186\"],[0.8,\"#7fbc41\"],[0.9,\"#4d9221\"],[1,\"#276419\"]]},\"xaxis\":{\"gridcolor\":\"white\",\"linecolor\":\"white\",\"ticks\":\"\",\"title\":{\"standoff\":15},\"zerolinecolor\":\"white\",\"automargin\":true,\"zerolinewidth\":2},\"yaxis\":{\"gridcolor\":\"white\",\"linecolor\":\"white\",\"ticks\":\"\",\"title\":{\"standoff\":15},\"zerolinecolor\":\"white\",\"automargin\":true,\"zerolinewidth\":2},\"scene\":{\"xaxis\":{\"backgroundcolor\":\"#E5ECF6\",\"gridcolor\":\"white\",\"linecolor\":\"white\",\"showbackground\":true,\"ticks\":\"\",\"zerolinecolor\":\"white\",\"gridwidth\":2},\"yaxis\":{\"backgroundcolor\":\"#E5ECF6\",\"gridcolor\":\"white\",\"linecolor\":\"white\",\"showbackground\":true,\"ticks\":\"\",\"zerolinecolor\":\"white\",\"gridwidth\":2},\"zaxis\":{\"backgroundcolor\":\"#E5ECF6\",\"gridcolor\":\"white\",\"linecolor\":\"white\",\"showbackground\":true,\"ticks\":\"\",\"zerolinecolor\":\"white\",\"gridwidth\":2}},\"shapedefaults\":{\"line\":{\"color\":\"#2a3f5f\"}},\"annotationdefaults\":{\"arrowcolor\":\"#2a3f5f\",\"arrowhead\":0,\"arrowwidth\":1},\"geo\":{\"bgcolor\":\"white\",\"landcolor\":\"#E5ECF6\",\"subunitcolor\":\"white\",\"showland\":true,\"showlakes\":true,\"lakecolor\":\"white\"},\"title\":{\"x\":0.05},\"mapbox\":{\"style\":\"light\"}}},\"xaxis\":{\"anchor\":\"y\",\"domain\":[0.0,1.0],\"title\":{\"text\":\"Location Region\"}},\"yaxis\":{\"anchor\":\"x\",\"domain\":[0.0,1.0],\"title\":{\"text\":\"Count\"}},\"legend\":{\"title\":{\"text\":\"Transaction Type\"},\"tracegroupgap\":0},\"title\":{\"text\":\"Count of Transaction Types by Location Region\",\"x\":0.5,\"xanchor\":\"center\"},\"barmode\":\"stack\"},                        {\"responsive\": true}                    ).then(function(){\n",
              "                            \n",
              "var gd = document.getElementById('2f0c0013-abde-476f-88ec-9655e1610ced');\n",
              "var x = new MutationObserver(function (mutations, observer) {{\n",
              "        var display = window.getComputedStyle(gd).display;\n",
              "        if (!display || display === 'none') {{\n",
              "            console.log([gd, 'removed!']);\n",
              "            Plotly.purge(gd);\n",
              "            observer.disconnect();\n",
              "        }}\n",
              "}});\n",
              "\n",
              "// Listen for the removal of the full notebook cells\n",
              "var notebookContainer = gd.closest('#notebook-container');\n",
              "if (notebookContainer) {{\n",
              "    x.observe(notebookContainer, {childList: true});\n",
              "}}\n",
              "\n",
              "// Listen for the clearing of the current output cell\n",
              "var outputEl = gd.closest('.output');\n",
              "if (outputEl) {{\n",
              "    x.observe(outputEl, {childList: true});\n",
              "}}\n",
              "\n",
              "                        })                };                            </script>        </div>\n",
              "</body>\n",
              "</html>"
            ]
          },
          "metadata": {}
        }
      ],
      "source": [
        "# Count the occurrences of each transaction type within each location region\n",
        "count_transaction_by_region = metaverse.groupby(['location_region', 'transaction_type']).size().reset_index(name='count')\n",
        "\n",
        "# Create a stacked bar chart for the count of transaction types by location region\n",
        "fig = px.bar(count_transaction_by_region, x='location_region', y='count',\n",
        "             color='transaction_type', title='Count of Transaction Types by Location Region',\n",
        "             labels={'count': 'Count', 'location_region': 'Location Region', 'transaction_type': 'Transaction Type'})\n",
        "\n",
        "# Improve layout\n",
        "fig.update_layout(\n",
        "    xaxis_title=\"Location Region\",\n",
        "    yaxis_title=\"Count\",\n",
        "    barmode='stack',\n",
        "    title={'x':0.5, 'xanchor': 'center'}\n",
        ")\n",
        "\n",
        "# Show the plot\n",
        "fig.show()"
      ]
    },
    {
      "cell_type": "markdown",
      "source": [
        "**2a. Interpretation**:\n",
        "\n",
        "The bar chart above illustrating the count distribution of transaction types across different location regions, indicates a consistent pattern among continents regarding transaction behavior. Notably, transaction types with negative connotations, such as \"scam\" and \"phishing,\" exhibit a significantly lower distribution across all regions when compared to more conventional transactions, including \"transfer,\" \"purchase,\" and \"sale.\" This uniformity in distribution patterns across various geographical locations suggests that standard transaction types dominate the landscape, while adverse activities maintain a minimal presence."
      ],
      "metadata": {
        "id": "E9i2Eb3Zmfiv"
      },
      "id": "E9i2Eb3Zmfiv"
    },
    {
      "cell_type": "code",
      "execution_count": null,
      "id": "9d467f48",
      "metadata": {
        "id": "9d467f48",
        "outputId": "51cb55df-7483-4194-be0b-4fdee33bed7e",
        "colab": {
          "base_uri": "https://localhost:8080/",
          "height": 487
        }
      },
      "outputs": [
        {
          "output_type": "display_data",
          "data": {
            "text/plain": [
              "<Figure size 640x480 with 2 Axes>"
            ],
            "image/png": "[encoded data removed]"
          },
          "metadata": {}
        }
      ],
      "source": [
        "# Calculate the averages\n",
        "avg_login_by_hour = metaverse.groupby('hour_of_day')['login_frequency'].mean()\n",
        "avg_session_by_hour = metaverse.groupby('hour_of_day')['session_duration'].mean()\n",
        "\n",
        "# Create figure and axis objects\n",
        "fig, ax1 = plt.subplots()\n",
        "\n",
        "# Plot \"login_frequency\" on the left y-axis\n",
        "color = 'tab:red'\n",
        "ax1.set_xlabel('Hour of Day', fontweight='bold')\n",
        "ax1.set_ylabel('Average Login Frequency', color=color)\n",
        "ax1.plot(avg_login_by_hour.index, avg_login_by_hour, color=color)\n",
        "ax1.tick_params(axis='y', labelcolor=color)\n",
        "\n",
        "# Set the ticks for \"Hour of Day\" on x-axis\n",
        "hours = np.arange(24)\n",
        "ax1.set_xticks(hours)\n",
        "ax1.set_xticklabels(hours, rotation=90)\n",
        "\n",
        "# Create another y-axis for \"session_duration\" on the right\n",
        "ax2 = ax1.twinx()\n",
        "color = 'tab:blue'\n",
        "ax2.set_ylabel('Average Session Duration', color=color)\n",
        "ax2.plot(avg_session_by_hour.index, avg_session_by_hour, color=color)\n",
        "ax2.tick_params(axis='y', labelcolor=color)\n",
        "\n",
        "# Title and show the plot\n",
        "plt.title('Average Login Frequency and Session Duration by Hour of Day', fontweight='bold')\n",
        "fig.tight_layout()  # Adjust layout\n",
        "plt.show()"
      ]
    },
    {
      "cell_type": "markdown",
      "source": [
        "**2b. Interpretation:**\n",
        "\n",
        "The line graph presents a comparative analysis of the average login frequency and session duration by hour of day. The login frequency, delineated by the blue line, and the session duration, depicted by the red line, generally exhibit parallel trends with noticeable peaks around 10 am and 3 pm, followed by a discernible trough at 8 pm. An interesting divergence is observed in the late evening hours, particularly from 9 pm to 10 pm, where the session duration surpasses the login frequency, suggesting that while fewer logins occur during this time, the sessions that do initiate tend to be longer in duration."
      ],
      "metadata": {
        "id": "qtAqnSVumkJE"
      },
      "id": "qtAqnSVumkJE"
    },
    {
      "cell_type": "code",
      "execution_count": null,
      "id": "71c4d013",
      "metadata": {
        "scrolled": true,
        "id": "71c4d013",
        "outputId": "4573ff7a-0954-4b38-89e2-ce64db699390",
        "colab": {
          "base_uri": "https://localhost:8080/",
          "height": 542
        }
      },
      "outputs": [
        {
          "output_type": "display_data",
          "data": {
            "text/html": [
              "<html>\n",
              "<head><meta charset=\"utf-8\" /></head>\n",
              "<body>\n",
              "    <div>            <script src=\"https://cdnjs.cloudflare.com/ajax/libs/mathjax/2.7.5/MathJax.js?config=TeX-AMS-MML_SVG\"></script><script type=\"text/javascript\">if (window.MathJax && window.MathJax.Hub && window.MathJax.Hub.Config) {window.MathJax.Hub.Config({SVG: {font: \"STIX-Web\"}});}</script>                <script type=\"text/javascript\">window.PlotlyConfig = {MathJaxConfig: 'local'};</script>\n",
              "        <script charset=\"utf-8\" src=\"https://cdn.plot.ly/plotly-2.24.1.min.js\"></script>                <div id=\"ed07fe61-a0ef-4a09-b20d-befbbb0a5f44\" class=\"plotly-graph-div\" style=\"height:525px; width:100%;\"></div>            <script type=\"text/javascript\">                                    window.PLOTLYENV=window.PLOTLYENV || {};                                    if (document.getElementById(\"ed07fe61-a0ef-4a09-b20d-befbbb0a5f44\")) {                    Plotly.newPlot(                        \"ed07fe61-a0ef-4a09-b20d-befbbb0a5f44\",                        [{\"alignmentgroup\":\"True\",\"hovertemplate\":\"Anomaly=%{y}\\u003cbr\\u003eAverage Risk Score=%{x}\\u003cextra\\u003e\\u003c\\u002fextra\\u003e\",\"legendgroup\":\"high_risk\",\"marker\":{\"color\":\"#636efa\",\"pattern\":{\"shape\":\"\"}},\"name\":\"high_risk\",\"offsetgroup\":\"high_risk\",\"orientation\":\"h\",\"showlegend\":true,\"textposition\":\"auto\",\"x\":[97.68637413394919],\"xaxis\":\"x\",\"y\":[\"high_risk\"],\"yaxis\":\"y\",\"type\":\"bar\"},{\"alignmentgroup\":\"True\",\"hovertemplate\":\"Anomaly=%{y}\\u003cbr\\u003eAverage Risk Score=%{x}\\u003cextra\\u003e\\u003c\\u002fextra\\u003e\",\"legendgroup\":\"moderate_risk\",\"marker\":{\"color\":\"#EF553B\",\"pattern\":{\"shape\":\"\"}},\"name\":\"moderate_risk\",\"offsetgroup\":\"moderate_risk\",\"orientation\":\"h\",\"showlegend\":true,\"textposition\":\"auto\",\"x\":[69.20042677970038],\"xaxis\":\"x\",\"y\":[\"moderate_risk\"],\"yaxis\":\"y\",\"type\":\"bar\"},{\"alignmentgroup\":\"True\",\"hovertemplate\":\"Anomaly=%{y}\\u003cbr\\u003eAverage Risk Score=%{x}\\u003cextra\\u003e\\u003c\\u002fextra\\u003e\",\"legendgroup\":\"low_risk\",\"marker\":{\"color\":\"#00cc96\",\"pattern\":{\"shape\":\"\"}},\"name\":\"low_risk\",\"offsetgroup\":\"low_risk\",\"orientation\":\"h\",\"showlegend\":true,\"textposition\":\"auto\",\"x\":[36.274931686458565],\"xaxis\":\"x\",\"y\":[\"low_risk\"],\"yaxis\":\"y\",\"type\":\"bar\"}],                        {\"template\":{\"data\":{\"histogram2dcontour\":[{\"type\":\"histogram2dcontour\",\"colorbar\":{\"outlinewidth\":0,\"ticks\":\"\"},\"colorscale\":[[0.0,\"#0d0887\"],[0.1111111111111111,\"#46039f\"],[0.2222222222222222,\"#7201a8\"],[0.3333333333333333,\"#9c179e\"],[0.4444444444444444,\"#bd3786\"],[0.5555555555555556,\"#d8576b\"],[0.6666666666666666,\"#ed7953\"],[0.7777777777777778,\"#fb9f3a\"],[0.8888888888888888,\"#fdca26\"],[1.0,\"#f0f921\"]]}],\"choropleth\":[{\"type\":\"choropleth\",\"colorbar\":{\"outlinewidth\":0,\"ticks\":\"\"}}],\"histogram2d\":[{\"type\":\"histogram2d\",\"colorbar\":{\"outlinewidth\":0,\"ticks\":\"\"},\"colorscale\":[[0.0,\"#0d0887\"],[0.1111111111111111,\"#46039f\"],[0.2222222222222222,\"#7201a8\"],[0.3333333333333333,\"#9c179e\"],[0.4444444444444444,\"#bd3786\"],[0.5555555555555556,\"#d8576b\"],[0.6666666666666666,\"#ed7953\"],[0.7777777777777778,\"#fb9f3a\"],[0.8888888888888888,\"#fdca26\"],[1.0,\"#f0f921\"]]}],\"heatmap\":[{\"type\":\"heatmap\",\"colorbar\":{\"outlinewidth\":0,\"ticks\":\"\"},\"colorscale\":[[0.0,\"#0d0887\"],[0.1111111111111111,\"#46039f\"],[0.2222222222222222,\"#7201a8\"],[0.3333333333333333,\"#9c179e\"],[0.4444444444444444,\"#bd3786\"],[0.5555555555555556,\"#d8576b\"],[0.6666666666666666,\"#ed7953\"],[0.7777777777777778,\"#fb9f3a\"],[0.8888888888888888,\"#fdca26\"],[1.0,\"#f0f921\"]]}],\"heatmapgl\":[{\"type\":\"heatmapgl\",\"colorbar\":{\"outlinewidth\":0,\"ticks\":\"\"},\"colorscale\":[[0.0,\"#0d0887\"],[0.1111111111111111,\"#46039f\"],[0.2222222222222222,\"#7201a8\"],[0.3333333333333333,\"#9c179e\"],[0.4444444444444444,\"#bd3786\"],[0.5555555555555556,\"#d8576b\"],[0.6666666666666666,\"#ed7953\"],[0.7777777777777778,\"#fb9f3a\"],[0.8888888888888888,\"#fdca26\"],[1.0,\"#f0f921\"]]}],\"contourcarpet\":[{\"type\":\"contourcarpet\",\"colorbar\":{\"outlinewidth\":0,\"ticks\":\"\"}}],\"contour\":[{\"type\":\"contour\",\"colorbar\":{\"outlinewidth\":0,\"ticks\":\"\"},\"colorscale\":[[0.0,\"#0d0887\"],[0.1111111111111111,\"#46039f\"],[0.2222222222222222,\"#7201a8\"],[0.3333333333333333,\"#9c179e\"],[0.4444444444444444,\"#bd3786\"],[0.5555555555555556,\"#d8576b\"],[0.6666666666666666,\"#ed7953\"],[0.7777777777777778,\"#fb9f3a\"],[0.8888888888888888,\"#fdca26\"],[1.0,\"#f0f921\"]]}],\"surface\":[{\"type\":\"surface\",\"colorbar\":{\"outlinewidth\":0,\"ticks\":\"\"},\"colorscale\":[[0.0,\"#0d0887\"],[0.1111111111111111,\"#46039f\"],[0.2222222222222222,\"#7201a8\"],[0.3333333333333333,\"#9c179e\"],[0.4444444444444444,\"#bd3786\"],[0.5555555555555556,\"#d8576b\"],[0.6666666666666666,\"#ed7953\"],[0.7777777777777778,\"#fb9f3a\"],[0.8888888888888888,\"#fdca26\"],[1.0,\"#f0f921\"]]}],\"mesh3d\":[{\"type\":\"mesh3d\",\"colorbar\":{\"outlinewidth\":0,\"ticks\":\"\"}}],\"scatter\":[{\"fillpattern\":{\"fillmode\":\"overlay\",\"size\":10,\"solidity\":0.2},\"type\":\"scatter\"}],\"parcoords\":[{\"type\":\"parcoords\",\"line\":{\"colorbar\":{\"outlinewidth\":0,\"ticks\":\"\"}}}],\"scatterpolargl\":[{\"type\":\"scatterpolargl\",\"marker\":{\"colorbar\":{\"outlinewidth\":0,\"ticks\":\"\"}}}],\"bar\":[{\"error_x\":{\"color\":\"#2a3f5f\"},\"error_y\":{\"color\":\"#2a3f5f\"},\"marker\":{\"line\":{\"color\":\"#E5ECF6\",\"width\":0.5},\"pattern\":{\"fillmode\":\"overlay\",\"size\":10,\"solidity\":0.2}},\"type\":\"bar\"}],\"scattergeo\":[{\"type\":\"scattergeo\",\"marker\":{\"colorbar\":{\"outlinewidth\":0,\"ticks\":\"\"}}}],\"scatterpolar\":[{\"type\":\"scatterpolar\",\"marker\":{\"colorbar\":{\"outlinewidth\":0,\"ticks\":\"\"}}}],\"histogram\":[{\"marker\":{\"pattern\":{\"fillmode\":\"overlay\",\"size\":10,\"solidity\":0.2}},\"type\":\"histogram\"}],\"scattergl\":[{\"type\":\"scattergl\",\"marker\":{\"colorbar\":{\"outlinewidth\":0,\"ticks\":\"\"}}}],\"scatter3d\":[{\"type\":\"scatter3d\",\"line\":{\"colorbar\":{\"outlinewidth\":0,\"ticks\":\"\"}},\"marker\":{\"colorbar\":{\"outlinewidth\":0,\"ticks\":\"\"}}}],\"scattermapbox\":[{\"type\":\"scattermapbox\",\"marker\":{\"colorbar\":{\"outlinewidth\":0,\"ticks\":\"\"}}}],\"scatterternary\":[{\"type\":\"scatterternary\",\"marker\":{\"colorbar\":{\"outlinewidth\":0,\"ticks\":\"\"}}}],\"scattercarpet\":[{\"type\":\"scattercarpet\",\"marker\":{\"colorbar\":{\"outlinewidth\":0,\"ticks\":\"\"}}}],\"carpet\":[{\"aaxis\":{\"endlinecolor\":\"#2a3f5f\",\"gridcolor\":\"white\",\"linecolor\":\"white\",\"minorgridcolor\":\"white\",\"startlinecolor\":\"#2a3f5f\"},\"baxis\":{\"endlinecolor\":\"#2a3f5f\",\"gridcolor\":\"white\",\"linecolor\":\"white\",\"minorgridcolor\":\"white\",\"startlinecolor\":\"#2a3f5f\"},\"type\":\"carpet\"}],\"table\":[{\"cells\":{\"fill\":{\"color\":\"#EBF0F8\"},\"line\":{\"color\":\"white\"}},\"header\":{\"fill\":{\"color\":\"#C8D4E3\"},\"line\":{\"color\":\"white\"}},\"type\":\"table\"}],\"barpolar\":[{\"marker\":{\"line\":{\"color\":\"#E5ECF6\",\"width\":0.5},\"pattern\":{\"fillmode\":\"overlay\",\"size\":10,\"solidity\":0.2}},\"type\":\"barpolar\"}],\"pie\":[{\"automargin\":true,\"type\":\"pie\"}]},\"layout\":{\"autotypenumbers\":\"strict\",\"colorway\":[\"#636efa\",\"#EF553B\",\"#00cc96\",\"#ab63fa\",\"#FFA15A\",\"#19d3f3\",\"#FF6692\",\"#B6E880\",\"#FF97FF\",\"#FECB52\"],\"font\":{\"color\":\"#2a3f5f\"},\"hovermode\":\"closest\",\"hoverlabel\":{\"align\":\"left\"},\"paper_bgcolor\":\"white\",\"plot_bgcolor\":\"#E5ECF6\",\"polar\":{\"bgcolor\":\"#E5ECF6\",\"angularaxis\":{\"gridcolor\":\"white\",\"linecolor\":\"white\",\"ticks\":\"\"},\"radialaxis\":{\"gridcolor\":\"white\",\"linecolor\":\"white\",\"ticks\":\"\"}},\"ternary\":{\"bgcolor\":\"#E5ECF6\",\"aaxis\":{\"gridcolor\":\"white\",\"linecolor\":\"white\",\"ticks\":\"\"},\"baxis\":{\"gridcolor\":\"white\",\"linecolor\":\"white\",\"ticks\":\"\"},\"caxis\":{\"gridcolor\":\"white\",\"linecolor\":\"white\",\"ticks\":\"\"}},\"coloraxis\":{\"colorbar\":{\"outlinewidth\":0,\"ticks\":\"\"}},\"colorscale\":{\"sequential\":[[0.0,\"#0d0887\"],[0.1111111111111111,\"#46039f\"],[0.2222222222222222,\"#7201a8\"],[0.3333333333333333,\"#9c179e\"],[0.4444444444444444,\"#bd3786\"],[0.5555555555555556,\"#d8576b\"],[0.6666666666666666,\"#ed7953\"],[0.7777777777777778,\"#fb9f3a\"],[0.8888888888888888,\"#fdca26\"],[1.0,\"#f0f921\"]],\"sequentialminus\":[[0.0,\"#0d0887\"],[0.1111111111111111,\"#46039f\"],[0.2222222222222222,\"#7201a8\"],[0.3333333333333333,\"#9c179e\"],[0.4444444444444444,\"#bd3786\"],[0.5555555555555556,\"#d8576b\"],[0.6666666666666666,\"#ed7953\"],[0.7777777777777778,\"#fb9f3a\"],[0.8888888888888888,\"#fdca26\"],[1.0,\"#f0f921\"]],\"diverging\":[[0,\"#8e0152\"],[0.1,\"#c51b7d\"],[0.2,\"#de77ae\"],[0.3,\"#f1b6da\"],[0.4,\"#fde0ef\"],[0.5,\"#f7f7f7\"],[0.6,\"#e6f5d0\"],[0.7,\"#b8e186\"],[0.8,\"#7fbc41\"],[0.9,\"#4d9221\"],[1,\"#276419\"]]},\"xaxis\":{\"gridcolor\":\"white\",\"linecolor\":\"white\",\"ticks\":\"\",\"title\":{\"standoff\":15},\"zerolinecolor\":\"white\",\"automargin\":true,\"zerolinewidth\":2},\"yaxis\":{\"gridcolor\":\"white\",\"linecolor\":\"white\",\"ticks\":\"\",\"title\":{\"standoff\":15},\"zerolinecolor\":\"white\",\"automargin\":true,\"zerolinewidth\":2},\"scene\":{\"xaxis\":{\"backgroundcolor\":\"#E5ECF6\",\"gridcolor\":\"white\",\"linecolor\":\"white\",\"showbackground\":true,\"ticks\":\"\",\"zerolinecolor\":\"white\",\"gridwidth\":2},\"yaxis\":{\"backgroundcolor\":\"#E5ECF6\",\"gridcolor\":\"white\",\"linecolor\":\"white\",\"showbackground\":true,\"ticks\":\"\",\"zerolinecolor\":\"white\",\"gridwidth\":2},\"zaxis\":{\"backgroundcolor\":\"#E5ECF6\",\"gridcolor\":\"white\",\"linecolor\":\"white\",\"showbackground\":true,\"ticks\":\"\",\"zerolinecolor\":\"white\",\"gridwidth\":2}},\"shapedefaults\":{\"line\":{\"color\":\"#2a3f5f\"}},\"annotationdefaults\":{\"arrowcolor\":\"#2a3f5f\",\"arrowhead\":0,\"arrowwidth\":1},\"geo\":{\"bgcolor\":\"white\",\"landcolor\":\"#E5ECF6\",\"subunitcolor\":\"white\",\"showland\":true,\"showlakes\":true,\"lakecolor\":\"white\"},\"title\":{\"x\":0.05},\"mapbox\":{\"style\":\"light\"}}},\"xaxis\":{\"anchor\":\"y\",\"domain\":[0.0,1.0],\"title\":{\"text\":\"Average Risk Score\"}},\"yaxis\":{\"anchor\":\"x\",\"domain\":[0.0,1.0],\"title\":{\"text\":\"Anomaly\"},\"categoryorder\":\"array\",\"categoryarray\":[\"low_risk\",\"moderate_risk\",\"high_risk\"]},\"legend\":{\"title\":{\"text\":\"Anomaly\"},\"tracegroupgap\":0},\"title\":{\"text\":\"Average Risk Score by Anomaly\"},\"barmode\":\"relative\"},                        {\"responsive\": true}                    ).then(function(){\n",
              "                            \n",
              "var gd = document.getElementById('ed07fe61-a0ef-4a09-b20d-befbbb0a5f44');\n",
              "var x = new MutationObserver(function (mutations, observer) {{\n",
              "        var display = window.getComputedStyle(gd).display;\n",
              "        if (!display || display === 'none') {{\n",
              "            console.log([gd, 'removed!']);\n",
              "            Plotly.purge(gd);\n",
              "            observer.disconnect();\n",
              "        }}\n",
              "}});\n",
              "\n",
              "// Listen for the removal of the full notebook cells\n",
              "var notebookContainer = gd.closest('#notebook-container');\n",
              "if (notebookContainer) {{\n",
              "    x.observe(notebookContainer, {childList: true});\n",
              "}}\n",
              "\n",
              "// Listen for the clearing of the current output cell\n",
              "var outputEl = gd.closest('.output');\n",
              "if (outputEl) {{\n",
              "    x.observe(outputEl, {childList: true});\n",
              "}}\n",
              "\n",
              "                        })                };                            </script>        </div>\n",
              "</body>\n",
              "</html>"
            ]
          },
          "metadata": {}
        }
      ],
      "source": [
        "# Calculate the average risk_score for each anomaly category\n",
        "avg_risk_score_by_anomaly = metaverse.groupby('anomaly')['risk_score'].mean().reset_index()\n",
        "\n",
        "# Define the desired order for the 'anomaly' categories\n",
        "anomaly_order = ['high_risk', 'moderate_risk', 'low_risk']\n",
        "\n",
        "# Create the horizontal bar chart with Plotly Express\n",
        "fig = px.bar(avg_risk_score_by_anomaly,\n",
        "             y='anomaly',\n",
        "             x='risk_score',\n",
        "             title='Average Risk Score by Anomaly',\n",
        "             labels={'risk_score': 'Average Risk Score', 'anomaly': 'Anomaly'},\n",
        "             color='anomaly',\n",
        "             orientation='h',  # Specify the orientation as horizontal\n",
        "             category_orders={'anomaly': anomaly_order})  # Define the order for 'anomaly'\n",
        "\n",
        "# Show the plot\n",
        "fig.show()"
      ]
    },
    {
      "cell_type": "markdown",
      "source": [
        "**2c. Interpretation**:\n",
        "\n",
        "The bar chart above provides a risk score comparisons classified by anomaly levels. It reveals that instances labeled as high-risk anomalies are associated with a notably elevated average risk score, approximately at 97. In contrast, those identified as low-risk anomalies correspond with a significantly lower average risk score, in the vicinity of 36."
      ],
      "metadata": {
        "id": "OJ8UG-FfmooG"
      },
      "id": "OJ8UG-FfmooG"
    },
    {
      "cell_type": "code",
      "execution_count": null,
      "id": "ef968cd9",
      "metadata": {
        "scrolled": true,
        "id": "ef968cd9",
        "outputId": "d533b60d-0d71-4d0c-81f1-bf176b2e2908",
        "colab": {
          "base_uri": "https://localhost:8080/",
          "height": 542
        }
      },
      "outputs": [
        {
          "output_type": "display_data",
          "data": {
            "text/html": [
              "<html>\n",
              "<head><meta charset=\"utf-8\" /></head>\n",
              "<body>\n",
              "    <div>            <script src=\"https://cdnjs.cloudflare.com/ajax/libs/mathjax/2.7.5/MathJax.js?config=TeX-AMS-MML_SVG\"></script><script type=\"text/javascript\">if (window.MathJax && window.MathJax.Hub && window.MathJax.Hub.Config) {window.MathJax.Hub.Config({SVG: {font: \"STIX-Web\"}});}</script>                <script type=\"text/javascript\">window.PlotlyConfig = {MathJaxConfig: 'local'};</script>\n",
              "        <script charset=\"utf-8\" src=\"https://cdn.plot.ly/plotly-2.24.1.min.js\"></script>                <div id=\"462f2637-7db0-40e3-afa3-112cba844ce0\" class=\"plotly-graph-div\" style=\"height:525px; width:100%;\"></div>            <script type=\"text/javascript\">                                    window.PLOTLYENV=window.PLOTLYENV || {};                                    if (document.getElementById(\"462f2637-7db0-40e3-afa3-112cba844ce0\")) {                    Plotly.newPlot(                        \"462f2637-7db0-40e3-afa3-112cba844ce0\",                        [{\"name\":\"phishing\",\"orientation\":\"h\",\"x\":[2546,0,0],\"y\":[\"high_risk\",\"moderate_risk\",\"low_risk\"],\"type\":\"bar\"},{\"name\":\"purchase\",\"orientation\":\"h\",\"x\":[0,0,24940],\"y\":[\"high_risk\",\"moderate_risk\",\"low_risk\"],\"type\":\"bar\"},{\"name\":\"sale\",\"orientation\":\"h\",\"x\":[0,8611,16429],\"y\":[\"high_risk\",\"moderate_risk\",\"low_risk\"],\"type\":\"bar\"},{\"name\":\"scam\",\"orientation\":\"h\",\"x\":[3949,0,0],\"y\":[\"high_risk\",\"moderate_risk\",\"low_risk\"],\"type\":\"bar\"},{\"name\":\"transfer\",\"orientation\":\"h\",\"x\":[0,0,22125],\"y\":[\"high_risk\",\"moderate_risk\",\"low_risk\"],\"type\":\"bar\"}],                        {\"template\":{\"data\":{\"histogram2dcontour\":[{\"type\":\"histogram2dcontour\",\"colorbar\":{\"outlinewidth\":0,\"ticks\":\"\"},\"colorscale\":[[0.0,\"#0d0887\"],[0.1111111111111111,\"#46039f\"],[0.2222222222222222,\"#7201a8\"],[0.3333333333333333,\"#9c179e\"],[0.4444444444444444,\"#bd3786\"],[0.5555555555555556,\"#d8576b\"],[0.6666666666666666,\"#ed7953\"],[0.7777777777777778,\"#fb9f3a\"],[0.8888888888888888,\"#fdca26\"],[1.0,\"#f0f921\"]]}],\"choropleth\":[{\"type\":\"choropleth\",\"colorbar\":{\"outlinewidth\":0,\"ticks\":\"\"}}],\"histogram2d\":[{\"type\":\"histogram2d\",\"colorbar\":{\"outlinewidth\":0,\"ticks\":\"\"},\"colorscale\":[[0.0,\"#0d0887\"],[0.1111111111111111,\"#46039f\"],[0.2222222222222222,\"#7201a8\"],[0.3333333333333333,\"#9c179e\"],[0.4444444444444444,\"#bd3786\"],[0.5555555555555556,\"#d8576b\"],[0.6666666666666666,\"#ed7953\"],[0.7777777777777778,\"#fb9f3a\"],[0.8888888888888888,\"#fdca26\"],[1.0,\"#f0f921\"]]}],\"heatmap\":[{\"type\":\"heatmap\",\"colorbar\":{\"outlinewidth\":0,\"ticks\":\"\"},\"colorscale\":[[0.0,\"#0d0887\"],[0.1111111111111111,\"#46039f\"],[0.2222222222222222,\"#7201a8\"],[0.3333333333333333,\"#9c179e\"],[0.4444444444444444,\"#bd3786\"],[0.5555555555555556,\"#d8576b\"],[0.6666666666666666,\"#ed7953\"],[0.7777777777777778,\"#fb9f3a\"],[0.8888888888888888,\"#fdca26\"],[1.0,\"#f0f921\"]]}],\"heatmapgl\":[{\"type\":\"heatmapgl\",\"colorbar\":{\"outlinewidth\":0,\"ticks\":\"\"},\"colorscale\":[[0.0,\"#0d0887\"],[0.1111111111111111,\"#46039f\"],[0.2222222222222222,\"#7201a8\"],[0.3333333333333333,\"#9c179e\"],[0.4444444444444444,\"#bd3786\"],[0.5555555555555556,\"#d8576b\"],[0.6666666666666666,\"#ed7953\"],[0.7777777777777778,\"#fb9f3a\"],[0.8888888888888888,\"#fdca26\"],[1.0,\"#f0f921\"]]}],\"contourcarpet\":[{\"type\":\"contourcarpet\",\"colorbar\":{\"outlinewidth\":0,\"ticks\":\"\"}}],\"contour\":[{\"type\":\"contour\",\"colorbar\":{\"outlinewidth\":0,\"ticks\":\"\"},\"colorscale\":[[0.0,\"#0d0887\"],[0.1111111111111111,\"#46039f\"],[0.2222222222222222,\"#7201a8\"],[0.3333333333333333,\"#9c179e\"],[0.4444444444444444,\"#bd3786\"],[0.5555555555555556,\"#d8576b\"],[0.6666666666666666,\"#ed7953\"],[0.7777777777777778,\"#fb9f3a\"],[0.8888888888888888,\"#fdca26\"],[1.0,\"#f0f921\"]]}],\"surface\":[{\"type\":\"surface\",\"colorbar\":{\"outlinewidth\":0,\"ticks\":\"\"},\"colorscale\":[[0.0,\"#0d0887\"],[0.1111111111111111,\"#46039f\"],[0.2222222222222222,\"#7201a8\"],[0.3333333333333333,\"#9c179e\"],[0.4444444444444444,\"#bd3786\"],[0.5555555555555556,\"#d8576b\"],[0.6666666666666666,\"#ed7953\"],[0.7777777777777778,\"#fb9f3a\"],[0.8888888888888888,\"#fdca26\"],[1.0,\"#f0f921\"]]}],\"mesh3d\":[{\"type\":\"mesh3d\",\"colorbar\":{\"outlinewidth\":0,\"ticks\":\"\"}}],\"scatter\":[{\"fillpattern\":{\"fillmode\":\"overlay\",\"size\":10,\"solidity\":0.2},\"type\":\"scatter\"}],\"parcoords\":[{\"type\":\"parcoords\",\"line\":{\"colorbar\":{\"outlinewidth\":0,\"ticks\":\"\"}}}],\"scatterpolargl\":[{\"type\":\"scatterpolargl\",\"marker\":{\"colorbar\":{\"outlinewidth\":0,\"ticks\":\"\"}}}],\"bar\":[{\"error_x\":{\"color\":\"#2a3f5f\"},\"error_y\":{\"color\":\"#2a3f5f\"},\"marker\":{\"line\":{\"color\":\"#E5ECF6\",\"width\":0.5},\"pattern\":{\"fillmode\":\"overlay\",\"size\":10,\"solidity\":0.2}},\"type\":\"bar\"}],\"scattergeo\":[{\"type\":\"scattergeo\",\"marker\":{\"colorbar\":{\"outlinewidth\":0,\"ticks\":\"\"}}}],\"scatterpolar\":[{\"type\":\"scatterpolar\",\"marker\":{\"colorbar\":{\"outlinewidth\":0,\"ticks\":\"\"}}}],\"histogram\":[{\"marker\":{\"pattern\":{\"fillmode\":\"overlay\",\"size\":10,\"solidity\":0.2}},\"type\":\"histogram\"}],\"scattergl\":[{\"type\":\"scattergl\",\"marker\":{\"colorbar\":{\"outlinewidth\":0,\"ticks\":\"\"}}}],\"scatter3d\":[{\"type\":\"scatter3d\",\"line\":{\"colorbar\":{\"outlinewidth\":0,\"ticks\":\"\"}},\"marker\":{\"colorbar\":{\"outlinewidth\":0,\"ticks\":\"\"}}}],\"scattermapbox\":[{\"type\":\"scattermapbox\",\"marker\":{\"colorbar\":{\"outlinewidth\":0,\"ticks\":\"\"}}}],\"scatterternary\":[{\"type\":\"scatterternary\",\"marker\":{\"colorbar\":{\"outlinewidth\":0,\"ticks\":\"\"}}}],\"scattercarpet\":[{\"type\":\"scattercarpet\",\"marker\":{\"colorbar\":{\"outlinewidth\":0,\"ticks\":\"\"}}}],\"carpet\":[{\"aaxis\":{\"endlinecolor\":\"#2a3f5f\",\"gridcolor\":\"white\",\"linecolor\":\"white\",\"minorgridcolor\":\"white\",\"startlinecolor\":\"#2a3f5f\"},\"baxis\":{\"endlinecolor\":\"#2a3f5f\",\"gridcolor\":\"white\",\"linecolor\":\"white\",\"minorgridcolor\":\"white\",\"startlinecolor\":\"#2a3f5f\"},\"type\":\"carpet\"}],\"table\":[{\"cells\":{\"fill\":{\"color\":\"#EBF0F8\"},\"line\":{\"color\":\"white\"}},\"header\":{\"fill\":{\"color\":\"#C8D4E3\"},\"line\":{\"color\":\"white\"}},\"type\":\"table\"}],\"barpolar\":[{\"marker\":{\"line\":{\"color\":\"#E5ECF6\",\"width\":0.5},\"pattern\":{\"fillmode\":\"overlay\",\"size\":10,\"solidity\":0.2}},\"type\":\"barpolar\"}],\"pie\":[{\"automargin\":true,\"type\":\"pie\"}]},\"layout\":{\"autotypenumbers\":\"strict\",\"colorway\":[\"#636efa\",\"#EF553B\",\"#00cc96\",\"#ab63fa\",\"#FFA15A\",\"#19d3f3\",\"#FF6692\",\"#B6E880\",\"#FF97FF\",\"#FECB52\"],\"font\":{\"color\":\"#2a3f5f\"},\"hovermode\":\"closest\",\"hoverlabel\":{\"align\":\"left\"},\"paper_bgcolor\":\"white\",\"plot_bgcolor\":\"#E5ECF6\",\"polar\":{\"bgcolor\":\"#E5ECF6\",\"angularaxis\":{\"gridcolor\":\"white\",\"linecolor\":\"white\",\"ticks\":\"\"},\"radialaxis\":{\"gridcolor\":\"white\",\"linecolor\":\"white\",\"ticks\":\"\"}},\"ternary\":{\"bgcolor\":\"#E5ECF6\",\"aaxis\":{\"gridcolor\":\"white\",\"linecolor\":\"white\",\"ticks\":\"\"},\"baxis\":{\"gridcolor\":\"white\",\"linecolor\":\"white\",\"ticks\":\"\"},\"caxis\":{\"gridcolor\":\"white\",\"linecolor\":\"white\",\"ticks\":\"\"}},\"coloraxis\":{\"colorbar\":{\"outlinewidth\":0,\"ticks\":\"\"}},\"colorscale\":{\"sequential\":[[0.0,\"#0d0887\"],[0.1111111111111111,\"#46039f\"],[0.2222222222222222,\"#7201a8\"],[0.3333333333333333,\"#9c179e\"],[0.4444444444444444,\"#bd3786\"],[0.5555555555555556,\"#d8576b\"],[0.6666666666666666,\"#ed7953\"],[0.7777777777777778,\"#fb9f3a\"],[0.8888888888888888,\"#fdca26\"],[1.0,\"#f0f921\"]],\"sequentialminus\":[[0.0,\"#0d0887\"],[0.1111111111111111,\"#46039f\"],[0.2222222222222222,\"#7201a8\"],[0.3333333333333333,\"#9c179e\"],[0.4444444444444444,\"#bd3786\"],[0.5555555555555556,\"#d8576b\"],[0.6666666666666666,\"#ed7953\"],[0.7777777777777778,\"#fb9f3a\"],[0.8888888888888888,\"#fdca26\"],[1.0,\"#f0f921\"]],\"diverging\":[[0,\"#8e0152\"],[0.1,\"#c51b7d\"],[0.2,\"#de77ae\"],[0.3,\"#f1b6da\"],[0.4,\"#fde0ef\"],[0.5,\"#f7f7f7\"],[0.6,\"#e6f5d0\"],[0.7,\"#b8e186\"],[0.8,\"#7fbc41\"],[0.9,\"#4d9221\"],[1,\"#276419\"]]},\"xaxis\":{\"gridcolor\":\"white\",\"linecolor\":\"white\",\"ticks\":\"\",\"title\":{\"standoff\":15},\"zerolinecolor\":\"white\",\"automargin\":true,\"zerolinewidth\":2},\"yaxis\":{\"gridcolor\":\"white\",\"linecolor\":\"white\",\"ticks\":\"\",\"title\":{\"standoff\":15},\"zerolinecolor\":\"white\",\"automargin\":true,\"zerolinewidth\":2},\"scene\":{\"xaxis\":{\"backgroundcolor\":\"#E5ECF6\",\"gridcolor\":\"white\",\"linecolor\":\"white\",\"showbackground\":true,\"ticks\":\"\",\"zerolinecolor\":\"white\",\"gridwidth\":2},\"yaxis\":{\"backgroundcolor\":\"#E5ECF6\",\"gridcolor\":\"white\",\"linecolor\":\"white\",\"showbackground\":true,\"ticks\":\"\",\"zerolinecolor\":\"white\",\"gridwidth\":2},\"zaxis\":{\"backgroundcolor\":\"#E5ECF6\",\"gridcolor\":\"white\",\"linecolor\":\"white\",\"showbackground\":true,\"ticks\":\"\",\"zerolinecolor\":\"white\",\"gridwidth\":2}},\"shapedefaults\":{\"line\":{\"color\":\"#2a3f5f\"}},\"annotationdefaults\":{\"arrowcolor\":\"#2a3f5f\",\"arrowhead\":0,\"arrowwidth\":1},\"geo\":{\"bgcolor\":\"white\",\"landcolor\":\"#E5ECF6\",\"subunitcolor\":\"white\",\"showland\":true,\"showlakes\":true,\"lakecolor\":\"white\"},\"title\":{\"x\":0.05},\"mapbox\":{\"style\":\"light\"}}},\"yaxis\":{\"title\":{\"text\":\"Anomaly\"},\"categoryorder\":\"array\",\"categoryarray\":[\"high_risk\",\"moderate_risk\",\"low_risk\"]},\"title\":{\"text\":\"Count of Transaction Type by Anomaly\"},\"barmode\":\"stack\",\"xaxis\":{\"title\":{\"text\":\"Count\"}},\"legend\":{\"title\":{\"text\":\"Transaction Type\"}}},                        {\"responsive\": true}                    ).then(function(){\n",
              "                            \n",
              "var gd = document.getElementById('462f2637-7db0-40e3-afa3-112cba844ce0');\n",
              "var x = new MutationObserver(function (mutations, observer) {{\n",
              "        var display = window.getComputedStyle(gd).display;\n",
              "        if (!display || display === 'none') {{\n",
              "            console.log([gd, 'removed!']);\n",
              "            Plotly.purge(gd);\n",
              "            observer.disconnect();\n",
              "        }}\n",
              "}});\n",
              "\n",
              "// Listen for the removal of the full notebook cells\n",
              "var notebookContainer = gd.closest('#notebook-container');\n",
              "if (notebookContainer) {{\n",
              "    x.observe(notebookContainer, {childList: true});\n",
              "}}\n",
              "\n",
              "// Listen for the clearing of the current output cell\n",
              "var outputEl = gd.closest('.output');\n",
              "if (outputEl) {{\n",
              "    x.observe(outputEl, {childList: true});\n",
              "}}\n",
              "\n",
              "                        })                };                            </script>        </div>\n",
              "</body>\n",
              "</html>"
            ]
          },
          "metadata": {}
        }
      ],
      "source": [
        "\n",
        "# Calculate the count of each transaction_type within each anomaly category\n",
        "transaction_counts = metaverse.groupby(['anomaly', 'transaction_type']).size().unstack(fill_value=0)\n",
        "\n",
        "# Define the desired order for the 'anomaly' categories\n",
        "anomaly_order = ['high_risk', 'moderate_risk', 'low_risk']\n",
        "transaction_counts = transaction_counts.reindex(anomaly_order)\n",
        "\n",
        "# Create the plot\n",
        "fig = go.Figure()\n",
        "\n",
        "# Add one bar for each transaction_type\n",
        "for transaction_type in transaction_counts.columns:\n",
        "    fig.add_trace(go.Bar(\n",
        "        y=transaction_counts.index,\n",
        "        x=transaction_counts[transaction_type],\n",
        "        name=transaction_type,\n",
        "        orientation='h'\n",
        "    ))\n",
        "\n",
        "# Update the layout to adjust visual aspects and add the legend\n",
        "fig.update_layout(\n",
        "    title='Count of Transaction Type by Anomaly',\n",
        "    barmode='stack',  # Enable stacking\n",
        "    yaxis_title='Anomaly',\n",
        "    xaxis_title='Count',\n",
        "    yaxis={'categoryorder':'array', 'categoryarray': anomaly_order},\n",
        "    legend_title='Transaction Type'\n",
        ")\n",
        "\n",
        "# Show the plot\n",
        "fig.show()"
      ]
    },
    {
      "cell_type": "markdown",
      "source": [
        "**2d. Interpretation**:\n",
        "\n",
        "Building on from the previous bar chart detailing anomaly risk levels across different transaction types reveals a discernible pattern. Transaction types classified as \"transfer,\" \"sale,\" and \"purchase\" predominantly fall within the low risk category. In contrast, transactions labeled as \"phishing\" and \"scam\" are considerably represented in the high-risk category, yet they comprise a smaller proportion of the total count when compared to the combined instances of low and moderate risk. This suggests that while \"phishing\" and \"scam\" transactions are less frequent, they are more likely to be associated with higher risk levels."
      ],
      "metadata": {
        "id": "vH27iU5GmqWv"
      },
      "id": "vH27iU5GmqWv"
    },
    {
      "cell_type": "markdown",
      "source": [
        "## 3. Data Cleaning\n"
      ],
      "metadata": {
        "id": "lWKJekasgoqz"
      },
      "id": "lWKJekasgoqz"
    },
    {
      "cell_type": "code",
      "source": [
        "metaverse_encode = metaverse.copy()\n",
        "# Using one-hot encoding here for some of these categorial variables, which is useful for interpretation.\n",
        "metaverse_encode = pd.get_dummies(metaverse_encode, columns=['transaction_type', 'location_region', 'ip_prefix', 'purchase_pattern', 'age_group', 'anomaly'])\n",
        "\n",
        "metaverse_encode.info() # 32 columns"
      ],
      "metadata": {
        "id": "Eyep-K8Dgsbb",
        "colab": {
          "base_uri": "https://localhost:8080/"
        },
        "outputId": "d7e22a56-13f1-4c84-d258-03fd9facbd0d"
      },
      "id": "Eyep-K8Dgsbb",
      "execution_count": null,
      "outputs": [
        {
          "output_type": "stream",
          "name": "stdout",
          "text": [
            "<class 'pandas.core.frame.DataFrame'>\n",
            "RangeIndex: 78600 entries, 0 to 78599\n",
            "Data columns (total 32 columns):\n",
            " #   Column                         Non-Null Count  Dtype  \n",
            "---  ------                         --------------  -----  \n",
            " 0   timestamp                      78600 non-null  object \n",
            " 1   hour_of_day                    78600 non-null  int64  \n",
            " 2   sending_address                78600 non-null  object \n",
            " 3   receiving_address              78600 non-null  object \n",
            " 4   amount                         78600 non-null  float64\n",
            " 5   login_frequency                78600 non-null  int64  \n",
            " 6   session_duration               78600 non-null  int64  \n",
            " 7   risk_score                     78600 non-null  float64\n",
            " 8   transaction_type_phishing      78600 non-null  uint8  \n",
            " 9   transaction_type_purchase      78600 non-null  uint8  \n",
            " 10  transaction_type_sale          78600 non-null  uint8  \n",
            " 11  transaction_type_scam          78600 non-null  uint8  \n",
            " 12  transaction_type_transfer      78600 non-null  uint8  \n",
            " 13  location_region_Africa         78600 non-null  uint8  \n",
            " 14  location_region_Asia           78600 non-null  uint8  \n",
            " 15  location_region_Europe         78600 non-null  uint8  \n",
            " 16  location_region_North America  78600 non-null  uint8  \n",
            " 17  location_region_South America  78600 non-null  uint8  \n",
            " 18  ip_prefix_10.0                 78600 non-null  uint8  \n",
            " 19  ip_prefix_172.0                78600 non-null  uint8  \n",
            " 20  ip_prefix_172.16               78600 non-null  uint8  \n",
            " 21  ip_prefix_192.0                78600 non-null  uint8  \n",
            " 22  ip_prefix_192.168              78600 non-null  uint8  \n",
            " 23  purchase_pattern_focused       78600 non-null  uint8  \n",
            " 24  purchase_pattern_high_value    78600 non-null  uint8  \n",
            " 25  purchase_pattern_random        78600 non-null  uint8  \n",
            " 26  age_group_established          78600 non-null  uint8  \n",
            " 27  age_group_new                  78600 non-null  uint8  \n",
            " 28  age_group_veteran              78600 non-null  uint8  \n",
            " 29  anomaly_high_risk              78600 non-null  uint8  \n",
            " 30  anomaly_low_risk               78600 non-null  uint8  \n",
            " 31  anomaly_moderate_risk          78600 non-null  uint8  \n",
            "dtypes: float64(2), int64(3), object(3), uint8(24)\n",
            "memory usage: 6.6+ MB\n"
          ]
        }
      ]
    },
    {
      "cell_type": "markdown",
      "source": [
        "**3a. Note**:\n",
        "\n",
        "We created a copy of the Dataframe (\"metaverse\") and then apply one-hot encoding to several categorical columns, transforming them into binary variables for each unique category.\n",
        "This process expands the Dataframe, resulting in a total of 32 columns, including both the newly created binary columns for each category in the specified fields and any existing numerical columns."
      ],
      "metadata": {
        "id": "iJtuynS7m25-"
      },
      "id": "iJtuynS7m25-"
    },
    {
      "cell_type": "code",
      "source": [
        "from sklearn.preprocessing import LabelEncoder\n",
        "\n",
        "# As addresses are all really different, using one-hot can explode the numbers of varaibles, so we are using lable-encoding here.\n",
        "to_labelEncode = ['sending_address', 'receiving_address']\n",
        "\n",
        "for c in to_labelEncode:\n",
        "    lbl = LabelEncoder()\n",
        "    lbl.fit(list(metaverse_encode[c].values))\n",
        "    metaverse_encode[c] = lbl.transform(list(metaverse_encode[c].values))\n",
        "\n",
        "# Dropping the variable \"timestamp\" as we already have the variable \"hour_of_date\" to measure the time.\n",
        "metaverse_encode.drop('timestamp', axis = 1, inplace = True)\n",
        "\n",
        "metaverse_encode.head() # 31 columns"
      ],
      "metadata": {
        "colab": {
          "base_uri": "https://localhost:8080/",
          "height": 256
        },
        "id": "p818JQEUxkd0",
        "outputId": "446e131a-8d79-4d60-9889-f5d98289c434"
      },
      "id": "p818JQEUxkd0",
      "execution_count": null,
      "outputs": [
        {
          "output_type": "execute_result",
          "data": {
            "text/plain": [
              "   hour_of_day  sending_address  receiving_address      amount  \\\n",
              "0           12              700                276  796.949206   \n",
              "1           19              960                369    0.010000   \n",
              "2           16              227                375  778.197390   \n",
              "3            9              664                629  300.838358   \n",
              "4           14              771                508  775.569344   \n",
              "\n",
              "   login_frequency  session_duration  risk_score  transaction_type_phishing  \\\n",
              "0                3                48       18.75                          0   \n",
              "1                5                61       25.00                          0   \n",
              "2                3                74       31.25                          0   \n",
              "3                8               111       36.75                          0   \n",
              "4                6               100       62.50                          0   \n",
              "\n",
              "   transaction_type_purchase  transaction_type_sale  ...  ip_prefix_192.168  \\\n",
              "0                          0                      0  ...                  0   \n",
              "1                          1                      0  ...                  0   \n",
              "2                          1                      0  ...                  1   \n",
              "3                          0                      0  ...                  0   \n",
              "4                          0                      1  ...                  0   \n",
              "\n",
              "   purchase_pattern_focused  purchase_pattern_high_value  \\\n",
              "0                         1                            0   \n",
              "1                         1                            0   \n",
              "2                         1                            0   \n",
              "3                         0                            1   \n",
              "4                         0                            1   \n",
              "\n",
              "   purchase_pattern_random  age_group_established  age_group_new  \\\n",
              "0                        0                      1              0   \n",
              "1                        0                      1              0   \n",
              "2                        0                      1              0   \n",
              "3                        0                      0              0   \n",
              "4                        0                      0              0   \n",
              "\n",
              "   age_group_veteran  anomaly_high_risk  anomaly_low_risk  \\\n",
              "0                  0                  0                 1   \n",
              "1                  0                  0                 1   \n",
              "2                  0                  0                 1   \n",
              "3                  1                  0                 1   \n",
              "4                  1                  0                 0   \n",
              "\n",
              "   anomaly_moderate_risk  \n",
              "0                      0  \n",
              "1                      0  \n",
              "2                      0  \n",
              "3                      0  \n",
              "4                      1  \n",
              "\n",
              "[5 rows x 31 columns]"
            ],
            "text/html": [
              "\n",
              "  <div id=\"df-8bca861d-d88e-47df-8482-3d621a7194cf\" class=\"colab-df-container\">\n",
              "    <div>\n",
              "<style scoped>\n",
              "    .dataframe tbody tr th:only-of-type {\n",
              "        vertical-align: middle;\n",
              "    }\n",
              "\n",
              "    .dataframe tbody tr th {\n",
              "        vertical-align: top;\n",
              "    }\n",
              "\n",
              "    .dataframe thead th {\n",
              "        text-align: right;\n",
              "    }\n",
              "</style>\n",
              "<table border=\"1\" class=\"dataframe\">\n",
              "  <thead>\n",
              "    <tr style=\"text-align: right;\">\n",
              "      <th></th>\n",
              "      <th>hour_of_day</th>\n",
              "      <th>sending_address</th>\n",
              "      <th>receiving_address</th>\n",
              "      <th>amount</th>\n",
              "      <th>login_frequency</th>\n",
              "      <th>session_duration</th>\n",
              "      <th>risk_score</th>\n",
              "      <th>transaction_type_phishing</th>\n",
              "      <th>transaction_type_purchase</th>\n",
              "      <th>transaction_type_sale</th>\n",
              "      <th>...</th>\n",
              "      <th>ip_prefix_192.168</th>\n",
              "      <th>purchase_pattern_focused</th>\n",
              "      <th>purchase_pattern_high_value</th>\n",
              "      <th>purchase_pattern_random</th>\n",
              "      <th>age_group_established</th>\n",
              "      <th>age_group_new</th>\n",
              "      <th>age_group_veteran</th>\n",
              "      <th>anomaly_high_risk</th>\n",
              "      <th>anomaly_low_risk</th>\n",
              "      <th>anomaly_moderate_risk</th>\n",
              "    </tr>\n",
              "  </thead>\n",
              "  <tbody>\n",
              "    <tr>\n",
              "      <th>0</th>\n",
              "      <td>12</td>\n",
              "      <td>700</td>\n",
              "      <td>276</td>\n",
              "      <td>796.949206</td>\n",
              "      <td>3</td>\n",
              "      <td>48</td>\n",
              "      <td>18.75</td>\n",
              "      <td>0</td>\n",
              "      <td>0</td>\n",
              "      <td>0</td>\n",
              "      <td>...</td>\n",
              "      <td>0</td>\n",
              "      <td>1</td>\n",
              "      <td>0</td>\n",
              "      <td>0</td>\n",
              "      <td>1</td>\n",
              "      <td>0</td>\n",
              "      <td>0</td>\n",
              "      <td>0</td>\n",
              "      <td>1</td>\n",
              "      <td>0</td>\n",
              "    </tr>\n",
              "    <tr>\n",
              "      <th>1</th>\n",
              "      <td>19</td>\n",
              "      <td>960</td>\n",
              "      <td>369</td>\n",
              "      <td>0.010000</td>\n",
              "      <td>5</td>\n",
              "      <td>61</td>\n",
              "      <td>25.00</td>\n",
              "      <td>0</td>\n",
              "      <td>1</td>\n",
              "      <td>0</td>\n",
              "      <td>...</td>\n",
              "      <td>0</td>\n",
              "      <td>1</td>\n",
              "      <td>0</td>\n",
              "      <td>0</td>\n",
              "      <td>1</td>\n",
              "      <td>0</td>\n",
              "      <td>0</td>\n",
              "      <td>0</td>\n",
              "      <td>1</td>\n",
              "      <td>0</td>\n",
              "    </tr>\n",
              "    <tr>\n",
              "      <th>2</th>\n",
              "      <td>16</td>\n",
              "      <td>227</td>\n",
              "      <td>375</td>\n",
              "      <td>778.197390</td>\n",
              "      <td>3</td>\n",
              "      <td>74</td>\n",
              "      <td>31.25</td>\n",
              "      <td>0</td>\n",
              "      <td>1</td>\n",
              "      <td>0</td>\n",
              "      <td>...</td>\n",
              "      <td>1</td>\n",
              "      <td>1</td>\n",
              "      <td>0</td>\n",
              "      <td>0</td>\n",
              "      <td>1</td>\n",
              "      <td>0</td>\n",
              "      <td>0</td>\n",
              "      <td>0</td>\n",
              "      <td>1</td>\n",
              "      <td>0</td>\n",
              "    </tr>\n",
              "    <tr>\n",
              "      <th>3</th>\n",
              "      <td>9</td>\n",
              "      <td>664</td>\n",
              "      <td>629</td>\n",
              "      <td>300.838358</td>\n",
              "      <td>8</td>\n",
              "      <td>111</td>\n",
              "      <td>36.75</td>\n",
              "      <td>0</td>\n",
              "      <td>0</td>\n",
              "      <td>0</td>\n",
              "      <td>...</td>\n",
              "      <td>0</td>\n",
              "      <td>0</td>\n",
              "      <td>1</td>\n",
              "      <td>0</td>\n",
              "      <td>0</td>\n",
              "      <td>0</td>\n",
              "      <td>1</td>\n",
              "      <td>0</td>\n",
              "      <td>1</td>\n",
              "      <td>0</td>\n",
              "    </tr>\n",
              "    <tr>\n",
              "      <th>4</th>\n",
              "      <td>14</td>\n",
              "      <td>771</td>\n",
              "      <td>508</td>\n",
              "      <td>775.569344</td>\n",
              "      <td>6</td>\n",
              "      <td>100</td>\n",
              "      <td>62.50</td>\n",
              "      <td>0</td>\n",
              "      <td>0</td>\n",
              "      <td>1</td>\n",
              "      <td>...</td>\n",
              "      <td>0</td>\n",
              "      <td>0</td>\n",
              "      <td>1</td>\n",
              "      <td>0</td>\n",
              "      <td>0</td>\n",
              "      <td>0</td>\n",
              "      <td>1</td>\n",
              "      <td>0</td>\n",
              "      <td>0</td>\n",
              "      <td>1</td>\n",
              "    </tr>\n",
              "  </tbody>\n",
              "</table>\n",
              "<p>5 rows × 31 columns</p>\n",
              "</div>\n",
              "    <div class=\"colab-df-buttons\">\n",
              "\n",
              "  <div class=\"colab-df-container\">\n",
              "    <button class=\"colab-df-convert\" onclick=\"convertToInteractive('df-8bca861d-d88e-47df-8482-3d621a7194cf')\"\n",
              "            title=\"Convert this dataframe to an interactive table.\"\n",
              "            style=\"display:none;\">\n",
              "\n",
              "  <svg xmlns=\"http://www.w3.org/2000/svg\" height=\"24px\" viewBox=\"0 -960 960 960\">\n",
              "    <path d=\"M120-120v-720h720v720H120Zm60-500h600v-160H180v160Zm220 220h160v-160H400v160Zm0 220h160v-160H400v160ZM180-400h160v-160H180v160Zm440 0h160v-160H620v160ZM180-180h160v-160H180v160Zm440 0h160v-160H620v160Z\"/>\n",
              "  </svg>\n",
              "    </button>\n",
              "\n",
              "  <style>\n",
              "    .colab-df-container {\n",
              "      display:flex;\n",
              "      gap: 12px;\n",
              "    }\n",
              "\n",
              "    .colab-df-convert {\n",
              "      background-color: #E8F0FE;\n",
              "      border: none;\n",
              "      border-radius: 50%;\n",
              "      cursor: pointer;\n",
              "      display: none;\n",
              "      fill: #1967D2;\n",
              "      height: 32px;\n",
              "      padding: 0 0 0 0;\n",
              "      width: 32px;\n",
              "    }\n",
              "\n",
              "    .colab-df-convert:hover {\n",
              "      background-color: #E2EBFA;\n",
              "      box-shadow: 0px 1px 2px rgba(60, 64, 67, 0.3), 0px 1px 3px 1px rgba(60, 64, 67, 0.15);\n",
              "      fill: #174EA6;\n",
              "    }\n",
              "\n",
              "    .colab-df-buttons div {\n",
              "      margin-bottom: 4px;\n",
              "    }\n",
              "\n",
              "    [theme=dark] .colab-df-convert {\n",
              "      background-color: #3B4455;\n",
              "      fill: #D2E3FC;\n",
              "    }\n",
              "\n",
              "    [theme=dark] .colab-df-convert:hover {\n",
              "      background-color: #434B5C;\n",
              "      box-shadow: 0px 1px 3px 1px rgba(0, 0, 0, 0.15);\n",
              "      filter: drop-shadow(0px 1px 2px rgba(0, 0, 0, 0.3));\n",
              "      fill: #FFFFFF;\n",
              "    }\n",
              "  </style>\n",
              "\n",
              "    <script>\n",
              "      const buttonEl =\n",
              "        document.querySelector('#df-8bca861d-d88e-47df-8482-3d621a7194cf button.colab-df-convert');\n",
              "      buttonEl.style.display =\n",
              "        google.colab.kernel.accessAllowed ? 'block' : 'none';\n",
              "\n",
              "      async function convertToInteractive(key) {\n",
              "        const element = document.querySelector('#df-8bca861d-d88e-47df-8482-3d621a7194cf');\n",
              "        const dataTable =\n",
              "          await google.colab.kernel.invokeFunction('convertToInteractive',\n",
              "                                                    [key], {});\n",
              "        if (!dataTable) return;\n",
              "\n",
              "        const docLinkHtml = 'Like what you see? Visit the ' +\n",
              "          '<a target=\"_blank\" href=https://colab.research.google.com/notebooks/data_table.ipynb>data table notebook</a>'\n",
              "          + ' to learn more about interactive tables.';\n",
              "        element.innerHTML = '';\n",
              "        dataTable['output_type'] = 'display_data';\n",
              "        await google.colab.output.renderOutput(dataTable, element);\n",
              "        const docLink = document.createElement('div');\n",
              "        docLink.innerHTML = docLinkHtml;\n",
              "        element.appendChild(docLink);\n",
              "      }\n",
              "    </script>\n",
              "  </div>\n",
              "\n",
              "\n",
              "<div id=\"df-6fcb83e9-6521-4068-b812-2087a83ec648\">\n",
              "  <button class=\"colab-df-quickchart\" onclick=\"quickchart('df-6fcb83e9-6521-4068-b812-2087a83ec648')\"\n",
              "            title=\"Suggest charts\"\n",
              "            style=\"display:none;\">\n",
              "\n",
              "<svg xmlns=\"http://www.w3.org/2000/svg\" height=\"24px\"viewBox=\"0 0 24 24\"\n",
              "     width=\"24px\">\n",
              "    <g>\n",
              "        <path d=\"M19 3H5c-1.1 0-2 .9-2 2v14c0 1.1.9 2 2 2h14c1.1 0 2-.9 2-2V5c0-1.1-.9-2-2-2zM9 17H7v-7h2v7zm4 0h-2V7h2v10zm4 0h-2v-4h2v4z\"/>\n",
              "    </g>\n",
              "</svg>\n",
              "  </button>\n",
              "\n",
              "<style>\n",
              "  .colab-df-quickchart {\n",
              "      --bg-color: #E8F0FE;\n",
              "      --fill-color: #1967D2;\n",
              "      --hover-bg-color: #E2EBFA;\n",
              "      --hover-fill-color: #174EA6;\n",
              "      --disabled-fill-color: #AAA;\n",
              "      --disabled-bg-color: #DDD;\n",
              "  }\n",
              "\n",
              "  [theme=dark] .colab-df-quickchart {\n",
              "      --bg-color: #3B4455;\n",
              "      --fill-color: #D2E3FC;\n",
              "      --hover-bg-color: #434B5C;\n",
              "      --hover-fill-color: #FFFFFF;\n",
              "      --disabled-bg-color: #3B4455;\n",
              "      --disabled-fill-color: #666;\n",
              "  }\n",
              "\n",
              "  .colab-df-quickchart {\n",
              "    background-color: var(--bg-color);\n",
              "    border: none;\n",
              "    border-radius: 50%;\n",
              "    cursor: pointer;\n",
              "    display: none;\n",
              "    fill: var(--fill-color);\n",
              "    height: 32px;\n",
              "    padding: 0;\n",
              "    width: 32px;\n",
              "  }\n",
              "\n",
              "  .colab-df-quickchart:hover {\n",
              "    background-color: var(--hover-bg-color);\n",
              "    box-shadow: 0 1px 2px rgba(60, 64, 67, 0.3), 0 1px 3px 1px rgba(60, 64, 67, 0.15);\n",
              "    fill: var(--button-hover-fill-color);\n",
              "  }\n",
              "\n",
              "  .colab-df-quickchart-complete:disabled,\n",
              "  .colab-df-quickchart-complete:disabled:hover {\n",
              "    background-color: var(--disabled-bg-color);\n",
              "    fill: var(--disabled-fill-color);\n",
              "    box-shadow: none;\n",
              "  }\n",
              "\n",
              "  .colab-df-spinner {\n",
              "    border: 2px solid var(--fill-color);\n",
              "    border-color: transparent;\n",
              "    border-bottom-color: var(--fill-color);\n",
              "    animation:\n",
              "      spin 1s steps(1) infinite;\n",
              "  }\n",
              "\n",
              "  @keyframes spin {\n",
              "    0% {\n",
              "      border-color: transparent;\n",
              "      border-bottom-color: var(--fill-color);\n",
              "      border-left-color: var(--fill-color);\n",
              "    }\n",
              "    20% {\n",
              "      border-color: transparent;\n",
              "      border-left-color: var(--fill-color);\n",
              "      border-top-color: var(--fill-color);\n",
              "    }\n",
              "    30% {\n",
              "      border-color: transparent;\n",
              "      border-left-color: var(--fill-color);\n",
              "      border-top-color: var(--fill-color);\n",
              "      border-right-color: var(--fill-color);\n",
              "    }\n",
              "    40% {\n",
              "      border-color: transparent;\n",
              "      border-right-color: var(--fill-color);\n",
              "      border-top-color: var(--fill-color);\n",
              "    }\n",
              "    60% {\n",
              "      border-color: transparent;\n",
              "      border-right-color: var(--fill-color);\n",
              "    }\n",
              "    80% {\n",
              "      border-color: transparent;\n",
              "      border-right-color: var(--fill-color);\n",
              "      border-bottom-color: var(--fill-color);\n",
              "    }\n",
              "    90% {\n",
              "      border-color: transparent;\n",
              "      border-bottom-color: var(--fill-color);\n",
              "    }\n",
              "  }\n",
              "</style>\n",
              "\n",
              "  <script>\n",
              "    async function quickchart(key) {\n",
              "      const quickchartButtonEl =\n",
              "        document.querySelector('#' + key + ' button');\n",
              "      quickchartButtonEl.disabled = true;  // To prevent multiple clicks.\n",
              "      quickchartButtonEl.classList.add('colab-df-spinner');\n",
              "      try {\n",
              "        const charts = await google.colab.kernel.invokeFunction(\n",
              "            'suggestCharts', [key], {});\n",
              "      } catch (error) {\n",
              "        console.error('Error during call to suggestCharts:', error);\n",
              "      }\n",
              "      quickchartButtonEl.classList.remove('colab-df-spinner');\n",
              "      quickchartButtonEl.classList.add('colab-df-quickchart-complete');\n",
              "    }\n",
              "    (() => {\n",
              "      let quickchartButtonEl =\n",
              "        document.querySelector('#df-6fcb83e9-6521-4068-b812-2087a83ec648 button');\n",
              "      quickchartButtonEl.style.display =\n",
              "        google.colab.kernel.accessAllowed ? 'block' : 'none';\n",
              "    })();\n",
              "  </script>\n",
              "</div>\n",
              "    </div>\n",
              "  </div>\n"
            ],
            "application/vnd.google.colaboratory.intrinsic+json": {
              "type": "dataframe",
              "variable_name": "metaverse_encode"
            }
          },
          "metadata": {},
          "execution_count": 12
        }
      ]
    },
    {
      "cell_type": "markdown",
      "source": [
        "**3b. Note**:\n",
        "\n",
        "The copied encoded DataFrame is applied label encoding to the 'sending_address' and 'receiving_address' columns, which have a large number of unique values. Label encoding converts each unique string in these columns into a numerical value, preventing the creation of a prohibitively large number of new variables that would result from one-hot encoding. Following this, the 'timestamp' column is removed from the DataFrame under the assumption that the 'hour_of_day' variable sufficiently captures the necessary temporal information."
      ],
      "metadata": {
        "id": "lZZg-8yboL_L"
      },
      "id": "lZZg-8yboL_L"
    },
    {
      "cell_type": "markdown",
      "source": [
        "## 4. Data Training & Testing"
      ],
      "metadata": {
        "id": "bLUdezqthjR3"
      },
      "id": "bLUdezqthjR3"
    },
    {
      "cell_type": "markdown",
      "source": [
        "**Goal**:\n",
        "\n",
        "\"Risk_score\" is our target variable. We are trying to see which variables could influence the risk_score, which measures the risk of each transactions based on the transaction characteristics and user behavior."
      ],
      "metadata": {
        "id": "imGjO7XFQTYQ"
      },
      "id": "imGjO7XFQTYQ"
    },
    {
      "cell_type": "code",
      "source": [
        "from sklearn.preprocessing import StandardScaler\n",
        "from sklearn.model_selection import train_test_split\n",
        "\n",
        "X = metaverse_encode.drop(['risk_score'], axis = 1)\n",
        "y = metaverse_encode['risk_score']\n",
        "# Split the data\n",
        "X_train, X_test, y_train, y_test = train_test_split(X, y, test_size=0.3, random_state=1)\n",
        "# Standardize the features\n",
        "scaler = StandardScaler()\n",
        "X_train_scaled = scaler.fit_transform(X_train)\n",
        "X_test_scaled = scaler.transform(X_test)"
      ],
      "metadata": {
        "id": "Hsnzg8wBhqqb"
      },
      "id": "Hsnzg8wBhqqb",
      "execution_count": null,
      "outputs": []
    },
    {
      "cell_type": "markdown",
      "source": [
        "## 5a. Linear Regression Model"
      ],
      "metadata": {
        "id": "bL2e-B1HgxM_"
      },
      "id": "bL2e-B1HgxM_"
    },
    {
      "cell_type": "code",
      "source": [
        "# Add a constant to the scaled training data to include an intercept in the model\n",
        "X_train_scaled_with_const = sm.add_constant(X_train_scaled)\n",
        "\n",
        "# Fit the Linear Regression model using statsmodels\n",
        "model = sm.OLS(y_train, X_train_scaled_with_const).fit()\n",
        "\n",
        "# Print the summary of the regression model\n",
        "model.summary()"
      ],
      "metadata": {
        "colab": {
          "base_uri": "https://localhost:8080/",
          "height": 1000
        },
        "id": "l4UgIasbguti",
        "outputId": "15535809-8d56-4e70-f895-5de927d26191"
      },
      "id": "l4UgIasbguti",
      "execution_count": null,
      "outputs": [
        {
          "output_type": "execute_result",
          "data": {
            "text/plain": [
              "<class 'statsmodels.iolib.summary.Summary'>\n",
              "\"\"\"\n",
              "                            OLS Regression Results                            \n",
              "==============================================================================\n",
              "Dep. Variable:             risk_score   R-squared:                       0.971\n",
              "Model:                            OLS   Adj. R-squared:                  0.971\n",
              "Method:                 Least Squares   F-statistic:                 8.633e+04\n",
              "Date:                Sun, 24 Mar 2024   Prob (F-statistic):               0.00\n",
              "Time:                        17:37:00   Log-Likelihood:            -1.5059e+05\n",
              "No. Observations:               55020   AIC:                         3.012e+05\n",
              "Df Residuals:                   54998   BIC:                         3.014e+05\n",
              "Df Model:                          21                                         \n",
              "Covariance Type:            nonrobust                                         \n",
              "==============================================================================\n",
              "                 coef    std err          t      P>|t|      [0.025      0.975]\n",
              "------------------------------------------------------------------------------\n",
              "const         44.9809      0.016   2823.484      0.000      44.950      45.012\n",
              "x1            -3.4693      0.017   -208.758      0.000      -3.502      -3.437\n",
              "x2            -0.0253      0.016     -1.590      0.112      -0.057       0.006\n",
              "x3             0.0027      0.016      0.170      0.865      -0.029       0.034\n",
              "x4             1.9548      0.016    119.493      0.000       1.923       1.987\n",
              "x5            -0.0816      0.052     -1.567      0.117      -0.184       0.020\n",
              "x6            -0.0368      0.042     -0.874      0.382      -0.119       0.046\n",
              "x7             4.2802      0.013    327.523      0.000       4.255       4.306\n",
              "x8            -0.0953      0.015     -6.468      0.000      -0.124      -0.066\n",
              "x9             1.4287      0.015     93.864      0.000       1.399       1.459\n",
              "x10            4.3814      0.012    379.957      0.000       4.359       4.404\n",
              "x11           -5.2116      0.012   -440.871      0.000      -5.235      -5.188\n",
              "x12            0.0047      0.013      0.370      0.712      -0.020       0.030\n",
              "x13           -0.0193      0.013     -1.519      0.129      -0.044       0.006\n",
              "x14            0.0103      0.013      0.806      0.420      -0.015       0.035\n",
              "x15            0.0003      0.013      0.020      0.984      -0.025       0.025\n",
              "x16            0.0041      0.013      0.324      0.746      -0.021       0.029\n",
              "x17            0.0131      0.013      1.029      0.303      -0.012       0.038\n",
              "x18           -0.0068      0.013     -0.535      0.593      -0.032       0.018\n",
              "x19           -0.0017      0.013     -0.133      0.894      -0.027       0.023\n",
              "x20           -0.0054      0.013     -0.420      0.675      -0.030       0.020\n",
              "x21            0.0008      0.013      0.059      0.953      -0.024       0.026\n",
              "x22           -2.7416      0.008   -355.315      0.000      -2.757      -2.727\n",
              "x23            2.5339      0.021    123.451      0.000       2.494       2.574\n",
              "x24            0.1991      0.018     11.075      0.000       0.164       0.234\n",
              "x25           -2.7416      0.008   -355.315      0.000      -2.757      -2.727\n",
              "x26            0.1991      0.018     11.075      0.000       0.164       0.234\n",
              "x27            2.5339      0.021    123.451      0.000       2.494       2.574\n",
              "x28            6.2324      0.008    787.823      0.000       6.217       6.248\n",
              "x29           -4.3814      0.009   -469.641      0.000      -4.400      -4.363\n",
              "x30            0.0300      0.014      2.181      0.029       0.003       0.057\n",
              "==============================================================================\n",
              "Omnibus:                     2923.328   Durbin-Watson:                   2.009\n",
              "Prob(Omnibus):                  0.000   Jarque-Bera (JB):             3776.889\n",
              "Skew:                           0.524   Prob(JB):                         0.00\n",
              "Kurtosis:                       3.741   Cond. No.                     2.21e+16\n",
              "==============================================================================\n",
              "\n",
              "Notes:\n",
              "[1] Standard Errors assume that the covariance matrix of the errors is correctly specified.\n",
              "[2] The smallest eigenvalue is 6.46e-28. This might indicate that there are\n",
              "strong multicollinearity problems or that the design matrix is singular.\n",
              "\"\"\""
            ],
            "text/html": [
              "<table class=\"simpletable\">\n",
              "<caption>OLS Regression Results</caption>\n",
              "<tr>\n",
              "  <th>Dep. Variable:</th>       <td>risk_score</td>    <th>  R-squared:         </th>  <td>   0.971</td>  \n",
              "</tr>\n",
              "<tr>\n",
              "  <th>Model:</th>                   <td>OLS</td>       <th>  Adj. R-squared:    </th>  <td>   0.971</td>  \n",
              "</tr>\n",
              "<tr>\n",
              "  <th>Method:</th>             <td>Least Squares</td>  <th>  F-statistic:       </th>  <td>8.633e+04</td> \n",
              "</tr>\n",
              "<tr>\n",
              "  <th>Date:</th>             <td>Sun, 24 Mar 2024</td> <th>  Prob (F-statistic):</th>   <td>  0.00</td>   \n",
              "</tr>\n",
              "<tr>\n",
              "  <th>Time:</th>                 <td>17:37:00</td>     <th>  Log-Likelihood:    </th> <td>-1.5059e+05</td>\n",
              "</tr>\n",
              "<tr>\n",
              "  <th>No. Observations:</th>      <td> 55020</td>      <th>  AIC:               </th>  <td>3.012e+05</td> \n",
              "</tr>\n",
              "<tr>\n",
              "  <th>Df Residuals:</th>          <td> 54998</td>      <th>  BIC:               </th>  <td>3.014e+05</td> \n",
              "</tr>\n",
              "<tr>\n",
              "  <th>Df Model:</th>              <td>    21</td>      <th>                     </th>      <td> </td>     \n",
              "</tr>\n",
              "<tr>\n",
              "  <th>Covariance Type:</th>      <td>nonrobust</td>    <th>                     </th>      <td> </td>     \n",
              "</tr>\n",
              "</table>\n",
              "<table class=\"simpletable\">\n",
              "<tr>\n",
              "    <td></td>       <th>coef</th>     <th>std err</th>      <th>t</th>      <th>P>|t|</th>  <th>[0.025</th>    <th>0.975]</th>  \n",
              "</tr>\n",
              "<tr>\n",
              "  <th>const</th> <td>   44.9809</td> <td>    0.016</td> <td> 2823.484</td> <td> 0.000</td> <td>   44.950</td> <td>   45.012</td>\n",
              "</tr>\n",
              "<tr>\n",
              "  <th>x1</th>    <td>   -3.4693</td> <td>    0.017</td> <td> -208.758</td> <td> 0.000</td> <td>   -3.502</td> <td>   -3.437</td>\n",
              "</tr>\n",
              "<tr>\n",
              "  <th>x2</th>    <td>   -0.0253</td> <td>    0.016</td> <td>   -1.590</td> <td> 0.112</td> <td>   -0.057</td> <td>    0.006</td>\n",
              "</tr>\n",
              "<tr>\n",
              "  <th>x3</th>    <td>    0.0027</td> <td>    0.016</td> <td>    0.170</td> <td> 0.865</td> <td>   -0.029</td> <td>    0.034</td>\n",
              "</tr>\n",
              "<tr>\n",
              "  <th>x4</th>    <td>    1.9548</td> <td>    0.016</td> <td>  119.493</td> <td> 0.000</td> <td>    1.923</td> <td>    1.987</td>\n",
              "</tr>\n",
              "<tr>\n",
              "  <th>x5</th>    <td>   -0.0816</td> <td>    0.052</td> <td>   -1.567</td> <td> 0.117</td> <td>   -0.184</td> <td>    0.020</td>\n",
              "</tr>\n",
              "<tr>\n",
              "  <th>x6</th>    <td>   -0.0368</td> <td>    0.042</td> <td>   -0.874</td> <td> 0.382</td> <td>   -0.119</td> <td>    0.046</td>\n",
              "</tr>\n",
              "<tr>\n",
              "  <th>x7</th>    <td>    4.2802</td> <td>    0.013</td> <td>  327.523</td> <td> 0.000</td> <td>    4.255</td> <td>    4.306</td>\n",
              "</tr>\n",
              "<tr>\n",
              "  <th>x8</th>    <td>   -0.0953</td> <td>    0.015</td> <td>   -6.468</td> <td> 0.000</td> <td>   -0.124</td> <td>   -0.066</td>\n",
              "</tr>\n",
              "<tr>\n",
              "  <th>x9</th>    <td>    1.4287</td> <td>    0.015</td> <td>   93.864</td> <td> 0.000</td> <td>    1.399</td> <td>    1.459</td>\n",
              "</tr>\n",
              "<tr>\n",
              "  <th>x10</th>   <td>    4.3814</td> <td>    0.012</td> <td>  379.957</td> <td> 0.000</td> <td>    4.359</td> <td>    4.404</td>\n",
              "</tr>\n",
              "<tr>\n",
              "  <th>x11</th>   <td>   -5.2116</td> <td>    0.012</td> <td> -440.871</td> <td> 0.000</td> <td>   -5.235</td> <td>   -5.188</td>\n",
              "</tr>\n",
              "<tr>\n",
              "  <th>x12</th>   <td>    0.0047</td> <td>    0.013</td> <td>    0.370</td> <td> 0.712</td> <td>   -0.020</td> <td>    0.030</td>\n",
              "</tr>\n",
              "<tr>\n",
              "  <th>x13</th>   <td>   -0.0193</td> <td>    0.013</td> <td>   -1.519</td> <td> 0.129</td> <td>   -0.044</td> <td>    0.006</td>\n",
              "</tr>\n",
              "<tr>\n",
              "  <th>x14</th>   <td>    0.0103</td> <td>    0.013</td> <td>    0.806</td> <td> 0.420</td> <td>   -0.015</td> <td>    0.035</td>\n",
              "</tr>\n",
              "<tr>\n",
              "  <th>x15</th>   <td>    0.0003</td> <td>    0.013</td> <td>    0.020</td> <td> 0.984</td> <td>   -0.025</td> <td>    0.025</td>\n",
              "</tr>\n",
              "<tr>\n",
              "  <th>x16</th>   <td>    0.0041</td> <td>    0.013</td> <td>    0.324</td> <td> 0.746</td> <td>   -0.021</td> <td>    0.029</td>\n",
              "</tr>\n",
              "<tr>\n",
              "  <th>x17</th>   <td>    0.0131</td> <td>    0.013</td> <td>    1.029</td> <td> 0.303</td> <td>   -0.012</td> <td>    0.038</td>\n",
              "</tr>\n",
              "<tr>\n",
              "  <th>x18</th>   <td>   -0.0068</td> <td>    0.013</td> <td>   -0.535</td> <td> 0.593</td> <td>   -0.032</td> <td>    0.018</td>\n",
              "</tr>\n",
              "<tr>\n",
              "  <th>x19</th>   <td>   -0.0017</td> <td>    0.013</td> <td>   -0.133</td> <td> 0.894</td> <td>   -0.027</td> <td>    0.023</td>\n",
              "</tr>\n",
              "<tr>\n",
              "  <th>x20</th>   <td>   -0.0054</td> <td>    0.013</td> <td>   -0.420</td> <td> 0.675</td> <td>   -0.030</td> <td>    0.020</td>\n",
              "</tr>\n",
              "<tr>\n",
              "  <th>x21</th>   <td>    0.0008</td> <td>    0.013</td> <td>    0.059</td> <td> 0.953</td> <td>   -0.024</td> <td>    0.026</td>\n",
              "</tr>\n",
              "<tr>\n",
              "  <th>x22</th>   <td>   -2.7416</td> <td>    0.008</td> <td> -355.315</td> <td> 0.000</td> <td>   -2.757</td> <td>   -2.727</td>\n",
              "</tr>\n",
              "<tr>\n",
              "  <th>x23</th>   <td>    2.5339</td> <td>    0.021</td> <td>  123.451</td> <td> 0.000</td> <td>    2.494</td> <td>    2.574</td>\n",
              "</tr>\n",
              "<tr>\n",
              "  <th>x24</th>   <td>    0.1991</td> <td>    0.018</td> <td>   11.075</td> <td> 0.000</td> <td>    0.164</td> <td>    0.234</td>\n",
              "</tr>\n",
              "<tr>\n",
              "  <th>x25</th>   <td>   -2.7416</td> <td>    0.008</td> <td> -355.315</td> <td> 0.000</td> <td>   -2.757</td> <td>   -2.727</td>\n",
              "</tr>\n",
              "<tr>\n",
              "  <th>x26</th>   <td>    0.1991</td> <td>    0.018</td> <td>   11.075</td> <td> 0.000</td> <td>    0.164</td> <td>    0.234</td>\n",
              "</tr>\n",
              "<tr>\n",
              "  <th>x27</th>   <td>    2.5339</td> <td>    0.021</td> <td>  123.451</td> <td> 0.000</td> <td>    2.494</td> <td>    2.574</td>\n",
              "</tr>\n",
              "<tr>\n",
              "  <th>x28</th>   <td>    6.2324</td> <td>    0.008</td> <td>  787.823</td> <td> 0.000</td> <td>    6.217</td> <td>    6.248</td>\n",
              "</tr>\n",
              "<tr>\n",
              "  <th>x29</th>   <td>   -4.3814</td> <td>    0.009</td> <td> -469.641</td> <td> 0.000</td> <td>   -4.400</td> <td>   -4.363</td>\n",
              "</tr>\n",
              "<tr>\n",
              "  <th>x30</th>   <td>    0.0300</td> <td>    0.014</td> <td>    2.181</td> <td> 0.029</td> <td>    0.003</td> <td>    0.057</td>\n",
              "</tr>\n",
              "</table>\n",
              "<table class=\"simpletable\">\n",
              "<tr>\n",
              "  <th>Omnibus:</th>       <td>2923.328</td> <th>  Durbin-Watson:     </th> <td>   2.009</td>\n",
              "</tr>\n",
              "<tr>\n",
              "  <th>Prob(Omnibus):</th>  <td> 0.000</td>  <th>  Jarque-Bera (JB):  </th> <td>3776.889</td>\n",
              "</tr>\n",
              "<tr>\n",
              "  <th>Skew:</th>           <td> 0.524</td>  <th>  Prob(JB):          </th> <td>    0.00</td>\n",
              "</tr>\n",
              "<tr>\n",
              "  <th>Kurtosis:</th>       <td> 3.741</td>  <th>  Cond. No.          </th> <td>2.21e+16</td>\n",
              "</tr>\n",
              "</table><br/><br/>Notes:<br/>[1] Standard Errors assume that the covariance matrix of the errors is correctly specified.<br/>[2] The smallest eigenvalue is 6.46e-28. This might indicate that there are<br/>strong multicollinearity problems or that the design matrix is singular."
            ],
            "text/latex": "\\begin{center}\n\\begin{tabular}{lclc}\n\\toprule\n\\textbf{Dep. Variable:}    &   risk\\_score    & \\textbf{  R-squared:         } &      0.971   \\\\\n\\textbf{Model:}            &       OLS        & \\textbf{  Adj. R-squared:    } &      0.971   \\\\\n\\textbf{Method:}           &  Least Squares   & \\textbf{  F-statistic:       } &  8.633e+04   \\\\\n\\textbf{Date:}             & Sun, 24 Mar 2024 & \\textbf{  Prob (F-statistic):} &      0.00    \\\\\n\\textbf{Time:}             &     17:37:00     & \\textbf{  Log-Likelihood:    } & -1.5059e+05  \\\\\n\\textbf{No. Observations:} &       55020      & \\textbf{  AIC:               } &  3.012e+05   \\\\\n\\textbf{Df Residuals:}     &       54998      & \\textbf{  BIC:               } &  3.014e+05   \\\\\n\\textbf{Df Model:}         &          21      & \\textbf{                     } &              \\\\\n\\textbf{Covariance Type:}  &    nonrobust     & \\textbf{                     } &              \\\\\n\\bottomrule\n\\end{tabular}\n\\begin{tabular}{lcccccc}\n               & \\textbf{coef} & \\textbf{std err} & \\textbf{t} & \\textbf{P$> |$t$|$} & \\textbf{[0.025} & \\textbf{0.975]}  \\\\\n\\midrule\n\\textbf{const} &      44.9809  &        0.016     &  2823.484  &         0.000        &       44.950    &       45.012     \\\\\n\\textbf{x1}    &      -3.4693  &        0.017     &  -208.758  &         0.000        &       -3.502    &       -3.437     \\\\\n\\textbf{x2}    &      -0.0253  &        0.016     &    -1.590  &         0.112        &       -0.057    &        0.006     \\\\\n\\textbf{x3}    &       0.0027  &        0.016     &     0.170  &         0.865        &       -0.029    &        0.034     \\\\\n\\textbf{x4}    &       1.9548  &        0.016     &   119.493  &         0.000        &        1.923    &        1.987     \\\\\n\\textbf{x5}    &      -0.0816  &        0.052     &    -1.567  &         0.117        &       -0.184    &        0.020     \\\\\n\\textbf{x6}    &      -0.0368  &        0.042     &    -0.874  &         0.382        &       -0.119    &        0.046     \\\\\n\\textbf{x7}    &       4.2802  &        0.013     &   327.523  &         0.000        &        4.255    &        4.306     \\\\\n\\textbf{x8}    &      -0.0953  &        0.015     &    -6.468  &         0.000        &       -0.124    &       -0.066     \\\\\n\\textbf{x9}    &       1.4287  &        0.015     &    93.864  &         0.000        &        1.399    &        1.459     \\\\\n\\textbf{x10}   &       4.3814  &        0.012     &   379.957  &         0.000        &        4.359    &        4.404     \\\\\n\\textbf{x11}   &      -5.2116  &        0.012     &  -440.871  &         0.000        &       -5.235    &       -5.188     \\\\\n\\textbf{x12}   &       0.0047  &        0.013     &     0.370  &         0.712        &       -0.020    &        0.030     \\\\\n\\textbf{x13}   &      -0.0193  &        0.013     &    -1.519  &         0.129        &       -0.044    &        0.006     \\\\\n\\textbf{x14}   &       0.0103  &        0.013     &     0.806  &         0.420        &       -0.015    &        0.035     \\\\\n\\textbf{x15}   &       0.0003  &        0.013     &     0.020  &         0.984        &       -0.025    &        0.025     \\\\\n\\textbf{x16}   &       0.0041  &        0.013     &     0.324  &         0.746        &       -0.021    &        0.029     \\\\\n\\textbf{x17}   &       0.0131  &        0.013     &     1.029  &         0.303        &       -0.012    &        0.038     \\\\\n\\textbf{x18}   &      -0.0068  &        0.013     &    -0.535  &         0.593        &       -0.032    &        0.018     \\\\\n\\textbf{x19}   &      -0.0017  &        0.013     &    -0.133  &         0.894        &       -0.027    &        0.023     \\\\\n\\textbf{x20}   &      -0.0054  &        0.013     &    -0.420  &         0.675        &       -0.030    &        0.020     \\\\\n\\textbf{x21}   &       0.0008  &        0.013     &     0.059  &         0.953        &       -0.024    &        0.026     \\\\\n\\textbf{x22}   &      -2.7416  &        0.008     &  -355.315  &         0.000        &       -2.757    &       -2.727     \\\\\n\\textbf{x23}   &       2.5339  &        0.021     &   123.451  &         0.000        &        2.494    &        2.574     \\\\\n\\textbf{x24}   &       0.1991  &        0.018     &    11.075  &         0.000        &        0.164    &        0.234     \\\\\n\\textbf{x25}   &      -2.7416  &        0.008     &  -355.315  &         0.000        &       -2.757    &       -2.727     \\\\\n\\textbf{x26}   &       0.1991  &        0.018     &    11.075  &         0.000        &        0.164    &        0.234     \\\\\n\\textbf{x27}   &       2.5339  &        0.021     &   123.451  &         0.000        &        2.494    &        2.574     \\\\\n\\textbf{x28}   &       6.2324  &        0.008     &   787.823  &         0.000        &        6.217    &        6.248     \\\\\n\\textbf{x29}   &      -4.3814  &        0.009     &  -469.641  &         0.000        &       -4.400    &       -4.363     \\\\\n\\textbf{x30}   &       0.0300  &        0.014     &     2.181  &         0.029        &        0.003    &        0.057     \\\\\n\\bottomrule\n\\end{tabular}\n\\begin{tabular}{lclc}\n\\textbf{Omnibus:}       & 2923.328 & \\textbf{  Durbin-Watson:     } &    2.009  \\\\\n\\textbf{Prob(Omnibus):} &   0.000  & \\textbf{  Jarque-Bera (JB):  } & 3776.889  \\\\\n\\textbf{Skew:}          &   0.524  & \\textbf{  Prob(JB):          } &     0.00  \\\\\n\\textbf{Kurtosis:}      &   3.741  & \\textbf{  Cond. No.          } & 2.21e+16  \\\\\n\\bottomrule\n\\end{tabular}\n%\\caption{OLS Regression Results}\n\\end{center}\n\nNotes: \\newline\n [1] Standard Errors assume that the covariance matrix of the errors is correctly specified. \\newline\n [2] The smallest eigenvalue is 6.46e-28. This might indicate that there are \\newline\n strong multicollinearity problems or that the design matrix is singular."
          },
          "metadata": {},
          "execution_count": 36
        }
      ]
    },
    {
      "cell_type": "markdown",
      "source": [
        "**5a. Interpretation:**\n",
        "\n",
        "The OLS model exhibits strong explanatory power for the risk score variability, evidenced by a robust R-squared value of 0.971 and a significant collective impact of the predictors as reflected by the high F-statistic. Nevertheless, the considerable condition number raises concerns about multicollinearity, suggesting the model's predictions could be sensitive to small input variations and that some predictors may not contribute meaningful information, as indicated by their non-significant coefficients."
      ],
      "metadata": {
        "id": "7WmQmj_VqnDv"
      },
      "id": "7WmQmj_VqnDv"
    },
    {
      "cell_type": "code",
      "source": [
        "from sklearn.metrics import mean_squared_error, r2_score\n",
        "\n",
        "X_test_scaled_with_const = sm.add_constant(X_test_scaled)\n",
        "\n",
        "# Use the fitted model to make predictions on the scaled test data\n",
        "predictions_ols = model.predict(X_test_scaled_with_const)\n",
        "\n",
        "# Calculate the Mean Squared Error\n",
        "mse = mean_squared_error(y_test, predictions_ols)\n",
        "\n",
        "# Calculate the coefficient of determination\n",
        "r2 = r2_score(y_test, predictions_ols)\n",
        "\n",
        "mse, r2"
      ],
      "metadata": {
        "id": "uf66OoCh6T2m",
        "colab": {
          "base_uri": "https://localhost:8080/"
        },
        "outputId": "423b4f04-aa81-49da-abc2-e1cec3171b57"
      },
      "id": "uf66OoCh6T2m",
      "execution_count": null,
      "outputs": [
        {
          "output_type": "execute_result",
          "data": {
            "text/plain": [
              "(14.11487518241943, 0.9702450525110586)"
            ]
          },
          "metadata": {},
          "execution_count": 37
        }
      ]
    },
    {
      "cell_type": "markdown",
      "source": [
        "## 5b. LASSO model\n",
        "\n",
        "The LASSO (Least Absolute Shrinkage and Selection Operator) model is a regression technique that both penalizes the absolute size of regression coefficients and can reduce the number of variables upon which the given solution is dependent.\n",
        "\n",
        "\n",
        "\n",
        "\n",
        "\n",
        "\n"
      ],
      "metadata": {
        "id": "MQQbvz2Vg2B5"
      },
      "id": "MQQbvz2Vg2B5"
    },
    {
      "cell_type": "code",
      "source": [
        "# Initialize the Lasso model with an alpha value\n",
        "lasso_model = Lasso(alpha=0.05)\n",
        "\n",
        "# Fit the Lasso model to the scaled training data\n",
        "lasso_model.fit(X_train_scaled, y_train)\n",
        "\n",
        "# Make predictions on the training and test data\n",
        "y_train_pred_lasso = lasso_model.predict(X_train_scaled)\n",
        "y_test_pred_lasso = lasso_model.predict(X_test_scaled)\n",
        "\n",
        "# Calculate MSE and R² for the training set\n",
        "train_mse_lasso = mean_squared_error(y_train, y_train_pred_lasso)\n",
        "train_r2_lasso = r2_score(y_train, y_train_pred_lasso)\n",
        "\n",
        "# Calculate MSE and R² for the test set\n",
        "test_mse_lasso = mean_squared_error(y_test, y_test_pred_lasso)\n",
        "test_r2_lasso = r2_score(y_test, y_test_pred_lasso)\n",
        "\n",
        "# Print the evaluation metrics\n",
        "print(f\"\\nTraining MSE (Lasso): {train_mse_lasso:.3f}\")\n",
        "print(f\"Test MSE (Lasso): {test_mse_lasso:.3f}\")\n",
        "print(f\"Training R² (Lasso): {train_r2_lasso:.3f}\")\n",
        "print(f\"Test R² (Lasso): {test_r2_lasso:.3f}\")"
      ],
      "metadata": {
        "id": "v0ycpZz9gztU",
        "colab": {
          "base_uri": "https://localhost:8080/"
        },
        "outputId": "b1974971-f5d9-4cbf-e5c6-a8f2fa6adc26"
      },
      "id": "v0ycpZz9gztU",
      "execution_count": null,
      "outputs": [
        {
          "output_type": "stream",
          "name": "stdout",
          "text": [
            "\n",
            "Training MSE (Lasso): 13.977\n",
            "Test MSE (Lasso): 14.127\n",
            "Training R² (Lasso): 0.971\n",
            "Test R² (Lasso): 0.970\n"
          ]
        }
      ]
    },
    {
      "cell_type": "markdown",
      "source": [
        "**5b. Interpretation**:\n",
        "\n",
        "The results from the LASSO model demonstrate a high degree of predictive accuracy and consistency between the training and test datasets, with a Mean Squared Error (MSE) of approximately 13.977 for the training set and 14.127 for the test set. Additionally, the model explains around 97% of the variability in the risk score for both training and test sets, as indicated by the R-squared values of 0.971 and 0.970, respectively."
      ],
      "metadata": {
        "id": "An4mCaIhq9VC"
      },
      "id": "An4mCaIhq9VC"
    },
    {
      "cell_type": "markdown",
      "source": [
        "## 5c. RIDGE model"
      ],
      "metadata": {
        "id": "bKusJtfrg7cJ"
      },
      "id": "bKusJtfrg7cJ"
    },
    {
      "cell_type": "markdown",
      "source": [
        "Ridge regression is a method that applies L2 regularization to impose a penalty on the size of coefficients, thereby preventing overfitting and reducing multicollinearity, which enhances the model's stability and predictive capability."
      ],
      "metadata": {
        "id": "qj31__Cdr4E1"
      },
      "id": "qj31__Cdr4E1"
    },
    {
      "cell_type": "code",
      "source": [
        "# Initialize and fit the Ridge regression model\n",
        "ridge_model = Ridge(alpha=0.05)\n",
        "ridge_model.fit(X_train_scaled, y_train)\n",
        "\n",
        "# Predict on training and test data\n",
        "y_train_pred_ridge = ridge_model.predict(X_train_scaled)\n",
        "y_test_pred_ridge = ridge_model.predict(X_test_scaled)\n",
        "\n",
        "# Calculate MSE and R² for the training set\n",
        "train_mse_ridge = mean_squared_error(y_train, y_train_pred_ridge)\n",
        "train_r2_ridge = r2_score(y_train, y_train_pred_ridge)\n",
        "\n",
        "# Calculate MSE and R² for the test set\n",
        "test_mse_ridge = mean_squared_error(y_test, y_test_pred_ridge)\n",
        "test_r2_ridge = r2_score(y_test, y_test_pred_ridge)\n",
        "\n",
        "# Print the evaluation metrics\n",
        "print(\"Ridge Regression:\")\n",
        "print(f\"Training MSE: {train_mse_ridge:.3f}\")\n",
        "print(f\"Test MSE: {test_mse_ridge:.3f}\")\n",
        "print(f\"Training R²: {train_r2_ridge:.3f}\")\n",
        "print(f\"Test R²: {test_r2_ridge:.3f}\")"
      ],
      "metadata": {
        "id": "H8kH1kEUg9DQ",
        "colab": {
          "base_uri": "https://localhost:8080/"
        },
        "outputId": "41243b2a-4e5c-4faa-bfdb-d5c8759c867c"
      },
      "id": "H8kH1kEUg9DQ",
      "execution_count": null,
      "outputs": [
        {
          "output_type": "stream",
          "name": "stdout",
          "text": [
            "Ridge Regression:\n",
            "Training MSE: 13.958\n",
            "Test MSE: 14.115\n",
            "Training R²: 0.971\n",
            "Test R²: 0.970\n"
          ]
        }
      ]
    },
    {
      "cell_type": "markdown",
      "source": [
        "**5c. Interpretation**:\n",
        "\n",
        "\n",
        "The RIDGE model's outcomes showcase notable predictive precision and coherence across the training and test datasets, evidenced by a Mean Squared Error (MSE) of roughly 13.958 for the training set and 14.115 for the test set. Moreover, the model accounts for approximately 97% of the variance in the risk score for both the training and test environments, as reflected by R-squared (R²) values of 0.971 and 0.970, respectively."
      ],
      "metadata": {
        "id": "5ipPPuiirxRp"
      },
      "id": "5ipPPuiirxRp"
    },
    {
      "cell_type": "markdown",
      "source": [
        "## 5d. Elastic Net Model"
      ],
      "metadata": {
        "id": "BEEjax5Kg-o0"
      },
      "id": "BEEjax5Kg-o0"
    },
    {
      "cell_type": "markdown",
      "source": [
        "Elastic Net Regression is a hybrid approach that combines L1 and L2 regularization, offering a balanced solution that effectively manages multicollinearity and feature selection to improve model reliability and interpretability."
      ],
      "metadata": {
        "id": "bHODt5-8s2yq"
      },
      "id": "bHODt5-8s2yq"
    },
    {
      "cell_type": "code",
      "source": [
        "from sklearn.linear_model import ElasticNet\n",
        "from sklearn.metrics import mean_squared_error, r2_score"
      ],
      "metadata": {
        "id": "q-rxKh_px-sY"
      },
      "id": "q-rxKh_px-sY",
      "execution_count": null,
      "outputs": []
    },
    {
      "cell_type": "code",
      "source": [
        "# Initialize and fit the Elastic Net model\n",
        "elastic_net_model = ElasticNet(alpha=0.05, l1_ratio=0.5)\n",
        "elastic_net_model.fit(X_train_scaled, y_train)\n",
        "\n",
        "# Predict on training and test data\n",
        "y_train_pred_elastic = elastic_net_model.predict(X_train_scaled)\n",
        "y_test_pred_elastic = elastic_net_model.predict(X_test_scaled)\n",
        "\n",
        "# Calculate MSE and R² for the training set\n",
        "train_mse_elastic = mean_squared_error(y_train, y_train_pred_elastic)\n",
        "train_r2_elastic = r2_score(y_train, y_train_pred_elastic)\n",
        "\n",
        "# Calculate MSE and R² for the test set\n",
        "test_mse_elastic = mean_squared_error(y_test, y_test_pred_elastic)\n",
        "test_r2_elastic = r2_score(y_test, y_test_pred_elastic)\n",
        "\n",
        "# Print the evaluation metrics\n",
        "print(\"\\nElastic Net Regression:\")\n",
        "print(f\"Training MSE: {train_mse_elastic:.3f}\")\n",
        "print(f\"Test MSE: {test_mse_elastic:.3f}\")\n",
        "print(f\"Training R²: {train_r2_elastic:.3f}\")\n",
        "print(f\"Test R²: {test_r2_elastic:.3f}\")"
      ],
      "metadata": {
        "id": "D8Uw-yyEg-cg",
        "colab": {
          "base_uri": "https://localhost:8080/"
        },
        "outputId": "9ad7bcb7-a61e-4a88-bdab-5d80841eaabf"
      },
      "id": "D8Uw-yyEg-cg",
      "execution_count": null,
      "outputs": [
        {
          "output_type": "stream",
          "name": "stdout",
          "text": [
            "\n",
            "Elastic Net Regression:\n",
            "Training MSE: 14.053\n",
            "Test MSE: 14.189\n",
            "Training R²: 0.970\n",
            "Test R²: 0.970\n"
          ]
        }
      ]
    },
    {
      "cell_type": "markdown",
      "source": [
        "**5d. Interpretation**:\n",
        "\n",
        "The Elastic Net Regression model exhibits strong predictive accuracy and maintains consistency between the training and testing datasets, highlighted by a Training Mean Squared Error (MSE) of 14.053 and a Test MSE of 14.189. The model demonstrates a robust ability to explain the variability in the risk score, achieving an R-squared (R²) value of 0.970 for both the training and test sets."
      ],
      "metadata": {
        "id": "SRGWvr5wsxOz"
      },
      "id": "SRGWvr5wsxOz"
    },
    {
      "cell_type": "markdown",
      "source": [
        "## 5e. Decision Tree Model"
      ],
      "metadata": {
        "id": "dx-TwKLzhDu5"
      },
      "id": "dx-TwKLzhDu5"
    },
    {
      "cell_type": "markdown",
      "source": [
        "Decision Tree model is a non-linear predictive modeling tool that can be used for both classification and regression tasks. It operates by breaking down a dataset into smaller subsets based on certain conditions, while at the same time, an associated decision tree is incrementally developed."
      ],
      "metadata": {
        "id": "wmTYv8bAtBE1"
      },
      "id": "wmTYv8bAtBE1"
    },
    {
      "cell_type": "code",
      "source": [
        "from sklearn.tree import DecisionTreeRegressor\n",
        "dt_regressor = DecisionTreeRegressor(random_state=1)\n",
        "\n",
        "# Fit the model to the scaled training data\n",
        "dt_regressor.fit(X_train_scaled, y_train)\n",
        "\n",
        "# Use the fitted model to make predictions on the test set\n",
        "predictions_dt = dt_regressor.predict(X_test_scaled)\n",
        "\n",
        "# Evaluate the model performance\n",
        "mse = mean_squared_error(y_test, predictions_dt)\n",
        "r2 = r2_score(y_test, predictions_dt)\n",
        "\n",
        "# Print performance metrics\n",
        "print(f\"Mean Squared Error: {mse}\")\n",
        "print(f\"R-squared: {r2}\")"
      ],
      "metadata": {
        "id": "YBD49tnRhGSS",
        "colab": {
          "base_uri": "https://localhost:8080/"
        },
        "outputId": "71f59b53-6d8c-4dc4-cf73-2288c50b5841"
      },
      "id": "YBD49tnRhGSS",
      "execution_count": null,
      "outputs": [
        {
          "output_type": "stream",
          "name": "stdout",
          "text": [
            "Mean Squared Error: 0.002238761662425785\n",
            "R-squared: 0.9999952805650177\n"
          ]
        }
      ]
    },
    {
      "cell_type": "markdown",
      "source": [
        "**5e. Interpretation**:\n",
        "\n",
        "The Decision Tree model, after being trained on scaled training data, demonstrated exceptional predictive performance on the test set, as evidenced by an extraordinarily low Mean Squared Error (MSE) and a near-perfect R-squared (R²) value. These metrics indicate that the model can predict the risk score with minimal error, accounting for virtually all the variability in the target variable within the test dataset."
      ],
      "metadata": {
        "id": "RDQnVSd9CNYB"
      },
      "id": "RDQnVSd9CNYB"
    },
    {
      "cell_type": "markdown",
      "source": [
        "## 5f. Bootstrappped Random Forest"
      ],
      "metadata": {
        "id": "pS33axanhJhK"
      },
      "id": "pS33axanhJhK"
    },
    {
      "cell_type": "markdown",
      "source": [
        "A bootstrapped random forest is an ensemble technique that combines the predictions of several decision tree models to improve the overall accuracy and robustness. Each tree in the forest is built from a bootstrapped sample of the training data, meaning a random selection with replacement, which ensures diversity among the trees."
      ],
      "metadata": {
        "id": "CuGWTr5tvW2X"
      },
      "id": "CuGWTr5tvW2X"
    },
    {
      "cell_type": "code",
      "source": [
        "from sklearn.ensemble import RandomForestRegressor\n",
        "# Set minimum number of sample to 3 which can help prevent overfitting.\n",
        "rf_model = RandomForestRegressor(n_estimators=100, random_state=42, min_samples_split=3)\n",
        "rf_model.fit(X_train_scaled, y_train)"
      ],
      "metadata": {
        "id": "5Eg88znohKpq",
        "colab": {
          "base_uri": "https://localhost:8080/",
          "height": 75
        },
        "outputId": "ff684bc5-23f5-4b62-fe34-ec0c7f683fdf"
      },
      "id": "5Eg88znohKpq",
      "execution_count": null,
      "outputs": [
        {
          "output_type": "execute_result",
          "data": {
            "text/plain": [
              "RandomForestRegressor(min_samples_split=3, random_state=42)"
            ],
            "text/html": [
              "<style>#sk-container-id-1 {color: black;background-color: white;}#sk-container-id-1 pre{padding: 0;}#sk-container-id-1 div.sk-toggleable {background-color: white;}#sk-container-id-1 label.sk-toggleable__label {cursor: pointer;display: block;width: 100%;margin-bottom: 0;padding: 0.3em;box-sizing: border-box;text-align: center;}#sk-container-id-1 label.sk-toggleable__label-arrow:before {content: \"▸\";float: left;margin-right: 0.25em;color: #696969;}#sk-container-id-1 label.sk-toggleable__label-arrow:hover:before {color: black;}#sk-container-id-1 div.sk-estimator:hover label.sk-toggleable__label-arrow:before {color: black;}#sk-container-id-1 div.sk-toggleable__content {max-height: 0;max-width: 0;overflow: hidden;text-align: left;background-color: #f0f8ff;}#sk-container-id-1 div.sk-toggleable__content pre {margin: 0.2em;color: black;border-radius: 0.25em;background-color: #f0f8ff;}#sk-container-id-1 input.sk-toggleable__control:checked~div.sk-toggleable__content {max-height: 200px;max-width: 100%;overflow: auto;}#sk-container-id-1 input.sk-toggleable__control:checked~label.sk-toggleable__label-arrow:before {content: \"▾\";}#sk-container-id-1 div.sk-estimator input.sk-toggleable__control:checked~label.sk-toggleable__label {background-color: #d4ebff;}#sk-container-id-1 div.sk-label input.sk-toggleable__control:checked~label.sk-toggleable__label {background-color: #d4ebff;}#sk-container-id-1 input.sk-hidden--visually {border: 0;clip: rect(1px 1px 1px 1px);clip: rect(1px, 1px, 1px, 1px);height: 1px;margin: -1px;overflow: hidden;padding: 0;position: absolute;width: 1px;}#sk-container-id-1 div.sk-estimator {font-family: monospace;background-color: #f0f8ff;border: 1px dotted black;border-radius: 0.25em;box-sizing: border-box;margin-bottom: 0.5em;}#sk-container-id-1 div.sk-estimator:hover {background-color: #d4ebff;}#sk-container-id-1 div.sk-parallel-item::after {content: \"\";width: 100%;border-bottom: 1px solid gray;flex-grow: 1;}#sk-container-id-1 div.sk-label:hover label.sk-toggleable__label {background-color: #d4ebff;}#sk-container-id-1 div.sk-serial::before {content: \"\";position: absolute;border-left: 1px solid gray;box-sizing: border-box;top: 0;bottom: 0;left: 50%;z-index: 0;}#sk-container-id-1 div.sk-serial {display: flex;flex-direction: column;align-items: center;background-color: white;padding-right: 0.2em;padding-left: 0.2em;position: relative;}#sk-container-id-1 div.sk-item {position: relative;z-index: 1;}#sk-container-id-1 div.sk-parallel {display: flex;align-items: stretch;justify-content: center;background-color: white;position: relative;}#sk-container-id-1 div.sk-item::before, #sk-container-id-1 div.sk-parallel-item::before {content: \"\";position: absolute;border-left: 1px solid gray;box-sizing: border-box;top: 0;bottom: 0;left: 50%;z-index: -1;}#sk-container-id-1 div.sk-parallel-item {display: flex;flex-direction: column;z-index: 1;position: relative;background-color: white;}#sk-container-id-1 div.sk-parallel-item:first-child::after {align-self: flex-end;width: 50%;}#sk-container-id-1 div.sk-parallel-item:last-child::after {align-self: flex-start;width: 50%;}#sk-container-id-1 div.sk-parallel-item:only-child::after {width: 0;}#sk-container-id-1 div.sk-dashed-wrapped {border: 1px dashed gray;margin: 0 0.4em 0.5em 0.4em;box-sizing: border-box;padding-bottom: 0.4em;background-color: white;}#sk-container-id-1 div.sk-label label {font-family: monospace;font-weight: bold;display: inline-block;line-height: 1.2em;}#sk-container-id-1 div.sk-label-container {text-align: center;}#sk-container-id-1 div.sk-container {/* jupyter's `normalize.less` sets `[hidden] { display: none; }` but bootstrap.min.css set `[hidden] { display: none !important; }` so we also need the `!important` here to be able to override the default hidden behavior on the sphinx rendered scikit-learn.org. See: https://github.com/scikit-learn/scikit-learn/issues/21755 */display: inline-block !important;position: relative;}#sk-container-id-1 div.sk-text-repr-fallback {display: none;}</style><div id=\"sk-container-id-1\" class=\"sk-top-container\"><div class=\"sk-text-repr-fallback\"><pre>RandomForestRegressor(min_samples_split=3, random_state=42)</pre><b>In a Jupyter environment, please rerun this cell to show the HTML representation or trust the notebook. <br />On GitHub, the HTML representation is unable to render, please try loading this page with nbviewer.org.</b></div><div class=\"sk-container\" hidden><div class=\"sk-item\"><div class=\"sk-estimator sk-toggleable\"><input class=\"sk-toggleable__control sk-hidden--visually\" id=\"sk-estimator-id-1\" type=\"checkbox\" checked><label for=\"sk-estimator-id-1\" class=\"sk-toggleable__label sk-toggleable__label-arrow\">RandomForestRegressor</label><div class=\"sk-toggleable__content\"><pre>RandomForestRegressor(min_samples_split=3, random_state=42)</pre></div></div></div></div></div>"
            ]
          },
          "metadata": {},
          "execution_count": 23
        }
      ]
    },
    {
      "cell_type": "code",
      "source": [
        "# Prediction\n",
        "predictions_rf = rf_model.predict(X_test_scaled)\n",
        "\n",
        "mse = mean_squared_error(y_test, predictions_rf)\n",
        "print(f\"Mean Squared Error: {mse}\")"
      ],
      "metadata": {
        "id": "btB_jH2yhOyV",
        "colab": {
          "base_uri": "https://localhost:8080/"
        },
        "outputId": "ab8d94fa-fa85-45dd-a2a9-01f68575c46c"
      },
      "id": "btB_jH2yhOyV",
      "execution_count": null,
      "outputs": [
        {
          "output_type": "stream",
          "name": "stdout",
          "text": [
            "Mean Squared Error: 0.005222043531992187\n"
          ]
        }
      ]
    },
    {
      "cell_type": "markdown",
      "source": [
        "**5f. Interpretation**:\n",
        "\n",
        "After training the bootstrapped random forest regressor with a minimum sample split of 3 to mitigate overfitting.\n",
        "The model achieved a low value Mean Squared Error (MSE) value indicating a high level of accuracy in the model’s predictions relative to the actual values, showcasing the model's efficacy in capturing the underlying patterns of the dataset."
      ],
      "metadata": {
        "id": "ZvIilZjVKmdA"
      },
      "id": "ZvIilZjVKmdA"
    },
    {
      "cell_type": "markdown",
      "source": [
        "We are also going to try neural network to see if it could generates a better result, considering the possibility of capturing complex interactions between variables through the network structure."
      ],
      "metadata": {
        "id": "2ZpJSg3zOc-3"
      },
      "id": "2ZpJSg3zOc-3"
    },
    {
      "cell_type": "markdown",
      "id": "4ea1235a",
      "metadata": {
        "id": "4ea1235a"
      },
      "source": [
        "## 5g. Neural Network"
      ]
    },
    {
      "cell_type": "markdown",
      "source": [
        "Considering the possibility of capturing complex interactions between variables through the network structure we're looking into Neural Network. It's a computational model inspired by the structure of neural circuits in the human brain, capable of capturing complex relationships between inputs and outputs through layers of interconnected nodes or \"neurons.\""
      ],
      "metadata": {
        "id": "Miaa5LWJ0Xr-"
      },
      "id": "Miaa5LWJ0Xr-"
    },
    {
      "cell_type": "code",
      "source": [
        "from sklearn.preprocessing import MinMaxScaler\n",
        "import keras\n",
        "from keras.models import Sequential\n",
        "from keras.layers import Dense\n",
        "from keras.utils import plot_model"
      ],
      "metadata": {
        "id": "pLhHXxS0Y0LU"
      },
      "id": "pLhHXxS0Y0LU",
      "execution_count": null,
      "outputs": []
    },
    {
      "cell_type": "code",
      "execution_count": null,
      "id": "7e657c86",
      "metadata": {
        "id": "7e657c86"
      },
      "outputs": [],
      "source": [
        "# Define the Neural Network model\n",
        "model = Sequential()\n",
        "model.add(Dense(units=64, activation='relu', input_dim=X_train_scaled.shape[1]))  # Input layer and 1st hidden layer\n",
        "model.add(Dense(units=32, activation='relu'))  # 2nd hidden layer\n",
        "model.add(Dense(units=1, activation='linear'))  # Output layer for regression"
      ]
    },
    {
      "cell_type": "code",
      "execution_count": null,
      "id": "bc36e733",
      "metadata": {
        "id": "bc36e733",
        "colab": {
          "base_uri": "https://localhost:8080/"
        },
        "outputId": "52f8f5ba-472a-40c0-e8d2-30ec29b9671f"
      },
      "outputs": [
        {
          "output_type": "stream",
          "name": "stdout",
          "text": [
            "Epoch 1/100\n",
            "1720/1720 [==============================] - 9s 4ms/step - loss: 112.8631\n",
            "Epoch 2/100\n",
            "1720/1720 [==============================] - 4s 3ms/step - loss: 7.8805\n",
            "Epoch 3/100\n",
            "1720/1720 [==============================] - 3s 2ms/step - loss: 7.0811\n",
            "Epoch 4/100\n",
            "1720/1720 [==============================] - 3s 2ms/step - loss: 6.0593\n",
            "Epoch 5/100\n",
            "1720/1720 [==============================] - 3s 2ms/step - loss: 5.0080\n",
            "Epoch 6/100\n",
            "1720/1720 [==============================] - 4s 2ms/step - loss: 4.3076\n",
            "Epoch 7/100\n",
            "1720/1720 [==============================] - 3s 2ms/step - loss: 3.7478\n",
            "Epoch 8/100\n",
            "1720/1720 [==============================] - 3s 2ms/step - loss: 3.2022\n",
            "Epoch 9/100\n",
            "1720/1720 [==============================] - 3s 2ms/step - loss: 2.7293\n",
            "Epoch 10/100\n",
            "1720/1720 [==============================] - 4s 2ms/step - loss: 2.3629\n",
            "Epoch 11/100\n",
            "1720/1720 [==============================] - 3s 2ms/step - loss: 2.0462\n",
            "Epoch 12/100\n",
            "1720/1720 [==============================] - 3s 2ms/step - loss: 1.7454\n",
            "Epoch 13/100\n",
            "1720/1720 [==============================] - 3s 2ms/step - loss: 1.4990\n",
            "Epoch 14/100\n",
            "1720/1720 [==============================] - 4s 2ms/step - loss: 1.3225\n",
            "Epoch 15/100\n",
            "1720/1720 [==============================] - 3s 2ms/step - loss: 1.1858\n",
            "Epoch 16/100\n",
            "1720/1720 [==============================] - 3s 2ms/step - loss: 1.0873\n",
            "Epoch 17/100\n",
            "1720/1720 [==============================] - 3s 2ms/step - loss: 0.9979\n",
            "Epoch 18/100\n",
            "1720/1720 [==============================] - 4s 2ms/step - loss: 0.9351\n",
            "Epoch 19/100\n",
            "1720/1720 [==============================] - 3s 2ms/step - loss: 0.8716\n",
            "Epoch 20/100\n",
            "1720/1720 [==============================] - 3s 2ms/step - loss: 0.8570\n",
            "Epoch 21/100\n",
            "1720/1720 [==============================] - 3s 2ms/step - loss: 0.7942\n",
            "Epoch 22/100\n",
            "1720/1720 [==============================] - 4s 2ms/step - loss: 0.7510\n",
            "Epoch 23/100\n",
            "1720/1720 [==============================] - 3s 2ms/step - loss: 0.7141\n",
            "Epoch 24/100\n",
            "1720/1720 [==============================] - 3s 2ms/step - loss: 0.6605\n",
            "Epoch 25/100\n",
            "1720/1720 [==============================] - 3s 2ms/step - loss: 0.6346\n",
            "Epoch 26/100\n",
            "1720/1720 [==============================] - 4s 2ms/step - loss: 0.6008\n",
            "Epoch 27/100\n",
            "1720/1720 [==============================] - 3s 2ms/step - loss: 0.5946\n",
            "Epoch 28/100\n",
            "1720/1720 [==============================] - 3s 2ms/step - loss: 0.5555\n",
            "Epoch 29/100\n",
            "1720/1720 [==============================] - 3s 2ms/step - loss: 0.5093\n",
            "Epoch 30/100\n",
            "1720/1720 [==============================] - 4s 2ms/step - loss: 0.5003\n",
            "Epoch 31/100\n",
            "1720/1720 [==============================] - 5s 3ms/step - loss: 0.4779\n",
            "Epoch 32/100\n",
            "1720/1720 [==============================] - 3s 2ms/step - loss: 0.4607\n",
            "Epoch 33/100\n",
            "1720/1720 [==============================] - 4s 2ms/step - loss: 0.4523\n",
            "Epoch 34/100\n",
            "1720/1720 [==============================] - 3s 2ms/step - loss: 0.4327\n",
            "Epoch 35/100\n",
            "1720/1720 [==============================] - 3s 2ms/step - loss: 0.4340\n",
            "Epoch 36/100\n",
            "1720/1720 [==============================] - 3s 2ms/step - loss: 0.4152\n",
            "Epoch 37/100\n",
            "1720/1720 [==============================] - 4s 2ms/step - loss: 0.4233\n",
            "Epoch 38/100\n",
            "1720/1720 [==============================] - 3s 2ms/step - loss: 0.3998\n",
            "Epoch 39/100\n",
            "1720/1720 [==============================] - 3s 2ms/step - loss: 0.3755\n",
            "Epoch 40/100\n",
            "1720/1720 [==============================] - 3s 2ms/step - loss: 0.3972\n",
            "Epoch 41/100\n",
            "1720/1720 [==============================] - 4s 2ms/step - loss: 0.3833\n",
            "Epoch 42/100\n",
            "1720/1720 [==============================] - 3s 2ms/step - loss: 0.3992\n",
            "Epoch 43/100\n",
            "1720/1720 [==============================] - 3s 2ms/step - loss: 0.3609\n",
            "Epoch 44/100\n",
            "1720/1720 [==============================] - 3s 2ms/step - loss: 0.3379\n",
            "Epoch 45/100\n",
            "1720/1720 [==============================] - 4s 2ms/step - loss: 0.3603\n",
            "Epoch 46/100\n",
            "1720/1720 [==============================] - 3s 2ms/step - loss: 0.3375\n",
            "Epoch 47/100\n",
            "1720/1720 [==============================] - 3s 2ms/step - loss: 0.3310\n",
            "Epoch 48/100\n",
            "1720/1720 [==============================] - 3s 2ms/step - loss: 0.3437\n",
            "Epoch 49/100\n",
            "1720/1720 [==============================] - 4s 2ms/step - loss: 0.3273\n",
            "Epoch 50/100\n",
            "1720/1720 [==============================] - 3s 2ms/step - loss: 0.3410\n",
            "Epoch 51/100\n",
            "1720/1720 [==============================] - 3s 2ms/step - loss: 0.3290\n",
            "Epoch 52/100\n",
            "1720/1720 [==============================] - 3s 2ms/step - loss: 0.3059\n",
            "Epoch 53/100\n",
            "1720/1720 [==============================] - 4s 2ms/step - loss: 0.3354\n",
            "Epoch 54/100\n",
            "1720/1720 [==============================] - 3s 2ms/step - loss: 0.2805\n",
            "Epoch 55/100\n",
            "1720/1720 [==============================] - 3s 2ms/step - loss: 0.3120\n",
            "Epoch 56/100\n",
            "1720/1720 [==============================] - 3s 2ms/step - loss: 0.2909\n",
            "Epoch 57/100\n",
            "1720/1720 [==============================] - 4s 2ms/step - loss: 0.3463\n",
            "Epoch 58/100\n",
            "1720/1720 [==============================] - 3s 2ms/step - loss: 0.2708\n",
            "Epoch 59/100\n",
            "1720/1720 [==============================] - 3s 2ms/step - loss: 0.2964\n",
            "Epoch 60/100\n",
            "1720/1720 [==============================] - 3s 2ms/step - loss: 0.2717\n",
            "Epoch 61/100\n",
            "1720/1720 [==============================] - 4s 2ms/step - loss: 0.3011\n",
            "Epoch 62/100\n",
            "1720/1720 [==============================] - 3s 2ms/step - loss: 0.2623\n",
            "Epoch 63/100\n",
            "1720/1720 [==============================] - 3s 2ms/step - loss: 0.2813\n",
            "Epoch 64/100\n",
            "1720/1720 [==============================] - 3s 2ms/step - loss: 0.2835\n",
            "Epoch 65/100\n",
            "1720/1720 [==============================] - 4s 2ms/step - loss: 0.2863\n",
            "Epoch 66/100\n",
            "1720/1720 [==============================] - 3s 2ms/step - loss: 0.2842\n",
            "Epoch 67/100\n",
            "1720/1720 [==============================] - 3s 2ms/step - loss: 0.2759\n",
            "Epoch 68/100\n",
            "1720/1720 [==============================] - 3s 2ms/step - loss: 0.2573\n",
            "Epoch 69/100\n",
            "1720/1720 [==============================] - 4s 2ms/step - loss: 0.2776\n",
            "Epoch 70/100\n",
            "1720/1720 [==============================] - 3s 2ms/step - loss: 0.2601\n",
            "Epoch 71/100\n",
            "1720/1720 [==============================] - 3s 2ms/step - loss: 0.2481\n",
            "Epoch 72/100\n",
            "1720/1720 [==============================] - 3s 2ms/step - loss: 0.2656\n",
            "Epoch 73/100\n",
            "1720/1720 [==============================] - 4s 2ms/step - loss: 0.2484\n",
            "Epoch 74/100\n",
            "1720/1720 [==============================] - 3s 2ms/step - loss: 0.2632\n",
            "Epoch 75/100\n",
            "1720/1720 [==============================] - 3s 2ms/step - loss: 0.2586\n",
            "Epoch 76/100\n",
            "1720/1720 [==============================] - 3s 2ms/step - loss: 0.2473\n",
            "Epoch 77/100\n",
            "1720/1720 [==============================] - 4s 2ms/step - loss: 0.2730\n",
            "Epoch 78/100\n",
            "1720/1720 [==============================] - 3s 2ms/step - loss: 0.2401\n",
            "Epoch 79/100\n",
            "1720/1720 [==============================] - 3s 2ms/step - loss: 0.2576\n",
            "Epoch 80/100\n",
            "1720/1720 [==============================] - 3s 2ms/step - loss: 0.2423\n",
            "Epoch 81/100\n",
            "1720/1720 [==============================] - 4s 2ms/step - loss: 0.2602\n",
            "Epoch 82/100\n",
            "1720/1720 [==============================] - 3s 2ms/step - loss: 0.2452\n",
            "Epoch 83/100\n",
            "1720/1720 [==============================] - 3s 2ms/step - loss: 0.2813\n",
            "Epoch 84/100\n",
            "1720/1720 [==============================] - 3s 2ms/step - loss: 0.2449\n",
            "Epoch 85/100\n",
            "1720/1720 [==============================] - 4s 2ms/step - loss: 0.2586\n",
            "Epoch 86/100\n",
            "1720/1720 [==============================] - 3s 2ms/step - loss: 0.2301\n",
            "Epoch 87/100\n",
            "1720/1720 [==============================] - 3s 2ms/step - loss: 0.2613\n",
            "Epoch 88/100\n",
            "1720/1720 [==============================] - 3s 2ms/step - loss: 0.2310\n",
            "Epoch 89/100\n",
            "1720/1720 [==============================] - 4s 2ms/step - loss: 0.2262\n",
            "Epoch 90/100\n",
            "1720/1720 [==============================] - 3s 2ms/step - loss: 0.2571\n",
            "Epoch 91/100\n",
            "1720/1720 [==============================] - 3s 2ms/step - loss: 0.2278\n",
            "Epoch 92/100\n",
            "1720/1720 [==============================] - 3s 2ms/step - loss: 0.2480\n",
            "Epoch 93/100\n",
            "1720/1720 [==============================] - 4s 2ms/step - loss: 0.2241\n",
            "Epoch 94/100\n",
            "1720/1720 [==============================] - 3s 2ms/step - loss: 0.2390\n",
            "Epoch 95/100\n",
            "1720/1720 [==============================] - 3s 2ms/step - loss: 0.2243\n",
            "Epoch 96/100\n",
            "1720/1720 [==============================] - 3s 2ms/step - loss: 0.2368\n",
            "Epoch 97/100\n",
            "1720/1720 [==============================] - 4s 2ms/step - loss: 0.2143\n",
            "Epoch 98/100\n",
            "1720/1720 [==============================] - 3s 2ms/step - loss: 0.2170\n",
            "Epoch 99/100\n",
            "1720/1720 [==============================] - 3s 2ms/step - loss: 0.2259\n",
            "Epoch 100/100\n",
            "1720/1720 [==============================] - 3s 2ms/step - loss: 0.2011\n",
            "737/737 [==============================] - 1s 2ms/step\n"
          ]
        }
      ],
      "source": [
        "# Compile the model\n",
        "model.compile(optimizer='adam', loss='mean_squared_error')\n",
        "\n",
        "# Train the model\n",
        "model.fit(X_train_scaled, y_train, epochs=100, batch_size=32)  # Adjust epochs and batch_size as needed\n",
        "\n",
        "# Predict using the neural network\n",
        "nn_predictions = model.predict(X_test_scaled).flatten()  # Flatten predictions to match y_test's shape"
      ]
    },
    {
      "cell_type": "markdown",
      "source": [
        "The decreasing loss throughout each epoch indicates that the neural network model is learning from the data over time, adjusting its weights to better predict the risk score."
      ],
      "metadata": {
        "id": "9nKx0G7ONvJT"
      },
      "id": "9nKx0G7ONvJT"
    },
    {
      "cell_type": "code",
      "source": [
        "# Calculate the MSE for the neural network\n",
        "mse_nn = mean_squared_error(y_test, nn_predictions)\n",
        "\n",
        "# Print MSE of the Neural Network\n",
        "print(f\"Neural Network MSE: {mse_nn}\")"
      ],
      "metadata": {
        "id": "CNb09LNxY6zu",
        "colab": {
          "base_uri": "https://localhost:8080/"
        },
        "outputId": "ff85a159-710d-4f28-e245-e11a48566f8d"
      },
      "id": "CNb09LNxY6zu",
      "execution_count": null,
      "outputs": [
        {
          "output_type": "stream",
          "name": "stdout",
          "text": [
            "Neural Network MSE: 0.19381035552269954\n"
          ]
        }
      ]
    },
    {
      "cell_type": "markdown",
      "source": [
        "**5g. Interpretation**:\n",
        "\n",
        "The training process of the neural network, as observed over 100 epochs, shows a gradual decrease in loss, culminating at 0.2011, indicative of the model's learning and adaptation over time. Notably, the final Mean Squared Error (MSE) when compared to those of the Random Forest and Decision Tree models, is higher, suggesting that the neural network may not be as effective in this specific instance at generalizing its learned patterns to unseen data.\n"
      ],
      "metadata": {
        "id": "fSJ00yCGNWqr"
      },
      "id": "fSJ00yCGNWqr"
    },
    {
      "cell_type": "markdown",
      "source": [
        "## 6. Model Comparison"
      ],
      "metadata": {
        "id": "X4sUxd8dhVbX"
      },
      "id": "X4sUxd8dhVbX"
    },
    {
      "cell_type": "code",
      "source": [
        "from sklearn.metrics import mean_absolute_error, mean_squared_error, r2_score\n",
        "import numpy as np\n",
        "\n",
        "models_predictions = {\n",
        "    'OLS': predictions_ols,\n",
        "    'LASSO': y_test_pred_lasso,\n",
        "    'Ridge': y_test_pred_ridge,\n",
        "    'Elastic Net': y_test_pred_elastic,\n",
        "    'Bootstrapped_RandomForest': predictions_rf,\n",
        "    'DecisionTree': predictions_dt,\n",
        "    'NeuralNetwork': nn_predictions\n",
        "}\n",
        "\n",
        "comparison_table = []\n",
        "\n",
        "for model_name, predictions in models_predictions.items():\n",
        "    mae = mean_absolute_error(y_test, predictions)\n",
        "    mse = mean_squared_error(y_test, predictions)\n",
        "    rmse = np.sqrt(mse)\n",
        "    r2 = r2_score(y_test, predictions)\n",
        "\n",
        "    # Append the calculated metrics for the current model to the comparison table\n",
        "    comparison_table.append({\n",
        "        'Model': model_name,\n",
        "        'MAE': mae,\n",
        "        'MSE': mse,\n",
        "        'RMSE': rmse,\n",
        "        'R²': r2\n",
        "    })\n",
        "\n",
        "# Convert comparison table to DataFrame for better visualization\n",
        "import pandas as pd\n",
        "\n",
        "comparison_df = pd.DataFrame(comparison_table)"
      ],
      "metadata": {
        "id": "25D76KwaZDw_"
      },
      "id": "25D76KwaZDw_",
      "execution_count": null,
      "outputs": []
    },
    {
      "cell_type": "code",
      "source": [
        "comparison_df"
      ],
      "metadata": {
        "id": "2j9pPAy0hg-c",
        "colab": {
          "base_uri": "https://localhost:8080/",
          "height": 269
        },
        "outputId": "8db32a74-3a1d-4e7f-80b4-2ce9f3f08afe"
      },
      "id": "2j9pPAy0hg-c",
      "execution_count": null,
      "outputs": [
        {
          "output_type": "execute_result",
          "data": {
            "text/plain": [
              "                       Model       MAE        MSE      RMSE        R²\n",
              "0                        OLS  2.911923  14.114875  3.756977  0.970245\n",
              "1                      LASSO  2.903027  14.127289  3.758629  0.970219\n",
              "2                      Ridge  2.911922  14.114874  3.756977  0.970245\n",
              "3                Elastic Net  2.903675  14.188898  3.766815  0.970089\n",
              "4  Bootstrapped_RandomForest  0.001931   0.005222  0.072264  0.999989\n",
              "5               DecisionTree  0.000581   0.002239  0.047316  0.999995\n",
              "6              NeuralNetwork  0.223509   0.193810  0.440239  0.999591"
            ],
            "text/html": [
              "\n",
              "  <div id=\"df-89b54050-afca-4a96-afe2-1407eb9b67df\" class=\"colab-df-container\">\n",
              "    <div>\n",
              "<style scoped>\n",
              "    .dataframe tbody tr th:only-of-type {\n",
              "        vertical-align: middle;\n",
              "    }\n",
              "\n",
              "    .dataframe tbody tr th {\n",
              "        vertical-align: top;\n",
              "    }\n",
              "\n",
              "    .dataframe thead th {\n",
              "        text-align: right;\n",
              "    }\n",
              "</style>\n",
              "<table border=\"1\" class=\"dataframe\">\n",
              "  <thead>\n",
              "    <tr style=\"text-align: right;\">\n",
              "      <th></th>\n",
              "      <th>Model</th>\n",
              "      <th>MAE</th>\n",
              "      <th>MSE</th>\n",
              "      <th>RMSE</th>\n",
              "      <th>R²</th>\n",
              "    </tr>\n",
              "  </thead>\n",
              "  <tbody>\n",
              "    <tr>\n",
              "      <th>0</th>\n",
              "      <td>OLS</td>\n",
              "      <td>2.911923</td>\n",
              "      <td>14.114875</td>\n",
              "      <td>3.756977</td>\n",
              "      <td>0.970245</td>\n",
              "    </tr>\n",
              "    <tr>\n",
              "      <th>1</th>\n",
              "      <td>LASSO</td>\n",
              "      <td>2.903027</td>\n",
              "      <td>14.127289</td>\n",
              "      <td>3.758629</td>\n",
              "      <td>0.970219</td>\n",
              "    </tr>\n",
              "    <tr>\n",
              "      <th>2</th>\n",
              "      <td>Ridge</td>\n",
              "      <td>2.911922</td>\n",
              "      <td>14.114874</td>\n",
              "      <td>3.756977</td>\n",
              "      <td>0.970245</td>\n",
              "    </tr>\n",
              "    <tr>\n",
              "      <th>3</th>\n",
              "      <td>Elastic Net</td>\n",
              "      <td>2.903675</td>\n",
              "      <td>14.188898</td>\n",
              "      <td>3.766815</td>\n",
              "      <td>0.970089</td>\n",
              "    </tr>\n",
              "    <tr>\n",
              "      <th>4</th>\n",
              "      <td>Bootstrapped_RandomForest</td>\n",
              "      <td>0.001931</td>\n",
              "      <td>0.005222</td>\n",
              "      <td>0.072264</td>\n",
              "      <td>0.999989</td>\n",
              "    </tr>\n",
              "    <tr>\n",
              "      <th>5</th>\n",
              "      <td>DecisionTree</td>\n",
              "      <td>0.000581</td>\n",
              "      <td>0.002239</td>\n",
              "      <td>0.047316</td>\n",
              "      <td>0.999995</td>\n",
              "    </tr>\n",
              "    <tr>\n",
              "      <th>6</th>\n",
              "      <td>NeuralNetwork</td>\n",
              "      <td>0.223509</td>\n",
              "      <td>0.193810</td>\n",
              "      <td>0.440239</td>\n",
              "      <td>0.999591</td>\n",
              "    </tr>\n",
              "  </tbody>\n",
              "</table>\n",
              "</div>\n",
              "    <div class=\"colab-df-buttons\">\n",
              "\n",
              "  <div class=\"colab-df-container\">\n",
              "    <button class=\"colab-df-convert\" onclick=\"convertToInteractive('df-89b54050-afca-4a96-afe2-1407eb9b67df')\"\n",
              "            title=\"Convert this dataframe to an interactive table.\"\n",
              "            style=\"display:none;\">\n",
              "\n",
              "  <svg xmlns=\"http://www.w3.org/2000/svg\" height=\"24px\" viewBox=\"0 -960 960 960\">\n",
              "    <path d=\"M120-120v-720h720v720H120Zm60-500h600v-160H180v160Zm220 220h160v-160H400v160Zm0 220h160v-160H400v160ZM180-400h160v-160H180v160Zm440 0h160v-160H620v160ZM180-180h160v-160H180v160Zm440 0h160v-160H620v160Z\"/>\n",
              "  </svg>\n",
              "    </button>\n",
              "\n",
              "  <style>\n",
              "    .colab-df-container {\n",
              "      display:flex;\n",
              "      gap: 12px;\n",
              "    }\n",
              "\n",
              "    .colab-df-convert {\n",
              "      background-color: #E8F0FE;\n",
              "      border: none;\n",
              "      border-radius: 50%;\n",
              "      cursor: pointer;\n",
              "      display: none;\n",
              "      fill: #1967D2;\n",
              "      height: 32px;\n",
              "      padding: 0 0 0 0;\n",
              "      width: 32px;\n",
              "    }\n",
              "\n",
              "    .colab-df-convert:hover {\n",
              "      background-color: #E2EBFA;\n",
              "      box-shadow: 0px 1px 2px rgba(60, 64, 67, 0.3), 0px 1px 3px 1px rgba(60, 64, 67, 0.15);\n",
              "      fill: #174EA6;\n",
              "    }\n",
              "\n",
              "    .colab-df-buttons div {\n",
              "      margin-bottom: 4px;\n",
              "    }\n",
              "\n",
              "    [theme=dark] .colab-df-convert {\n",
              "      background-color: #3B4455;\n",
              "      fill: #D2E3FC;\n",
              "    }\n",
              "\n",
              "    [theme=dark] .colab-df-convert:hover {\n",
              "      background-color: #434B5C;\n",
              "      box-shadow: 0px 1px 3px 1px rgba(0, 0, 0, 0.15);\n",
              "      filter: drop-shadow(0px 1px 2px rgba(0, 0, 0, 0.3));\n",
              "      fill: #FFFFFF;\n",
              "    }\n",
              "  </style>\n",
              "\n",
              "    <script>\n",
              "      const buttonEl =\n",
              "        document.querySelector('#df-89b54050-afca-4a96-afe2-1407eb9b67df button.colab-df-convert');\n",
              "      buttonEl.style.display =\n",
              "        google.colab.kernel.accessAllowed ? 'block' : 'none';\n",
              "\n",
              "      async function convertToInteractive(key) {\n",
              "        const element = document.querySelector('#df-89b54050-afca-4a96-afe2-1407eb9b67df');\n",
              "        const dataTable =\n",
              "          await google.colab.kernel.invokeFunction('convertToInteractive',\n",
              "                                                    [key], {});\n",
              "        if (!dataTable) return;\n",
              "\n",
              "        const docLinkHtml = 'Like what you see? Visit the ' +\n",
              "          '<a target=\"_blank\" href=https://colab.research.google.com/notebooks/data_table.ipynb>data table notebook</a>'\n",
              "          + ' to learn more about interactive tables.';\n",
              "        element.innerHTML = '';\n",
              "        dataTable['output_type'] = 'display_data';\n",
              "        await google.colab.output.renderOutput(dataTable, element);\n",
              "        const docLink = document.createElement('div');\n",
              "        docLink.innerHTML = docLinkHtml;\n",
              "        element.appendChild(docLink);\n",
              "      }\n",
              "    </script>\n",
              "  </div>\n",
              "\n",
              "\n",
              "<div id=\"df-726bd63f-f6fe-4f62-b8a8-ce844a418879\">\n",
              "  <button class=\"colab-df-quickchart\" onclick=\"quickchart('df-726bd63f-f6fe-4f62-b8a8-ce844a418879')\"\n",
              "            title=\"Suggest charts\"\n",
              "            style=\"display:none;\">\n",
              "\n",
              "<svg xmlns=\"http://www.w3.org/2000/svg\" height=\"24px\"viewBox=\"0 0 24 24\"\n",
              "     width=\"24px\">\n",
              "    <g>\n",
              "        <path d=\"M19 3H5c-1.1 0-2 .9-2 2v14c0 1.1.9 2 2 2h14c1.1 0 2-.9 2-2V5c0-1.1-.9-2-2-2zM9 17H7v-7h2v7zm4 0h-2V7h2v10zm4 0h-2v-4h2v4z\"/>\n",
              "    </g>\n",
              "</svg>\n",
              "  </button>\n",
              "\n",
              "<style>\n",
              "  .colab-df-quickchart {\n",
              "      --bg-color: #E8F0FE;\n",
              "      --fill-color: #1967D2;\n",
              "      --hover-bg-color: #E2EBFA;\n",
              "      --hover-fill-color: #174EA6;\n",
              "      --disabled-fill-color: #AAA;\n",
              "      --disabled-bg-color: #DDD;\n",
              "  }\n",
              "\n",
              "  [theme=dark] .colab-df-quickchart {\n",
              "      --bg-color: #3B4455;\n",
              "      --fill-color: #D2E3FC;\n",
              "      --hover-bg-color: #434B5C;\n",
              "      --hover-fill-color: #FFFFFF;\n",
              "      --disabled-bg-color: #3B4455;\n",
              "      --disabled-fill-color: #666;\n",
              "  }\n",
              "\n",
              "  .colab-df-quickchart {\n",
              "    background-color: var(--bg-color);\n",
              "    border: none;\n",
              "    border-radius: 50%;\n",
              "    cursor: pointer;\n",
              "    display: none;\n",
              "    fill: var(--fill-color);\n",
              "    height: 32px;\n",
              "    padding: 0;\n",
              "    width: 32px;\n",
              "  }\n",
              "\n",
              "  .colab-df-quickchart:hover {\n",
              "    background-color: var(--hover-bg-color);\n",
              "    box-shadow: 0 1px 2px rgba(60, 64, 67, 0.3), 0 1px 3px 1px rgba(60, 64, 67, 0.15);\n",
              "    fill: var(--button-hover-fill-color);\n",
              "  }\n",
              "\n",
              "  .colab-df-quickchart-complete:disabled,\n",
              "  .colab-df-quickchart-complete:disabled:hover {\n",
              "    background-color: var(--disabled-bg-color);\n",
              "    fill: var(--disabled-fill-color);\n",
              "    box-shadow: none;\n",
              "  }\n",
              "\n",
              "  .colab-df-spinner {\n",
              "    border: 2px solid var(--fill-color);\n",
              "    border-color: transparent;\n",
              "    border-bottom-color: var(--fill-color);\n",
              "    animation:\n",
              "      spin 1s steps(1) infinite;\n",
              "  }\n",
              "\n",
              "  @keyframes spin {\n",
              "    0% {\n",
              "      border-color: transparent;\n",
              "      border-bottom-color: var(--fill-color);\n",
              "      border-left-color: var(--fill-color);\n",
              "    }\n",
              "    20% {\n",
              "      border-color: transparent;\n",
              "      border-left-color: var(--fill-color);\n",
              "      border-top-color: var(--fill-color);\n",
              "    }\n",
              "    30% {\n",
              "      border-color: transparent;\n",
              "      border-left-color: var(--fill-color);\n",
              "      border-top-color: var(--fill-color);\n",
              "      border-right-color: var(--fill-color);\n",
              "    }\n",
              "    40% {\n",
              "      border-color: transparent;\n",
              "      border-right-color: var(--fill-color);\n",
              "      border-top-color: var(--fill-color);\n",
              "    }\n",
              "    60% {\n",
              "      border-color: transparent;\n",
              "      border-right-color: var(--fill-color);\n",
              "    }\n",
              "    80% {\n",
              "      border-color: transparent;\n",
              "      border-right-color: var(--fill-color);\n",
              "      border-bottom-color: var(--fill-color);\n",
              "    }\n",
              "    90% {\n",
              "      border-color: transparent;\n",
              "      border-bottom-color: var(--fill-color);\n",
              "    }\n",
              "  }\n",
              "</style>\n",
              "\n",
              "  <script>\n",
              "    async function quickchart(key) {\n",
              "      const quickchartButtonEl =\n",
              "        document.querySelector('#' + key + ' button');\n",
              "      quickchartButtonEl.disabled = true;  // To prevent multiple clicks.\n",
              "      quickchartButtonEl.classList.add('colab-df-spinner');\n",
              "      try {\n",
              "        const charts = await google.colab.kernel.invokeFunction(\n",
              "            'suggestCharts', [key], {});\n",
              "      } catch (error) {\n",
              "        console.error('Error during call to suggestCharts:', error);\n",
              "      }\n",
              "      quickchartButtonEl.classList.remove('colab-df-spinner');\n",
              "      quickchartButtonEl.classList.add('colab-df-quickchart-complete');\n",
              "    }\n",
              "    (() => {\n",
              "      let quickchartButtonEl =\n",
              "        document.querySelector('#df-726bd63f-f6fe-4f62-b8a8-ce844a418879 button');\n",
              "      quickchartButtonEl.style.display =\n",
              "        google.colab.kernel.accessAllowed ? 'block' : 'none';\n",
              "    })();\n",
              "  </script>\n",
              "</div>\n",
              "    </div>\n",
              "  </div>\n"
            ],
            "application/vnd.google.colaboratory.intrinsic+json": {
              "type": "dataframe",
              "variable_name": "comparison_df",
              "summary": "{\n  \"name\": \"comparison_df\",\n  \"rows\": 7,\n  \"fields\": [\n    {\n      \"column\": \"Model\",\n      \"properties\": {\n        \"dtype\": \"string\",\n        \"num_unique_values\": 7,\n        \"samples\": [\n          \"OLS\",\n          \"LASSO\",\n          \"DecisionTree\"\n        ],\n        \"semantic_type\": \"\",\n        \"description\": \"\"\n      }\n    },\n    {\n      \"column\": \"MAE\",\n      \"properties\": {\n        \"dtype\": \"number\",\n        \"std\": 1.5157417908148172,\n        \"min\": 0.0005810008481944131,\n        \"max\": 2.911922858456836,\n        \"num_unique_values\": 7,\n        \"samples\": [\n          2.911922858456836,\n          2.9030270511305725,\n          0.0005810008481944131\n        ],\n        \"semantic_type\": \"\",\n        \"description\": \"\"\n      }\n    },\n    {\n      \"column\": \"MSE\",\n      \"properties\": {\n        \"dtype\": \"number\",\n        \"std\": 7.520715965500225,\n        \"min\": 0.002238761662425785,\n        \"max\": 14.188897986057686,\n        \"num_unique_values\": 7,\n        \"samples\": [\n          14.11487518241943,\n          14.127289109492613,\n          0.002238761662425785\n        ],\n        \"semantic_type\": \"\",\n        \"description\": \"\"\n      }\n    },\n    {\n      \"column\": \"RMSE\",\n      \"properties\": {\n        \"dtype\": \"number\",\n        \"std\": 1.9142008102647088,\n        \"min\": 0.04731555412785298,\n        \"max\": 3.766815363945741,\n        \"num_unique_values\": 7,\n        \"samples\": [\n          3.7569768674320354,\n          3.7586286208526394,\n          0.04731555412785298\n        ],\n        \"semantic_type\": \"\",\n        \"description\": \"\"\n      }\n    },\n    {\n      \"column\": \"R\\u00b2\",\n      \"properties\": {\n        \"dtype\": \"number\",\n        \"std\": 0.015854090506689438,\n        \"min\": 0.9700890082948134,\n        \"max\": 0.9999952805650177,\n        \"num_unique_values\": 7,\n        \"samples\": [\n          0.9702450525110586,\n          0.9702188832574576,\n          0.9999952805650177\n        ],\n        \"semantic_type\": \"\",\n        \"description\": \"\"\n      }\n    }\n  ]\n}"
            }
          },
          "metadata": {},
          "execution_count": 40
        }
      ]
    },
    {
      "cell_type": "markdown",
      "source": [
        "**6. Interpretation**:\n",
        "\n",
        "\n",
        "The comparative analysis of the models indicates that the Bootstrapped Random Forest and Decision Tree exhibit superior performance with the lowest Mean Absolute Error (MAE), Mean Squared Error (MSE), and Root Mean Squared Error (RMSE), alongside near-perfect R-squared (R²) values. These models outperform the linear models (OLS, LASSO, Ridge, and Elastic Net) on the test data.\n",
        "\n",
        "**Consequently, the significant features identified by the Bootstrapped Random Forest and Decision Tree models will be pivotal in informing the conclusions of our report.**"
      ],
      "metadata": {
        "id": "SLXP42xnkJqR"
      },
      "id": "SLXP42xnkJqR"
    },
    {
      "cell_type": "markdown",
      "source": [
        "## 7a. Further Analysis of Decison Tree Model"
      ],
      "metadata": {
        "id": "Zl-W8wNc3i_f"
      },
      "id": "Zl-W8wNc3i_f"
    },
    {
      "cell_type": "code",
      "source": [
        "from sklearn.tree import plot_tree\n",
        "# Convert the column index to a list\n",
        "feature_names_list = X.columns.tolist()\n",
        "\n",
        "# Visualize the tree\n",
        "plt.figure(figsize=(20,10))\n",
        "plot_tree(dt_regressor, filled=True, feature_names=feature_names_list, rounded=True)\n",
        "plt.show()"
      ],
      "metadata": {
        "id": "2Sd-GQXshHpf",
        "colab": {
          "base_uri": "https://localhost:8080/",
          "height": 516
        },
        "outputId": "1adeb3ec-f324-4cf3-acf0-b6f11dbcd83a"
      },
      "id": "2Sd-GQXshHpf",
      "execution_count": null,
      "outputs": [
        {
          "output_type": "display_data",
          "data": {
            "text/plain": [
              "<Figure size 2000x1000 with 1 Axes>"
            ],
            "image/png": "[encoded data removed]"
          },
          "metadata": {}
        }
      ]
    },
    {
      "cell_type": "markdown",
      "source": [
        "**7a. Interpretation**:\n",
        "\n",
        "Based on above, top features that are important are anomaly_low_risk, purchase_pattern_focused, anomaly_moderate_risk, hour_of_day, transaction_type_sale, transaction_type_purchase. And there are most that half of the features did not contribute to the decision tree. To be less prone to the risk of overfitting, we are using bootstrapped random forest below to continue of the modeling."
      ],
      "metadata": {
        "id": "JWanH9sUDzP1"
      },
      "id": "JWanH9sUDzP1"
    },
    {
      "cell_type": "code",
      "source": [
        "# Extract feature importances from the model\n",
        "importances = dt_regressor.feature_importances_\n",
        "\n",
        "# Convert to a Series for convenient viewing\n",
        "importances_series = pd.Series(importances, index=feature_names_list)\n",
        "\n",
        "# Sort the feature importances for better visualization\n",
        "sorted_importances = importances_series.sort_values(ascending=False)\n",
        "\n",
        "# Print the sorted importances\n",
        "print(sorted_importances)"
      ],
      "metadata": {
        "colab": {
          "base_uri": "https://localhost:8080/"
        },
        "id": "F5gq8IYjDAR4",
        "outputId": "d13c1642-79e8-448b-d6ab-8632d40caca1"
      },
      "id": "F5gq8IYjDAR4",
      "execution_count": null,
      "outputs": [
        {
          "output_type": "stream",
          "name": "stdout",
          "text": [
            "anomaly_low_risk                 0.667411\n",
            "purchase_pattern_focused         0.118958\n",
            "anomaly_moderate_risk            0.081091\n",
            "hour_of_day                      0.037995\n",
            "transaction_type_sale            0.034314\n",
            "transaction_type_purchase        0.030509\n",
            "amount                           0.015613\n",
            "login_frequency                  0.004885\n",
            "purchase_pattern_random          0.003683\n",
            "transaction_type_transfer        0.002563\n",
            "purchase_pattern_high_value      0.001629\n",
            "age_group_veteran                0.000752\n",
            "transaction_type_scam            0.000596\n",
            "ip_prefix_192.0                  0.000000\n",
            "receiving_address                0.000000\n",
            "anomaly_high_risk                0.000000\n",
            "age_group_new                    0.000000\n",
            "age_group_established            0.000000\n",
            "ip_prefix_192.168                0.000000\n",
            "ip_prefix_172.0                  0.000000\n",
            "ip_prefix_172.16                 0.000000\n",
            "session_duration                 0.000000\n",
            "ip_prefix_10.0                   0.000000\n",
            "sending_address                  0.000000\n",
            "location_region_North America    0.000000\n",
            "location_region_Europe           0.000000\n",
            "location_region_Asia             0.000000\n",
            "location_region_Africa           0.000000\n",
            "transaction_type_phishing        0.000000\n",
            "location_region_South America    0.000000\n",
            "dtype: float64\n"
          ]
        }
      ]
    },
    {
      "cell_type": "markdown",
      "source": [
        "**7a. Interpretation**:\n",
        "\n",
        "The variable 'anomaly_low_risk' emerged with the highest importance score, accounting for approximately 66.74% of the model's predictive power, suggesting it has the most significant impact on the outcome. Notably, 'purchase_pattern_focused' and 'anomaly_moderate_risk' also showed considerable influence with importance scores of about 11.90% and 8.11% respectively. 'Hour_of_day' and transaction-related variables such as 'transaction_type_sale' and 'transaction_type_purchase' were identified as other impactful predictors, albeit to a lesser extent. Interestingly, several variables, including various IP prefixes, transaction types like 'scam' and 'phishing,' as well as all location regions and the 'sending_address,' did not contribute to the model's decision-making, reflecting zero importance."
      ],
      "metadata": {
        "id": "RLaIF1jZ4Q00"
      },
      "id": "RLaIF1jZ4Q00"
    },
    {
      "cell_type": "markdown",
      "source": [
        "## 7b. Further Analysis of Bootstrappped Random Forest"
      ],
      "metadata": {
        "id": "48CE2hHi4cAI"
      },
      "id": "48CE2hHi4cAI"
    },
    {
      "cell_type": "code",
      "source": [
        "# Compute Permutation Feature Importance\n",
        "from sklearn.inspection import permutation_importance\n",
        "result = permutation_importance(rf_model, X_test_scaled, y_test, n_repeats=10, random_state=1)\n",
        "feature_importances_perm = result.importances_mean\n",
        "\n",
        "print(\"Feature importances using PFI: \", feature_importances_perm)"
      ],
      "metadata": {
        "id": "5SaixxHIhP0X",
        "colab": {
          "base_uri": "https://localhost:8080/"
        },
        "outputId": "1eba2e71-7d77-4d5b-8ace-c639b50d5ddd"
      },
      "id": "5SaixxHIhP0X",
      "execution_count": null,
      "outputs": [
        {
          "output_type": "stream",
          "name": "stdout",
          "text": [
            "Feature importances using PFI:  [9.60119689e-02 0.00000000e+00 0.00000000e+00 3.52560640e-02\n",
            " 1.39147510e-03 1.32784653e-03 5.49261035e-04 6.93042628e-02\n",
            " 1.13147416e-01 6.35562565e-04 5.10224312e-03 0.00000000e+00\n",
            " 0.00000000e+00 0.00000000e+00 0.00000000e+00 0.00000000e+00\n",
            " 0.00000000e+00 0.00000000e+00 0.00000000e+00 0.00000000e+00\n",
            " 0.00000000e+00 6.05163623e-02 3.06113830e-03 8.38024551e-04\n",
            " 9.76723572e-02 1.48538174e-03 2.01188935e-03 1.43598675e-02\n",
            " 1.50679874e+00 4.16591589e-02]\n"
          ]
        }
      ]
    },
    {
      "cell_type": "code",
      "source": [
        "# Get the indices of the importances in descending order\n",
        "sorted_indices = np.argsort(feature_importances_perm)[::-1]\n",
        "\n",
        "# Print the feature ranking\n",
        "print(\"Feature ranking:\")\n",
        "for i in sorted_indices:\n",
        "    print(f\"{X.columns[i]}: {feature_importances_perm[i]}\")"
      ],
      "metadata": {
        "id": "2BR5Tc5xhRZY",
        "colab": {
          "base_uri": "https://localhost:8080/"
        },
        "outputId": "77a61a8e-6619-4ca6-9f48-34535e60f42f"
      },
      "id": "2BR5Tc5xhRZY",
      "execution_count": null,
      "outputs": [
        {
          "output_type": "stream",
          "name": "stdout",
          "text": [
            "Feature ranking:\n",
            "anomaly_low_risk: 1.5067987407615107\n",
            "transaction_type_sale: 0.11314741586381705\n",
            "age_group_established: 0.09767235721721106\n",
            "hour_of_day: 0.09601196894926678\n",
            "transaction_type_purchase: 0.06930426275585325\n",
            "purchase_pattern_focused: 0.06051636234208463\n",
            "anomaly_moderate_risk: 0.041659158927582686\n",
            "amount: 0.03525606404648224\n",
            "anomaly_high_risk: 0.014359867541898042\n",
            "transaction_type_transfer: 0.005102243121002692\n",
            "purchase_pattern_high_value: 0.003061138297810395\n",
            "age_group_veteran: 0.002011889345915496\n",
            "age_group_new: 0.0014853817391844548\n",
            "login_frequency: 0.001391475100205941\n",
            "session_duration: 0.0013278465297946519\n",
            "purchase_pattern_random: 0.0008380245511421358\n",
            "transaction_type_scam: 0.0006355625652014641\n",
            "transaction_type_phishing: 0.0005492610351211958\n",
            "sending_address: 0.0\n",
            "receiving_address: 0.0\n",
            "location_region_Africa: 0.0\n",
            "location_region_Asia: 0.0\n",
            "location_region_Europe: 0.0\n",
            "location_region_South America: 0.0\n",
            "ip_prefix_10.0: 0.0\n",
            "ip_prefix_172.0: 0.0\n",
            "ip_prefix_172.16: 0.0\n",
            "ip_prefix_192.0: 0.0\n",
            "ip_prefix_192.168: 0.0\n",
            "location_region_North America: 0.0\n"
          ]
        }
      ]
    },
    {
      "cell_type": "markdown",
      "source": [
        "**7b. Interpretation**:\n",
        "\n",
        "We employ Permutation Feature Importance (PFI) as a methodological approach to quantify the significance of individual predictors within our model by observing the increase in prediction error following the random permutation of each feature's values. Through this technique, we have identified several key features that demonstrably influence the model's predictive accuracy. Notably, the features classified as 'anomaly_low_risk', 'transaction_type_sale', 'age_group_established', 'hour_of_day', 'transaction_type_purchase', and 'purchase_pattern_focused' emerged as particularly pivotal. Among these, with the exception of 'anomaly_low_risk'—whose critical importance is somewhat intuitive—the features 'purchase_pattern_focused', 'hour_of_day', 'transaction_type_purchase', and 'transaction_type_sale' have been consistently identified as integral to the model’s performance across both models examined. This consistent recognition underscores their fundamental role in enhancing the model's predictive capability, highlighting the nuanced dynamics that drive model accuracy and the complex interplay of factors influencing risk assessment."
      ],
      "metadata": {
        "id": "U-bSvgA0Fvxy"
      },
      "id": "U-bSvgA0Fvxy"
    }
  ],
  "metadata": {
    "kernelspec": {
      "display_name": "Python 3 (ipykernel)",
      "language": "python",
      "name": "python3"
    },
    "language_info": {
      "codemirror_mode": {
        "name": "ipython",
        "version": 3
      },
      "file_extension": ".py",
      "mimetype": "text/x-python",
      "name": "python",
      "nbconvert_exporter": "python",
      "pygments_lexer": "ipython3",
      "version": "3.9.12"
    },
    "colab": {
      "provenance": []
    }
  },
  "nbformat": 4,
  "nbformat_minor": 5
}